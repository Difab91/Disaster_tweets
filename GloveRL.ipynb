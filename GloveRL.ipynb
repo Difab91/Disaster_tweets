{
 "cells": [
  {
   "cell_type": "markdown",
   "metadata": {
    "application/vnd.databricks.v1+cell": {
     "cellMetadata": {
      "byteLimit": 2048000,
      "rowLimit": 10000
     },
     "inputWidgets": {},
     "nuid": "b886b288-f439-4926-b705-3e10bd7f0eb3",
     "showTitle": false,
     "tableResultSettingsMap": {},
     "title": ""
    }
   },
   "source": [
    "#TWEETS DISASTER"
   ]
  },
  {
   "cell_type": "markdown",
   "metadata": {
    "application/vnd.databricks.v1+cell": {
     "cellMetadata": {
      "byteLimit": 2048000,
      "rowLimit": 10000
     },
     "inputWidgets": {},
     "nuid": "91a137a2-2321-4816-bbfd-f4f2514ab99d",
     "showTitle": false,
     "tableResultSettingsMap": {},
     "title": ""
    }
   },
   "source": [
    "Spark session"
   ]
  },
  {
   "cell_type": "code",
   "execution_count": 0,
   "metadata": {
    "application/vnd.databricks.v1+cell": {
     "cellMetadata": {
      "byteLimit": 2048000,
      "rowLimit": 10000
     },
     "inputWidgets": {},
     "nuid": "25190c75-53fc-4afc-8593-8e6b5b2f11a0",
     "showTitle": false,
     "tableResultSettingsMap": {},
     "title": ""
    }
   },
   "outputs": [
    {
     "output_type": "display_data",
     "data": {
      "text/html": [
       "\n",
       "            <div>\n",
       "                <p><b>SparkSession - hive</b></p>\n",
       "                \n",
       "        <div>\n",
       "            <p><b>SparkContext</b></p>\n",
       "\n",
       "            <p><a href=\"/?o=3156815320496620#setting/sparkui/1108-132418-wb16yobh/driver-8969189954130452211\">Spark UI</a></p>\n",
       "\n",
       "            <dl>\n",
       "              <dt>Version</dt>\n",
       "                <dd><code>v3.3.2</code></dd>\n",
       "              <dt>Master</dt>\n",
       "                <dd><code>local[8]</code></dd>\n",
       "              <dt>AppName</dt>\n",
       "                <dd><code>Databricks Shell</code></dd>\n",
       "            </dl>\n",
       "        </div>\n",
       "        \n",
       "            </div>\n",
       "        "
      ]
     },
     "metadata": {
      "application/vnd.databricks.v1+output": {
       "addedWidgets": {},
       "arguments": {},
       "data": "\n            <div>\n                <p><b>SparkSession - hive</b></p>\n                \n        <div>\n            <p><b>SparkContext</b></p>\n\n            <p><a href=\"/?o=3156815320496620#setting/sparkui/1108-132418-wb16yobh/driver-8969189954130452211\">Spark UI</a></p>\n\n            <dl>\n              <dt>Version</dt>\n                <dd><code>v3.3.2</code></dd>\n              <dt>Master</dt>\n                <dd><code>local[8]</code></dd>\n              <dt>AppName</dt>\n                <dd><code>Databricks Shell</code></dd>\n            </dl>\n        </div>\n        \n            </div>\n        ",
       "datasetInfos": [],
       "metadata": {},
       "removedWidgets": [],
       "textData": null,
       "type": "htmlSandbox"
      }
     },
     "output_type": "display_data"
    }
   ],
   "source": [
    "spark"
   ]
  },
  {
   "cell_type": "markdown",
   "metadata": {
    "application/vnd.databricks.v1+cell": {
     "cellMetadata": {
      "byteLimit": 2048000,
      "rowLimit": 10000
     },
     "inputWidgets": {},
     "nuid": "50775164-6c61-4398-bc5d-48cdca89f12b",
     "showTitle": false,
     "tableResultSettingsMap": {},
     "title": ""
    }
   },
   "source": [
    "install necessaire sur le cluster: \n",
    "\n",
    "my cluster > config > librairies > new lib > pyPI > sparl-nlp > install\n",
    "my cluster > config > librairies > new lib > maven > coordinaes > com.johnsnowlabs.nlp:spark-nlp_2.12:4.2.3 > install\n",
    "\n"
   ]
  },
  {
   "cell_type": "code",
   "execution_count": 0,
   "metadata": {
    "application/vnd.databricks.v1+cell": {
     "cellMetadata": {
      "byteLimit": 2048000,
      "rowLimit": 10000
     },
     "inputWidgets": {},
     "nuid": "a94e47f2-9dfe-42b3-acc9-cfca8f4555fa",
     "showTitle": false,
     "tableResultSettingsMap": {},
     "title": ""
    }
   },
   "outputs": [
    {
     "output_type": "stream",
     "name": "stdout",
     "output_type": "stream",
     "text": [
      "Python interpreter will be restarted.\nCollecting spark-nlp\n  Downloading spark_nlp-5.5.1-py2.py3-none-any.whl (626 kB)\nInstalling collected packages: spark-nlp\nSuccessfully installed spark-nlp-5.5.1\nPython interpreter will be restarted.\nPython interpreter will be restarted.\nCollecting openpyxl\n  Downloading openpyxl-3.1.5-py2.py3-none-any.whl (250 kB)\nCollecting et-xmlfile\n  Downloading et_xmlfile-2.0.0-py3-none-any.whl (18 kB)\nInstalling collected packages: et-xmlfile, openpyxl\nSuccessfully installed et-xmlfile-2.0.0 openpyxl-3.1.5\nPython interpreter will be restarted.\n"
     ]
    }
   ],
   "source": [
    "%pip install spark-nlp\n",
    "%pip install openpyxl\n",
    "\n",
    "\n"
   ]
  },
  {
   "cell_type": "markdown",
   "metadata": {
    "application/vnd.databricks.v1+cell": {
     "cellMetadata": {
      "byteLimit": 2048000,
      "rowLimit": 10000
     },
     "inputWidgets": {},
     "nuid": "6c4969d9-d15b-49e8-904a-ba4eb61748ac",
     "showTitle": false,
     "tableResultSettingsMap": {},
     "title": ""
    }
   },
   "source": [
    "Import necessaire"
   ]
  },
  {
   "cell_type": "code",
   "execution_count": 0,
   "metadata": {
    "application/vnd.databricks.v1+cell": {
     "cellMetadata": {
      "byteLimit": 2048000,
      "rowLimit": 10000
     },
     "inputWidgets": {},
     "nuid": "3d5a4ff6-9216-443e-b50e-8e9f6f131166",
     "showTitle": false,
     "tableResultSettingsMap": {},
     "title": ""
    }
   },
   "outputs": [],
   "source": [
    "\n"
   ]
  },
  {
   "cell_type": "markdown",
   "metadata": {
    "application/vnd.databricks.v1+cell": {
     "cellMetadata": {
      "byteLimit": 2048000,
      "rowLimit": 10000
     },
     "inputWidgets": {},
     "nuid": "06fd82ec-db36-4fd6-9c1b-fa9f41f415f1",
     "showTitle": false,
     "tableResultSettingsMap": {},
     "title": ""
    }
   },
   "source": [
    "chargement du dataframe"
   ]
  },
  {
   "cell_type": "code",
   "execution_count": 0,
   "metadata": {
    "application/vnd.databricks.v1+cell": {
     "cellMetadata": {
      "byteLimit": 2048000,
      "rowLimit": 10000
     },
     "inputWidgets": {},
     "nuid": "853f2c9c-626f-4b2c-9869-782984d6ef57",
     "showTitle": false,
     "tableResultSettingsMap": {},
     "title": ""
    }
   },
   "outputs": [
    {
     "output_type": "stream",
     "name": "stdout",
     "output_type": "stream",
     "text": [
      "Out[2]: [FileInfo(path='dbfs:/FileStore/tables/test.csv', name='test.csv', size=420783, modificationTime=1730799920000),\n FileInfo(path='dbfs:/FileStore/tables/train-1.csv', name='train-1.csv', size=987712, modificationTime=1730380438000),\n FileInfo(path='dbfs:/FileStore/tables/train-2.csv', name='train-2.csv', size=987712, modificationTime=1730795566000),\n FileInfo(path='dbfs:/FileStore/tables/train-3.csv', name='train-3.csv', size=987712, modificationTime=1730795608000),\n FileInfo(path='dbfs:/FileStore/tables/train.csv', name='train.csv', size=987712, modificationTime=1730365543000)]"
     ]
    }
   ],
   "source": [
    "dbutils.fs.ls(\"/FileStore/tables\")\n"
   ]
  },
  {
   "cell_type": "code",
   "execution_count": 0,
   "metadata": {
    "application/vnd.databricks.v1+cell": {
     "cellMetadata": {
      "byteLimit": 2048000,
      "rowLimit": 10000
     },
     "inputWidgets": {},
     "nuid": "482e3fea-947c-4e9a-a6e8-be0fcb60ec45",
     "showTitle": false,
     "tableResultSettingsMap": {},
     "title": ""
    }
   },
   "outputs": [
    {
     "output_type": "stream",
     "name": "stdout",
     "output_type": "stream",
     "text": [
      "+---+-------+--------+--------------------+------+\n| id|keyword|location|                text|target|\n+---+-------+--------+--------------------+------+\n|  1|   null|    null|Our Deeds are the...|     1|\n|  4|   null|    null|Forest fire near ...|     1|\n|  5|   null|    null|All residents ask...|     1|\n|  6|   null|    null|13,000 people rec...|     1|\n|  7|   null|    null|Just got sent thi...|     1|\n|  8|   null|    null|#RockyFire Update...|     1|\n| 10|   null|    null|#flood #disaster ...|     1|\n| 13|   null|    null|I'm on top of the...|     1|\n| 14|   null|    null|There's an emerge...|     1|\n| 15|   null|    null|I'm afraid that t...|     1|\n| 16|   null|    null|Three people died...|     1|\n| 17|   null|    null|Haha South Tampa ...|     1|\n| 18|   null|    null|#raining #floodin...|     1|\n| 19|   null|    null|#Flood in Bago My...|     1|\n| 20|   null|    null|Damage to school ...|     1|\n| 23|   null|    null|      What's up man?|     0|\n| 24|   null|    null|       I love fruits|     0|\n| 25|   null|    null|    Summer is lovely|     0|\n| 26|   null|    null|   My car is so fast|     0|\n| 28|   null|    null|What a goooooooaa...|     0|\n+---+-------+--------+--------------------+------+\nonly showing top 20 rows\n\n"
     ]
    }
   ],
   "source": [
    "from pyspark.sql.functions import lit\n",
    "\n",
    "df_train = spark.read.format(\"csv\").option(\"header\", True) \\\n",
    "                     .load(\"/FileStore/tables/train.csv\")\n",
    "\n",
    "df_train.show(20)\n"
   ]
  },
  {
   "cell_type": "code",
   "execution_count": 0,
   "metadata": {
    "application/vnd.databricks.v1+cell": {
     "cellMetadata": {
      "byteLimit": 2048000,
      "rowLimit": 10000
     },
     "inputWidgets": {},
     "nuid": "6ac5b19f-a86b-4b9d-9132-8e5cdb97eb76",
     "showTitle": false,
     "tableResultSettingsMap": {},
     "title": ""
    }
   },
   "outputs": [
    {
     "output_type": "stream",
     "name": "stdout",
     "output_type": "stream",
     "text": [
      "argon2-cffi==21.3.0\nargon2-cffi-bindings==21.2.0\nasttokens==2.0.5\nattrs==21.4.0\nbackcall==0.2.0\nbackports.entry-points-selectable==1.2.0\nbeautifulsoup4==4.11.1\nblack==22.3.0\nbleach==4.1.0\nboto3==1.21.32\nbotocore==1.24.32\ncertifi==2021.10.8\ncffi==1.15.0\nchardet==4.0.0\ncharset-normalizer==2.0.4\nclick==8.0.4\ncryptography==3.4.8\ncycler==0.11.0\nCython==0.29.28\ndbus-python==1.2.16\ndebugpy==1.5.1\ndecorator==5.1.1\ndefusedxml==0.7.1\ndistlib==0.3.6\ndistro==1.4.0\ndistro-info==0.23+ubuntu1.1\ndocstring-to-markdown==0.11\nentrypoints==0.4\net_xmlfile==2.0.0\nexecuting==0.8.3\nfacets-overview==1.0.0\nfastjsonschema==2.16.2\nfilelock==3.9.0\nfonttools==4.25.0\nidna==3.3\nipykernel==6.15.3\nipython==8.5.0\nipython-genutils==0.2.0\nipywidgets==7.7.2\njedi==0.18.1\nJinja2==2.11.3\njmespath==0.10.0\njoblib==1.1.1\njsonschema==4.4.0\njupyter-client==6.1.12\njupyter_core==4.11.2\njupyterlab-pygments==0.1.2\njupyterlab-widgets==1.0.0\nkiwisolver==1.3.2\nMarkupSafe==2.0.1\nmatplotlib==3.5.1\nmatplotlib-inline==0.1.2\nmccabe==0.7.0\nmistune==0.8.4\nmypy-extensions==0.4.3\nnbclient==0.5.13\nnbconvert==6.4.4\nnbformat==5.3.0\nnest-asyncio==1.5.5\nnodeenv==1.7.0\nnotebook==6.4.8\nnumpy==1.21.5\nopenpyxl==3.1.5\npackaging==21.3\npandas==1.4.2\npandocfilters==1.5.0\nparso==0.8.3\npathspec==0.9.0\npatsy==0.5.2\npexpect==4.8.0\npickleshare==0.7.5\nPillow==9.0.1\nplatformdirs==2.6.2\nplotly==5.6.0\npluggy==1.0.0\nprometheus-client==0.13.1\nprompt-toolkit==3.0.20\nprotobuf==3.19.4\npsutil==5.8.0\npsycopg2==2.9.3\nptyprocess==0.7.0\npure-eval==0.2.2\npyarrow==7.0.0\npyarrow-hotfix==0.5\npycparser==2.21\npyflakes==2.5.0\nPygments==2.11.2\nPyGObject==3.36.0\npyodbc==4.0.32\npyparsing==3.0.4\npyright==1.1.283\npyrsistent==0.18.0\npython-apt==2.0.1+ubuntu0.20.4.1\npython-dateutil==2.8.2\npython-lsp-jsonrpc==1.0.0\npython-lsp-server==1.6.0\npytz==2021.3\npyzmq==22.3.0\nrequests==2.27.1\nrequests-unixsocket==0.2.0\nrope==0.22.0\ns3transfer==0.5.0\nscikit-learn==1.0.2\nscipy==1.7.3\nseaborn==0.11.2\nSend2Trash==1.8.0\nsix==1.16.0\nsoupsieve==2.3.1\nspark-nlp==5.5.1\nssh-import-id==5.10\nstack-data==0.2.0\nstatsmodels==0.13.2\ntenacity==8.0.1\nterminado==0.13.1\ntestpath==0.5.0\nthreadpoolctl==2.2.0\ntokenize-rt==4.2.1\ntomli==1.2.2\ntornado==6.1\ntraitlets==5.1.1\ntyping_extensions==4.1.1\nujson==5.1.0\nunattended-upgrades==0.1\nurllib3==1.26.9\nvirtualenv==20.8.0\nwcwidth==0.2.5\nwebencodings==0.5.1\nwhatthepatch==1.0.4\nwidgetsnbextension==3.6.1\nyapf==0.31.0\n"
     ]
    }
   ],
   "source": [
    "%pip freeze"
   ]
  },
  {
   "cell_type": "markdown",
   "metadata": {
    "application/vnd.databricks.v1+cell": {
     "cellMetadata": {
      "byteLimit": 2048000,
      "rowLimit": 10000
     },
     "inputWidgets": {},
     "nuid": "1bb95df7-6236-4a90-9eec-42622fe86091",
     "showTitle": false,
     "tableResultSettingsMap": {},
     "title": ""
    }
   },
   "source": [
    "Trie, pré-traitement"
   ]
  },
  {
   "cell_type": "code",
   "execution_count": 0,
   "metadata": {
    "application/vnd.databricks.v1+cell": {
     "cellMetadata": {
      "byteLimit": 2048000,
      "rowLimit": 10000
     },
     "inputWidgets": {},
     "nuid": "ca4754d3-4920-4d12-950a-4c789d81ad0f",
     "showTitle": false,
     "tableResultSettingsMap": {},
     "title": ""
    }
   },
   "outputs": [],
   "source": [
    "from pyspark.sql import Window\n",
    "from pyspark.sql import functions as F\n",
    "\n",
    "\n",
    "# fonctions de tri \n",
    "\n",
    "def replace_text(df):\n",
    "    text_columns = [\"id\", \"keyword\", \"location\"]\n",
    "\n",
    " \n",
    "    new_text_value = F.coalesce(*[F.when(F.col(c).cast(\"string\").isNotNull() & (F.col(c) != \"\"), F.col(c)) for c in text_columns])\n",
    "\n",
    "    df = (df\n",
    "          .withColumn(\"text\", F.when(F.col(\"text\").isNull(), new_text_value).otherwise(F.col(\"text\")))\n",
    "          .withColumn(\"id\", F.when((F.col(\"text\") == F.col(\"id\")) & F.col(\"id\").cast(\"string\").isNotNull(), None).otherwise(F.col(\"id\")))\n",
    "          .withColumn(\"keyword\", F.when((F.col(\"text\") == F.col(\"keyword\")), None).otherwise(F.col(\"keyword\")))\n",
    "          .withColumn(\"location\", F.when((F.col(\"text\") == F.col(\"location\")), None).otherwise(F.col(\"location\")))\n",
    "         )\n",
    "    return df\n",
    "\n",
    "\n",
    "\n",
    "def replace_target(df):\n",
    "    \n",
    "    int_columns = [\"keyword\", \"location\", \"text\"]\n",
    "\n",
    "    \n",
    "    new_target_value = F.coalesce(*[F.when((F.col(c) == 0) | (F.col(c) == 1), F.col(c)) for c in int_columns])\n",
    "\n",
    "    df = (df\n",
    "          .withColumn(\"target\", F.when(F.col(\"target\").isNull(), new_target_value).otherwise(F.col(\"target\")))\n",
    "          .withColumn(\"keyword\", F.when((F.col(\"target\") == F.col(\"keyword\")), None).otherwise(F.col(\"keyword\")))\n",
    "          .withColumn(\"location\", F.when((F.col(\"target\") == F.col(\"location\")), None).otherwise(F.col(\"location\")))\n",
    "          .withColumn(\"text\", F.when((F.col(\"target\") == F.col(\"text\")), None).otherwise(F.col(\"text\"))))\n",
    "\n",
    "    return df\n",
    "\n",
    "def replace_location(df):\n",
    "    df = df.withColumn(\"location\", F.when(F.col(\"location\").contains(\"?\"), None).otherwise(F.col(\"location\")))\n",
    "    return df\n",
    "\n",
    "def drop_null_target(df):\n",
    "    df = df.filter(F.col(\"target\").isNotNull())\n",
    "    return df\n",
    "    \n",
    "def drop_null_text(df):\n",
    "    df = df.filter(F.col(\"text\").isNotNull())\n",
    "    return df\n",
    "\n",
    "\n",
    "\n",
    "def reset_ids(df):\n",
    "    \n",
    "    window_spec = Window.orderBy(F.lit(1))\n",
    "    df = df.withColumn(\"id\", F.row_number().over(window_spec))\n",
    "    return df\n"
   ]
  },
  {
   "cell_type": "code",
   "execution_count": 0,
   "metadata": {
    "application/vnd.databricks.v1+cell": {
     "cellMetadata": {
      "byteLimit": 2048000,
      "rowLimit": 10000
     },
     "inputWidgets": {},
     "nuid": "c75724ed-aaaf-4e57-95c7-5ec19c4a0388",
     "showTitle": false,
     "tableResultSettingsMap": {},
     "title": ""
    }
   },
   "outputs": [
    {
     "output_type": "stream",
     "name": "stdout",
     "output_type": "stream",
     "text": [
      "+----------------------------------+\n|sum(CAST((target IS NULL) AS INT))|\n+----------------------------------+\n|                              1211|\n+----------------------------------+\n\n+----------------------------------+\n|sum(CAST((target IS NULL) AS INT))|\n+----------------------------------+\n|                               775|\n+----------------------------------+\n\n+----+--------+--------------------+--------------------+------+\n|  id| keyword|            location|                text|target|\n+----+--------+--------------------+--------------------+------+\n|   1|    null|                null|Our Deeds are the...|     1|\n|   4|    null|                null|Forest fire near ...|     1|\n|   5|    null|                null|All residents ask...|     1|\n|   6|    null|                null|13,000 people rec...|     1|\n|   7|    null|                null|Just got sent thi...|     1|\n|   8|    null|                null|#RockyFire Update...|     1|\n|  10|    null|                null|#flood #disaster ...|     1|\n|  13|    null|                null|I'm on top of the...|     1|\n|  14|    null|                null|There's an emerge...|     1|\n|  15|    null|                null|I'm afraid that t...|     1|\n|  16|    null|                null|Three people died...|     1|\n|  17|    null|                null|Haha South Tampa ...|     1|\n|  18|    null|                null|#raining #floodin...|     1|\n|  19|    null|                null|#Flood in Bago My...|     1|\n|  20|    null|                null|Damage to school ...|     1|\n|  23|    null|                null|      What's up man?|     0|\n|  24|    null|                null|       I love fruits|     0|\n|  25|    null|                null|    Summer is lovely|     0|\n|  26|    null|                null|   My car is so fast|     0|\n|  28|    null|                null|What a goooooooaa...|     0|\n|  31|    null|                null|this is ridiculou...|     0|\n|  32|    null|                null|   London is cool ;)|     0|\n|  33|    null|                null|         Love skiing|     0|\n|  34|    null|                null|What a wonderful ...|     0|\n|  36|    null|                null|            LOOOOOOL|     0|\n|  37|    null|                null|No way...I can't ...|     0|\n|  38|    null|                null|Was in NYC last w...|     0|\n|  39|    null|                null|  Love my girlfriend|     0|\n|  40|    null|                null|           Cooool :)|     0|\n|  41|    null|                null|  Do you like pasta?|     0|\n|  44|    null|                null|            The end!|     0|\n|  48|  ablaze|          Birmingham|@bbcmtd Wholesale...|     1|\n|  49|  ablaze|Est. September 20...|We always try to ...|     0|\n|  50|  ablaze|              AFRICA|#AFRICANBAZE: Bre...|     1|\n|  52|  ablaze|    Philadelphia, PA|Crying out for mo...|     0|\n|  53|  ablaze|          London, UK|On plus side LOOK...|     0|\n|  54|  ablaze|            Pretoria|@PhDSquares #mufc...|     0|\n|  55|  ablaze|        World Wide!!|INEC Office in Ab...|     1|\n|  56|  ablaze|                null|Barbados #Bridget...|     1|\n|  57|  ablaze|      Paranaque City|Ablaze for you Lo...|     0|\n|  59|  ablaze|      Live On Webcam|Check these out: ...|     0|\n|  61|  ablaze|                null|on the outside yo...|  null|\n|null|    null|                null|but you're dead i...|     0|\n|  62|  ablaze|           milky way|Had an awesome ti...|     0|\n|  63|  ablaze|                null|SOOOO PUMPED FOR ...|     0|\n|  64|  ablaze|                null|I wanted to set C...|     0|\n|  65|  ablaze|                null|I gained 3 follow...|     0|\n|  66|  ablaze|GREENSBORO,NORTH ...|How the West was ...|     1|\n|  67|  ablaze|                null|Building the perf...|     0|\n|  68|  ablaze|      Live On Webcam|Check these out: ...|     0|\n|  71|  ablaze|            England.|First night with ...|     0|\n|  73|  ablaze|Sheffield Townshi...|Deputies: Man sho...|     1|\n|  74|  ablaze|               India|Man wife get six ...|  null|\n|null|    null|                null|http://t.co/eV1ah...|     1|\n|  76|  ablaze|            Barbados|SANTA CRUZ ÛÓ He...|     0|\n|  77|  ablaze|             Anaheim|Police: Arsonist ...|     1|\n|  78|  ablaze|               Abuja|Noches El-Bestia ...|     0|\n|  79|  ablaze|                 USA|#Kurds trampling ...|     1|\n|  80|  ablaze|        South Africa|TRUCK ABLAZE : R2...|     1|\n|  81|  ablaze|   Sao Paulo, Brazil|Set our hearts ab...|     0|\n|  82|  ablaze|      hollywoodland |They sky was abla...|     0|\n|  83|  ablaze|Edmonton, Alberta...|How the West was ...|     1|\n|  85|  ablaze|                null|Revel in yours wm...|     0|\n|  86|  ablaze|    Inang Pamantasan|Progressive greet...|  null|\n|null|    null|                null|In about a month ...|     0|\n|  89|  ablaze|Twitter Lockout i...|Rene Ablaze &amp;...|     0|\n|  91|  ablaze|         Concord, CA|@Navista7 Steve t...|     1|\n|  92|  ablaze|         Calgary, AB|#NowPlaying: Rene...|     0|\n|  93|  ablaze|          Birmingham|@nxwestmidlands h...|     1|\n|  95|  ablaze|       San Francisco|@ablaze what time...|     0|\n|  96|accident|              CLVLND|'I can't have kid...|     0|\n|  97|accident|       Nashville, TN|Accident on I-24 ...|     1|\n|  98|accident|     Santa Clara, CA|Accident center l...|     1|\n| 100|accident|                  UK|http://t.co/GKYe6...|     0|\n| 102|accident|       St. Louis, MO|#stlouis #caracci...|     0|\n| 104|accident|Walker County, Al...|Reported motor ve...|     1|\n| 105|accident|           Australia|BigRigRadio Live ...|     1|\n| 107|accident|      North Carolina|I-77 Mile Marker ...|     1|\n| 109|accident|                null|RT @SleepJunkies:...|     0|\n| 110|accident|       Norf Carolina|'By accident' the...|     0|\n| 112|accident|San Mateo County, CA|Traffic accident ...|     1|\n| 113|accident|      North Carolina|I-77 Mile Marker ...|     1|\n| 114|accident|        Njoro, Kenya|the pastor was no...|     1|\n| 117|accident|                null|mom: 'we didn't g...|  null|\n|null|    null|                null|  me: 'why is that?'|  null|\n|null|    null|                null|mom: 'there was a...|     0|\n| 118|accident|Your Sister's Bed...|I was in a horrib...|     1|\n| 119|accident|                null|Can wait to see h...|     0|\n| 120|accident|       Arlington, TX|#TruckCrash Overt...|     1|\n| 121|accident|South Bloomfield, OH|Accident in #Ashv...|     1|\n| 126|accident|                null|Carolina accident...|     1|\n| 128|accident|New Hanover Count...|FYI CAD:FYI: ;ACC...|     1|\n| 129|accident|            Maldives|RT nAAYf: First a...|     1|\n| 130|accident|      Manchester, NH|Accident left lan...|     1|\n| 131|accident|      Wilmington, NC|;ACCIDENT PROPERT...|     1|\n| 132|accident|                null|???? it was an ac...|     0|\n| 133|accident|New Hanover Count...|FYI CAD:FYI: ;ACC...|     1|\n| 134|accident|                null|8/6/2015@2:09 PM:...|     1|\n| 135|accident|              global|Aashiqui Actress ...|     1|\n| 136|accident|Alberta | Sask. |...|Suffield Alberta ...|     1|\n+----+--------+--------------------+--------------------+------+\nonly showing top 100 rows\n\n"
     ]
    }
   ],
   "source": [
    "# on verifie\n",
    "df2=replace_text(df_train)\n",
    "null_count = df2.select(F.sum(F.col(\"target\").isNull().cast(\"int\"))).alias(\"null_count\")\n",
    "null_count.show()\n",
    "df3=replace_target(df2)\n",
    "null_count = df3.select(F.sum(F.col(\"target\").isNull().cast(\"int\"))).alias(\"null_count\")\n",
    "null_count.show()\n",
    "\n",
    "df3.show(100)"
   ]
  },
  {
   "cell_type": "code",
   "execution_count": 0,
   "metadata": {
    "application/vnd.databricks.v1+cell": {
     "cellMetadata": {
      "byteLimit": 2048000,
      "rowLimit": 10000
     },
     "inputWidgets": {},
     "nuid": "2d727072-8bb9-49d2-9333-d7f3c145a8c1",
     "showTitle": false,
     "tableResultSettingsMap": {},
     "title": ""
    }
   },
   "outputs": [],
   "source": [
    "def tri(df):\n",
    "    df = replace_text(df)  # remplace le text null, si il existe dans une des autres colonnes\n",
    "    df = replace_target(df) # remplace le target null si il existe dans une autre colonne\n",
    "    df = replace_location(df)  #supprime le contenue de location si il y'à au moin un \"?\"\n",
    "    df = drop_null_target(df) # supprime les target qui n'ont pas été remplacé car manquant\n",
    "    df = drop_null_text(df)   # supprime le text devenue nulle , si le target était à l'intérieur\n",
    "    df = reset_ids(df)  # Réinitialisation des IDs correctement\n",
    "    return df"
   ]
  },
  {
   "cell_type": "code",
   "execution_count": 0,
   "metadata": {
    "application/vnd.databricks.v1+cell": {
     "cellMetadata": {
      "byteLimit": 2048000,
      "rowLimit": 10000
     },
     "inputWidgets": {},
     "nuid": "ef918fa0-1667-44d3-90f1-235424e8afb0",
     "showTitle": false,
     "tableResultSettingsMap": {},
     "title": ""
    }
   },
   "outputs": [
    {
     "output_type": "stream",
     "name": "stdout",
     "output_type": "stream",
     "text": [
      "+---+-------------------+--------------------+--------------------+------+\n| id|            keyword|            location|                text|target|\n+---+-------------------+--------------------+--------------------+------+\n|  1|               null|                null|Our Deeds are the...|     1|\n|  2|               null|                null|Forest fire near ...|     1|\n|  3|               null|                null|All residents ask...|     1|\n|  4|               null|                null|13,000 people rec...|     1|\n|  5|               null|                null|Just got sent thi...|     1|\n|  6|               null|                null|#RockyFire Update...|     1|\n|  7|               null|                null|#flood #disaster ...|     1|\n|  8|               null|                null|I'm on top of the...|     1|\n|  9|               null|                null|There's an emerge...|     1|\n| 10|               null|                null|I'm afraid that t...|     1|\n| 11|               null|                null|Three people died...|     1|\n| 12|               null|                null|Haha South Tampa ...|     1|\n| 13|               null|                null|#raining #floodin...|     1|\n| 14|               null|                null|#Flood in Bago My...|     1|\n| 15|               null|                null|Damage to school ...|     1|\n| 16|               null|                null|      What's up man?|     0|\n| 17|               null|                null|       I love fruits|     0|\n| 18|               null|                null|    Summer is lovely|     0|\n| 19|               null|                null|   My car is so fast|     0|\n| 20|               null|                null|What a goooooooaa...|     0|\n| 21|               null|                null|this is ridiculou...|     0|\n| 22|               null|                null|   London is cool ;)|     0|\n| 23|               null|                null|         Love skiing|     0|\n| 24|               null|                null|What a wonderful ...|     0|\n| 25|               null|                null|            LOOOOOOL|     0|\n| 26|               null|                null|No way...I can't ...|     0|\n| 27|               null|                null|Was in NYC last w...|     0|\n| 28|               null|                null|  Love my girlfriend|     0|\n| 29|               null|                null|           Cooool :)|     0|\n| 30|               null|                null|  Do you like pasta?|     0|\n| 31|               null|                null|            The end!|     0|\n| 32|             ablaze|          Birmingham|@bbcmtd Wholesale...|     1|\n| 33|             ablaze|Est. September 20...|We always try to ...|     0|\n| 34|             ablaze|              AFRICA|#AFRICANBAZE: Bre...|     1|\n| 35|             ablaze|    Philadelphia, PA|Crying out for mo...|     0|\n| 36|             ablaze|          London, UK|On plus side LOOK...|     0|\n| 37|             ablaze|            Pretoria|@PhDSquares #mufc...|     0|\n| 38|             ablaze|        World Wide!!|INEC Office in Ab...|     1|\n| 39|             ablaze|                null|Barbados #Bridget...|     1|\n| 40|             ablaze|      Paranaque City|Ablaze for you Lo...|     0|\n| 41|             ablaze|      Live On Webcam|Check these out: ...|     0|\n| 42|               null|                null|but you're dead i...|     0|\n| 43|             ablaze|           milky way|Had an awesome ti...|     0|\n| 44|             ablaze|                null|SOOOO PUMPED FOR ...|     0|\n| 45|             ablaze|                null|I wanted to set C...|     0|\n| 46|             ablaze|                null|I gained 3 follow...|     0|\n| 47|             ablaze|GREENSBORO,NORTH ...|How the West was ...|     1|\n| 48|             ablaze|                null|Building the perf...|     0|\n| 49|             ablaze|      Live On Webcam|Check these out: ...|     0|\n| 50|             ablaze|            England.|First night with ...|     0|\n| 51|             ablaze|Sheffield Townshi...|Deputies: Man sho...|     1|\n| 52|               null|                null|http://t.co/eV1ah...|     1|\n| 53|             ablaze|            Barbados|SANTA CRUZ ÛÓ He...|     0|\n| 54|             ablaze|             Anaheim|Police: Arsonist ...|     1|\n| 55|             ablaze|               Abuja|Noches El-Bestia ...|     0|\n| 56|             ablaze|                 USA|#Kurds trampling ...|     1|\n| 57|             ablaze|        South Africa|TRUCK ABLAZE : R2...|     1|\n| 58|             ablaze|   Sao Paulo, Brazil|Set our hearts ab...|     0|\n| 59|             ablaze|      hollywoodland |They sky was abla...|     0|\n| 60|             ablaze|Edmonton, Alberta...|How the West was ...|     1|\n| 61|             ablaze|                null|Revel in yours wm...|     0|\n| 62|               null|                null|In about a month ...|     0|\n| 63|             ablaze|Twitter Lockout i...|Rene Ablaze &amp;...|     0|\n| 64|             ablaze|         Concord, CA|@Navista7 Steve t...|     1|\n| 65|             ablaze|         Calgary, AB|#NowPlaying: Rene...|     0|\n| 66|             ablaze|          Birmingham|@nxwestmidlands h...|     1|\n| 67|             ablaze|       San Francisco|@ablaze what time...|     0|\n| 68|           accident|              CLVLND|'I can't have kid...|     0|\n| 69|           accident|       Nashville, TN|Accident on I-24 ...|     1|\n| 70|           accident|     Santa Clara, CA|Accident center l...|     1|\n| 71|           accident|                  UK|http://t.co/GKYe6...|     0|\n| 72|           accident|       St. Louis, MO|#stlouis #caracci...|     0|\n| 73|           accident|Walker County, Al...|Reported motor ve...|     1|\n| 74|           accident|           Australia|BigRigRadio Live ...|     1|\n| 75|           accident|      North Carolina|I-77 Mile Marker ...|     1|\n| 76|           accident|                null|RT @SleepJunkies:...|     0|\n| 77|           accident|       Norf Carolina|'By accident' the...|     0|\n| 78|           accident|San Mateo County, CA|Traffic accident ...|     1|\n| 79|           accident|      North Carolina|I-77 Mile Marker ...|     1|\n| 80|           accident|        Njoro, Kenya|the pastor was no...|     1|\n| 81|               null|                null|mom: 'there was a...|     0|\n| 82|           accident|Your Sister's Bed...|I was in a horrib...|     1|\n| 83|           accident|                null|Can wait to see h...|     0|\n| 84|           accident|       Arlington, TX|#TruckCrash Overt...|     1|\n| 85|           accident|South Bloomfield, OH|Accident in #Ashv...|     1|\n| 86|           accident|                null|Carolina accident...|     1|\n| 87|           accident|New Hanover Count...|FYI CAD:FYI: ;ACC...|     1|\n| 88|           accident|            Maldives|RT nAAYf: First a...|     1|\n| 89|           accident|      Manchester, NH|Accident left lan...|     1|\n| 90|           accident|      Wilmington, NC|;ACCIDENT PROPERT...|     1|\n| 91|           accident|                null|???? it was an ac...|     0|\n| 92|           accident|New Hanover Count...|FYI CAD:FYI: ;ACC...|     1|\n| 93|           accident|                null|8/6/2015@2:09 PM:...|     1|\n| 94|           accident|              global|Aashiqui Actress ...|     1|\n| 95|           accident|Alberta | Sask. |...|Suffield Alberta ...|     1|\n| 96|           accident|           Charlotte|9 Mile backup on ...|     1|\n| 97|           accident|     Baton Rouge, LA|Has an accident c...|     0|\n| 98|           accident|      Hagerstown, MD|#BREAKING: there ...|     1|\n| 99|           accident|Gloucestershire , UK|@flowri were you ...|     0|\n|100|           accident|                null|only had a car fo...|     1|\n|101|           accident|                  UK|.@NorwayMFA #Bahr...|     1|\n|102|           accident|      Nairobi, Kenya|I still have not ...|     0|\n|103|         aftershock|Instagram - @heyi...|@afterShock_DeLo ...|     0|\n|104|               null|                null|    Roger Bannister\"|     0|\n|105|         aftershock|         Switzerland|320 [IR] ICEMOON ...|     0|\n|106|         aftershock|                 304|'There is no vict...|     0|\n|107|         aftershock|                  US|320 [IR] ICEMOON ...|     0|\n|108|         aftershock|                 304|'Nobody remembers...|     0|\n|109|         aftershock|Instagram - @heyi...|@afterShock_DeLo ...|     0|\n|110|         aftershock|                 304|'The harder the c...|     0|\n|111|         aftershock|                null|#GrowingUpSpoiled...|     0|\n|112|         aftershock|                null|So i guess no one...|     0|\n|113|         aftershock|                null|Aftershock was th...|     0|\n|114|         aftershock|             Belgium|Aftershock https:...|     0|\n|115|         aftershock|         Switzerland|320 [IR] ICEMOON ...|     0|\n|116|         aftershock|                  US|320 [IR] ICEMOON ...|     0|\n|117|         aftershock|                null|320 [IR] ICEMOON ...|     0|\n|118|         aftershock|           dope show|@KJForDays I'm se...|     0|\n|119|         aftershock|         Switzerland|320 [IR] ICEMOON ...|     0|\n|120|         aftershock|         Switzerland|320 [IR] ICEMOON ...|     0|\n|121|         aftershock|      Oshawa, Canada|#WisdomWed BONUS ...|     0|\n|122|         aftershock|   Baker City Oregon|Aftershock: Prote...|     0|\n|123|         aftershock|                null|That moment when ...|     0|\n|124|         aftershock|                null|Aftershock ã¢ (2...|     0|\n|125|               null|                null|     @esquireattire\"|     0|\n|126|         aftershock|                 304|Sometimes you fac...|     0|\n|127|         aftershock|                 304|'The only thing t...|     0|\n|128|         aftershock|      marysville ca |Praise God that w...|     0|\n|129|         aftershock|                 304|'Remembering that...|     0|\n|130|         aftershock|   Hermosa Beach, CA|Tried orange afte...|     0|\n|131|         aftershock|                null|@OnFireAnders I l...|     0|\n|132|         aftershock|                null|Aftershock https:...|     0|\n|133|         aftershock|                null|Aftershock back t...|     0|\n|134|         aftershock|                 304|People who say it...|     0|\n|135|         aftershock|                 304|'The first man ge...|     0|\n|136|         aftershock|                null|Anyone need a P/U...|     0|\n|137|airplane%20accident|19.600858, -99.04...|Experts in France...|     1|\n|138|airplane%20accident|        Pennsylvania|Strict liability ...|     1|\n|139|airplane%20accident|Salt Lake City, Utah|@crobscarla your ...|     0|\n|140|airplane%20accident|       Palo Alto, CA|Experts in France...|     1|\n|141|airplane%20accident|                null|@AlexAllTimeLow a...|     1|\n|142|airplane%20accident|Spain but Opa-Loc...|family members of...|     1|\n|143|airplane%20accident|       Jaipur, India|Man Goes into Air...|     1|\n|144|airplane%20accident|Hyderabad Telanga...|Horrible Accident...|     1|\n|145|airplane%20accident|   Eagle Pass, Texas|A Cessna airplane...|     1|\n|146|airplane%20accident|           bangalore|#Horrible #Accide...|     1|\n|147|airplane%20accident|Financial News an...|Experts in France...|     1|\n|148|airplane%20accident|                null|Experts in France...|     1|\n|149|airplane%20accident|           Indonesia|#KCA #VoteJKT48ID...|     1|\n|150|airplane%20accident|y(our) boyfriends...|I almost sent my ...|     0|\n|151|airplane%20accident|     New Mexico, USA|@mickinyman @TheA...|     0|\n|152|airplane%20accident| Somewhere Out There|Experts in France...|     1|\n|153|               null|                null|#man #airport #ai...|     1|\n|154|airplane%20accident|        Mumbai india|Horrible Accident...|     1|\n|155|airplane%20accident|           sri lanka|Horrible Accident...|     1|\n|156|airplane%20accident|  Not a U.S resident|Usama bin Ladins ...|     1|\n|157|airplane%20accident|                null|Pilot Dies In Pla...|     1|\n|158|airplane%20accident|   Lehigh Valley, PA|Strict liability ...|     1|\n|159|airplane%20accident|              Canada|DTN Brazil: Exper...|     1|\n|160|airplane%20accident|                null|Experts in France...|     1|\n|161|airplane%20accident|            Thrissur|Horrible Accident...|     1|\n|162|               null|                null|                  +\"|     1|\n|163|airplane%20accident|               India|OMG Horrible Acci...|     1|\n|164|               null|                null|#AirPlane #Accide...|     1|\n|165|airplane%20accident|                null|Experts in France...|     1|\n|166|airplane%20accident|              Israel|I had a airplane ...|     1|\n|167|airplane%20accident|Fashion Heaven. I...|My phone looks li...|     0|\n|168|airplane%20accident|   San Francisco, CA|Statistically I'm...|     0|\n|169|airplane%20accident|               italy|airplane crashes ...|     1|\n|170|airplane%20accident|                 nyc|The shooting or t...|     1|\n|171|airplane%20accident|             Toronto|Could a drone cau...|     1|\n|172|          ambulance|                null|Early wake up cal...|     1|\n|173|          ambulance|             Jackson|http://t.co/AY6zz...|     1|\n|174|          ambulance|New York / Worldwide|Two air ambulance...|     1|\n|175|          ambulance|                null|Twelve feared kil...|     1|\n|176|          ambulance|     New Orleans, LA|Leading emergency...|     0|\n|177|          ambulance|          West Wales|Anyone travelling...|     1|\n|178|          ambulance|                null|Twelve feared kil...|     1|\n|179|          ambulance|Happily Married w...|AMBULANCE SPRINTE...|     0|\n|180|          ambulance|       Cambridge, MA|New Nanotech Devi...|     0|\n|181|          ambulance|            Arizona |@20skyhawkmm20 @t...|     1|\n|182|          ambulance|              Mumbai|If I get run over...|     0|\n|183|          ambulance|                null|#news Twelve fear...|     1|\n|184|          ambulance|           Amsterdam|http://t.co/7xGLa...|     1|\n|185|          ambulance|    Swindon,England |@TanSlash waiting...|     0|\n|186|          ambulance|                null|@fouseyTUBE you o...|     0|\n|187|          ambulance|Happily Married w...|AMBULANCE SPRINTE...|     0|\n|188|          ambulance|                null|Pakistan air ambu...|     1|\n|189|          ambulance|    Williamstown, VT|@TheNissonian @Re...|     0|\n|190|          ambulance| North Carolina, USA|EMS1: NY EMTs pet...|     0|\n|191|          ambulance|                null|http://t.co/FCqmK...|     1|\n|192|          ambulance|             Karachi|Twelve feared kil...|     1|\n|193|          ambulance|Happily Married w...|AMBULANCE SPRINTE...|     0|\n|194|          ambulance|Happily Married w...|AMBULANCE SPRINTE...|     0|\n|195|          ambulance|   Loveland Colorado|@Kiwi_Karyn Check...|     0|\n|196|          ambulance| || c h i c a g o |||when you don't kn...|     1|\n|197|          ambulance|                null|#reuters Twelve f...|     1|\n|198|          ambulance|               L. A.|http://t.co/pWwpU...|     1|\n|199|          ambulance|                null|Why is there an a...|     0|\n|200|          ambulance|              Canada|ÛÏ@LeoBlakeCarte...|     0|\n|201|          ambulance|VISIT MY YOUTUBE ...|HAPPENING NOW - H...|     0|\n|202|          ambulance|           Lexington|http://t.co/FueRk...|     1|\n|203|          ambulance|                null|http://t.co/X5YEU...|     1|\n|204|          ambulance|                 USA|Twelve feared kil...|     1|\n|205|          ambulance|   Hannover, Germany|Twelve feared kil...|     1|\n|206|          ambulance|                null|What's the police...|     0|\n|207|          ambulance|                null|@medic914 @AACE_o...|     0|\n|208|          ambulance|               Playa|http://t.co/J8TYT...|     1|\n|209|          ambulance|        Davidson, NC|People who try to...|     0|\n|210|        annihilated|       Higher Places|The episode where...|     0|\n|211|        annihilated|       Horsemind, MI|THEY SHALL BE ANN...|     0|\n|212|        annihilated|        New York, NY|Uribe just annihi...|     0|\n|213|        annihilated|            Boksburg|@marksmaponyane H...|     0|\n|214|        annihilated|                null|@Volfan326 @TNeaz...|     0|\n|215|        annihilated|                null|Annihilated Abs ....|     1|\n|216|        annihilated|                null|Be annihilated fo...|     0|\n|217|        annihilated|                null|*to Luka* They sh...|     0|\n|218|        annihilated|Greater Mancheste...|@ACarewornHeart H...|     0|\n|219|        annihilated|              Boston|Cop pulls drunk d...|     1|\n|220|        annihilated|                null|You must be annih...|     0|\n|221|        annihilated|                null|Cop pulls drunk d...|     1|\n|222|        annihilated|  The Canopy Kingdom|BOOM! Your countr...|     0|\n|223|        annihilated|                null|@AmirKingKhan you...|     0|\n|224|        annihilated|                 USA|One thing for sur...|     0|\n|225|        annihilated|                null|@violentfeminazi ...|     1|\n|226|        annihilated|                null|70 years since we...|     1|\n|227|        annihilated| the own zone layer |day 1 of tryouts ...|     0|\n|228|               null|                null|http://t.co/yangE...|     1|\n|229|        annihilated|        Trancy Manor|(To Luka) 'They s...|     0|\n|230|        annihilated|                null|Ready to get anni...|     1|\n|231|        annihilated|            South 37|@PhilipDuncan @br...|     1|\n|232|        annihilated|                null|Domain other soph...|     0|\n|233|        annihilated|West Lancashire, UK.|@stormbeard @stee...|     0|\n|234|        annihilated|                  PA|Officially skippi...|     0|\n|235|        annihilated|                null|@TomcatArts thus ...|     1|\n|236|        annihilated|Û¢ Views From Th...|just completely a...|     0|\n|237|        annihilated|                null|@TomcatArts 'who ...|     0|\n|238|        annihilated|University of Tor...|@SirBrandonKnt ex...|     0|\n|239|        annihilated|                null|Cop pulls drunk d...|     1|\n|240|               null|                null|http://t.co/7rakh...|     1|\n|241|        annihilated|                null|@thatdes ok i was...|     0|\n|242|        annihilated|              London|A fun filled happ...|     0|\n|243|        annihilated|           Albany/NY|Juanny Beisbol Sr...|     0|\n|244|       annihilation|     California, USA|@rvfriedmann Hell...|     1|\n|245|       annihilation|                null|@POTUS Maybe we s...|     0|\n|246|       annihilation|                null|Evildead - Annihi...|     0|\n|247|       annihilation|                null|U.S National Park...|     0|\n|248|       annihilation|       Wild Wild Web|annihilating quar...|     1|\n|249|       annihilation|     Subconscious LA|World Annihilatio...|     0|\n|250|       annihilation|               Spain|:StarMade: :Stard...|     1|\n|251|       annihilation|                null|U.S National Park...|     0|\n|252|       annihilation|                null|U.S National Park...|     1|\n|253|       annihilation|Yeezy Taught Me , NV|@KimKardashian ca...|     0|\n|254|       annihilation|                null|U.S National Park...|     1|\n|255|       annihilation|                null|@TheEllenShow Ple...|     0|\n|256|       annihilation|       United States|Are souls punishe...|     0|\n|257|       annihilation|                null|@CalFreedomMom @s...|     1|\n|258|       annihilation|                null|@willienelson We ...|     1|\n|259|       annihilation|       Rock Hill, SC|I reject the laws...|     0|\n|260|       annihilation|        Coolidge, AZ|U.S National Park...|     0|\n|261|               null|                null|Please God allow ...|     0|\n|262|       annihilation|                null|@Barbi_Twins We n...|     0|\n|263|       annihilation|                null|@Whippenz We need...|     0|\n|264|       annihilation|         Phoenix, AZ|Hey #AZ: Sign thi...|     0|\n|265|       annihilation| Ljubljana, Slovenia|Stop the Annihila...|     1|\n|266|       annihilation|         Connecticut|@SonofBaldwin and...|     0|\n|267|       annihilation|   Tacoma,Washington|U.S National Park...|     0|\n|268|       annihilation|                null|Please sign &amp;...|     0|\n|269|       annihilation|                null|THANKS!!!!! @COUN...|     0|\n|270|       annihilation|     Subconscious LA|World Annihilatio...|     1|\n|271|       annihilation|BIG D  HOUSTON/BO...|U.S National Park...|     0|\n|272|       annihilation|        Chandler, AZ|U.S National Park...|     1|\n|273|         apocalypse|            ColoRADo|I'm gonna fight T...|     0|\n|274|         apocalypse|             sindria|ohH NO FUKURODANI...|     1|\n|275|         apocalypse|                null|will there be ano...|     0|\n|276|         apocalypse|                null|RT: janenelson097...|     0|\n|277|         apocalypse|               Texas|   Apocalypse please|     0|\n|278|         apocalypse|  Elk Grove, CA, USA|Another hour! It'...|     1|\n|279|         apocalypse|               Texas|@HoneyBunzGem @pr...|     0|\n|280|         apocalypse|                null|She's kinda hot p...|     0|\n|281|         apocalypse|           The Shire|But if it's the a...|     0|\n|282|         apocalypse|          Austin, TX|I know it's a que...|     1|\n|283|         apocalypse|             Oakland|Julie + R is the ...|     0|\n|284|         apocalypse|                null|the apocalypse is...|     0|\n|285|         apocalypse|                null|RT: fittscott: Mi...|     0|\n|286|         apocalypse|         Albuquerque|And so it begins....|     1|\n|287|               null|                null|In the spirit the...|     0|\n|288|         apocalypse|Buenos Aires, Arg...|candylit: Imagine...|     0|\n|289|         apocalypse|                null|RT: ZONEWolf123: ...|     0|\n|290|         apocalypse|                null|And that's becaus...|     0|\n|291|         apocalypse| San Antonio-ish, TX|Dad bought a DVD ...|     1|\n|292|         apocalypse|       San Francisco|@alexandrapullin ...|     0|\n|293|         apocalypse|         Oregon, USA|GO LOOK AT GRIZZL...|     0|\n|294|         apocalypse|       Harlingen, TX|My niece just ask...|     0|\n|295|         apocalypse|          Buffalo NY|There's a Storm o...|     1|\n|296|         apocalypse|                null|Minecraft- NIGHT ...|     0|\n|297|         apocalypse|                null|Shot Through The ...|     0|\n|298|         apocalypse|                null|RT: Geek_Apocalyp...|     0|\n|299|         apocalypse|           Las Vegas|I know where to g...|     0|\n|300|         apocalypse|                null|The latest from @...|     1|\n|301|         apocalypse|                null|Shadow boxing the...|     1|\n|302|               null|                null|In the spirit the...|     1|\n|303|         apocalypse|               Tokyo|Enjoyed live-acti...|     0|\n|304|         apocalypse|                null|I liked a @YouTub...|     0|\n|305|         armageddon|California, Unite...|#PBBan (Temporary...|     0|\n|306|         armageddon|California, Unite...|#PBBan (Temporary...|     0|\n|307|         armageddon|    #FLIGHTCITY UK  |((OFFICIAL VID)) ...|     0|\n|308|         armageddon|                null|ouvindo Peace Lov...|     0|\n|309|         armageddon|                null|Best movie you've...|     0|\n|310|         armageddon|Alphen aan den Ri...|Bed time. Don't w...|     0|\n|311|         armageddon|                null|Red Faction: Arma...|     0|\n|312|         armageddon|       Wrigley Field|@KatieKatCubs you...|     0|\n|313|         armageddon|                null|RT @Ophiuchus2613...|     0|\n|314|               null|                null|just got a flawle...|     0|\n|315|         armageddon|              Canada|@ENews Ben Afflec...|     0|\n|316|         armageddon|             England|'If I'd have had ...|     0|\n|317|         armageddon|                 USA|YOUR PHONE IS SPY...|     0|\n|318|         armageddon|California, Unite...|#PBBan (Temporary...|     1|\n|319|         armageddon|                null|RT @RTRRTcoach: #...|     0|\n|320|         armageddon|California, Unite...|#PBBan (Temporary...|     0|\n|321|         armageddon|       New York City|Photo: Sketch I d...|     0|\n|322|         armageddon|      Here And There|Armageddon https:...|     1|\n|323|               null|                null|    @Armageddon????\"|     0|\n|324|         armageddon|          Derry, 17 |@paddytomlinson1 ...|     0|\n|325|         armageddon|Nowhere. Everywhere.|@RohnertParkDPS Y...|     0|\n|326|               null|                null|http://t.co/gBxaf...|     1|\n|327|         armageddon|           Worldwide|God's Kingdom (He...|     0|\n|328|         armageddon|                null|L B #Entertainmen...|     0|\n|329|         armageddon|Nowhere. Everywhere.|LetÛªs talk some...|     0|\n|330|         armageddon|          East Coast|@Karnythia my nie...|     0|\n|331|         armageddon|          California|Check out #PREPPE...|     0|\n|332|         armageddon|         Toronto, ON|@Erker Again?? Ee...|     1|\n|333|         armageddon|                null|So the Ahamedis t...|     0|\n|334|         armageddon|The Orwellion pol...|Sadly How Windows...|     0|\n|335|               null|                null|       #UltimaLucha\"|     0|\n|336|         armageddon|   Helsinki, Finland|@samihonkonen If ...|     0|\n|337|         armageddon|       East Kilbride|European Fitba ti...|     0|\n|338|         armageddon|                null|#Christians Unite...|     0|\n|339|         armageddon|    #FLIGHTCITY UK  |(OFFICIAL VID) &g...|     0|\n|340|         armageddon|middle eastern pa...|Tomorrow is the d...|     0|\n|341|         armageddon|                Kent|Lee does comedy: ...|     0|\n|342|         armageddon|                null|9 Charts Prove Fi...|     0|\n|343|         armageddon|                null|Paul Craig Robert...|     1|\n|344|         armageddon|Nowhere. Everywhere.|@RohnertParkDPS Y...|     0|\n|345|         armageddon|    #FLIGHTCITY UK  |**OFFICIAL VID** ...|     0|\n|346|               null|                null|Armageddon eh.......|     0|\n|347|               army|                null|Beyonce Is my pic...|     0|\n|348|               army|                null|One Direction Is ...|     0|\n|349|               army|                null|5 Seconds of Summ...|     0|\n|350|               army|                null|22.Beyonce Is my ...|     0|\n|351|               army|                null|17.Beyonce Is my ...|     0|\n|352|               army|                null|One Direction Is ...|     0|\n|353|               army|twitch.tv/natural...|Seeing that army ...|     0|\n|354|               null|                null|Start g this frie...|     0|\n|355|               army|         Memphis, TN|Salvation Army ho...|     1|\n|356|               army|                null|Vote for #Directi...|     0|\n|357|               army|              Studio|But if you build ...|     1|\n|358|               army|       Hollywood, CA|'Show Me a Hero':...|     0|\n|359|               army|                null|One Direction Is ...|     1|\n|360|               army|            New York|INFANTRY Mens Lum...|     0|\n|361|               army|                null|One Direction Is ...|     0|\n|362|               army|                null|VICTORINOX SWISS ...|     1|\n|363|               null|                null|Indian Army kiÛ_...|     0|\n|364|               army|         Mexico! ^_^|5 Seconds of Summ...|     0|\n|365|               army|                null|Beyonce Is my pic...|     0|\n|366|               army|                null|One Direction Is ...|     0|\n|367|               null|                null|#MTVSummerStar #V...|     0|\n|368|               army|                null|One Direction Is ...|     0|\n|369|               army|    Harlem, New York|Stony Jackson is ...|     0|\n|370|               army|            New York|WWI WWII JAPANESE...|     0|\n|371|               army|                null|Beyonce Is my pic...|     0|\n|372|               army|                null|7.Beyonce Is my p...|     0|\n|373|               army|                null|Beyonce Is my pic...|     0|\n|374|               army|                null|6.Beyonce Is my p...|     0|\n|375|               army|      Washington, DC|POTUS appoints Br...|     0|\n|376|               army|          Burbank,CA|@AP what a violen...|     1|\n|377|               army|            New York|WWI WWII JAPANESE...|     0|\n|378|               army|                null|WWI WWII JAPANESE...|     0|\n|379|               army|                null|One Direction Is ...|     0|\n|380|               army|                null|One Direction Is ...|     0|\n|381|              arson|                null|Two Jewish Terror...|     0|\n|382|              arson| Spokane, Washington|Spokane authoriti...|     1|\n|383|              arson|                 USA|Thousands attend ...|     1|\n|384|              arson|       Charlotte, NC|Add Familia to th...|     0|\n|385|              arson|    Our Empire State|Another fake hate...|     1|\n|386|              arson|                null|Los Angeles Times...|     1|\n|387|              arson|                null|Mourning notices ...|     1|\n|388|              arson|           Jerusalem|Mourning notices ...|     1|\n|389|              arson|Kingston, Pennsyl...|  The Sound of Arson|     0|\n|390|              arson|       Milwaukee, WI|Owner of Chicago-...|     0|\n|391|              arson|         Zero Branco|Wait What??? http...|     0|\n|392|              arson|   Republic of Texas|Arson suspect lin...|     1|\n|393|              arson|                null|Trial Date Set fo...|     1|\n|394|               null|                null|attack Israel cra...|     1|\n|395|              arson|                 USA|Palestinian Teen ...|     1|\n|396|              arson|      Eldoret, kenya|#Kisii Police in ...|     1|\n|397|              arson|           ÛÊÛÊÛÊ|Mariah getting th...|     1|\n|398|              arson|           Jerusalem|Mourning notices ...|     0|\n|399|              arson|            Miami,FL|RelaxInPR: miprv:...|     1|\n|400|              arson|                null|Jewish leaders pr...|     1|\n+---+-------------------+--------------------+--------------------+------+\nonly showing top 400 rows\n\n"
     ]
    }
   ],
   "source": [
    "data = tri(df_train)\n",
    "data.show(400)"
   ]
  },
  {
   "cell_type": "markdown",
   "metadata": {
    "application/vnd.databricks.v1+cell": {
     "cellMetadata": {
      "byteLimit": 2048000,
      "rowLimit": 10000
     },
     "inputWidgets": {},
     "nuid": "10a1d59a-fc08-49e4-9230-1b7438158919",
     "showTitle": false,
     "tableResultSettingsMap": {},
     "title": ""
    }
   },
   "source": [
    "ETUDE 1: prise en compte uniquement du text comme variable explicative (location et keyword laisser de coté)"
   ]
  },
  {
   "cell_type": "code",
   "execution_count": 0,
   "metadata": {
    "application/vnd.databricks.v1+cell": {
     "cellMetadata": {
      "byteLimit": 2048000,
      "rowLimit": 10000
     },
     "inputWidgets": {},
     "nuid": "20a4eaee-1555-4465-b10b-488f2e5402b2",
     "showTitle": false,
     "tableResultSettingsMap": {},
     "title": ""
    }
   },
   "outputs": [
    {
     "output_type": "stream",
     "name": "stdout",
     "output_type": "stream",
     "text": [
      "Out[6]: 7611"
     ]
    }
   ],
   "source": [
    "\n",
    "data1= data.select(\"id\",\"text\",\"target\")\n",
    "data.count()\n"
   ]
  },
  {
   "cell_type": "code",
   "execution_count": 0,
   "metadata": {
    "application/vnd.databricks.v1+cell": {
     "cellMetadata": {
      "byteLimit": 2048000,
      "rowLimit": 10000
     },
     "inputWidgets": {},
     "nuid": "e384026f-1463-465c-9d09-80aa8b02e25a",
     "showTitle": false,
     "tableResultSettingsMap": {},
     "title": ""
    }
   },
   "outputs": [
    {
     "output_type": "stream",
     "name": "stdout",
     "output_type": "stream",
     "text": [
      "+---+--------------------+-----+\n| id|                text|label|\n+---+--------------------+-----+\n|  1|Our Deeds are the...|    1|\n|  2|Forest fire near ...|    1|\n|  3|All residents ask...|    1|\n|  4|13,000 people rec...|    1|\n|  5|Just got sent thi...|    1|\n|  6|#RockyFire Update...|    1|\n|  7|#flood #disaster ...|    1|\n|  8|I'm on top of the...|    1|\n|  9|There's an emerge...|    1|\n| 10|I'm afraid that t...|    1|\n| 11|Three people died...|    1|\n| 12|Haha South Tampa ...|    1|\n| 13|#raining #floodin...|    1|\n| 14|#Flood in Bago My...|    1|\n| 15|Damage to school ...|    1|\n| 16|      What's up man?|    0|\n| 17|       I love fruits|    0|\n| 18|    Summer is lovely|    0|\n| 19|   My car is so fast|    0|\n| 20|What a goooooooaa...|    0|\n+---+--------------------+-----+\nonly showing top 20 rows\n\n"
     ]
    }
   ],
   "source": [
    "data1 = data1.withColumn(\"target\", F.col(\"target\").cast(\"int\"))\n",
    "data1 = data1.withColumnRenamed(\"target\", \"label\")\n",
    "data1.show()"
   ]
  },
  {
   "cell_type": "code",
   "execution_count": 0,
   "metadata": {
    "application/vnd.databricks.v1+cell": {
     "cellMetadata": {
      "byteLimit": 2048000,
      "rowLimit": 10000
     },
     "inputWidgets": {},
     "nuid": "2f66ed78-57b6-4608-b6ea-45b79ad8dffb",
     "showTitle": false,
     "tableResultSettingsMap": {},
     "title": ""
    }
   },
   "outputs": [
    {
     "output_type": "stream",
     "name": "stdout",
     "output_type": "stream",
     "text": [
      "+---+----------------------------------------------------------------------------------------------------+-----+----------------------------------------------------------------------------------------------------+\n| id|                                                                                                text|label|                                                                                            document|\n+---+----------------------------------------------------------------------------------------------------+-----+----------------------------------------------------------------------------------------------------+\n|  1|                               Our Deeds are the Reason of this #earthquake May ALLAH Forgive us all|    1|[{document, 0, 68, Our Deeds are the Reason of this #earthquake May ALLAH Forgive us all, {senten...|\n|  2|                                                              Forest fire near La Ronge Sask. Canada|    1|                    [{document, 0, 37, Forest fire near La Ronge Sask. Canada, {sentence -> 0}, []}]|\n|  3|All residents asked to 'shelter in place' are being notified by officers. No other evacuation or ...|    1|[{document, 0, 132, All residents asked to 'shelter in place' are being notified by officers. No ...|\n|  4|                                   13,000 people receive #wildfires evacuation orders in California |    1|[{document, 0, 64, 13,000 people receive #wildfires evacuation orders in California , {sentence -...|\n|  5|            Just got sent this photo from Ruby #Alaska as smoke from #wildfires pours into a school |    1|[{document, 0, 87, Just got sent this photo from Ruby #Alaska as smoke from #wildfires pours into...|\n|  6|#RockyFire Update => California Hwy. 20 closed in both directions due to Lake County fire - #CAfi...|    1|[{document, 0, 109, #RockyFire Update => California Hwy. 20 closed in both directions due to Lake...|\n|  7|     #flood #disaster Heavy rain causes flash flooding of streets in Manitou, Colorado Springs areas|    1|[{document, 0, 94, #flood #disaster Heavy rain causes flash flooding of streets in Manitou, Color...|\n|  8|                                         I'm on top of the hill and I can see a fire in the woods...|    1|[{document, 0, 58, I'm on top of the hill and I can see a fire in the woods..., {sentence -> 0}, ...|\n|  9|                     There's an emergency evacuation happening now in the building across the street|    1|[{document, 0, 78, There's an emergency evacuation happening now in the building across the stree...|\n| 10|                                                I'm afraid that the tornado is coming to our area...|    1|      [{document, 0, 51, I'm afraid that the tornado is coming to our area..., {sentence -> 0}, []}]|\n| 11|                                                         Three people died from the heat wave so far|    1|               [{document, 0, 42, Three people died from the heat wave so far, {sentence -> 0}, []}]|\n| 12|Haha South Tampa is getting flooded hah- WAIT A SECOND I LIVE IN SOUTH TAMPA WHAT AM I GONNA DO W...|    1|[{document, 0, 128, Haha South Tampa is getting flooded hah- WAIT A SECOND I LIVE IN SOUTH TAMPA ...|\n+---+----------------------------------------------------------------------------------------------------+-----+----------------------------------------------------------------------------------------------------+\nonly showing top 12 rows\n\n"
     ]
    }
   ],
   "source": [
    "import sparknlp\n",
    "from sparknlp.base import *\n",
    "from sparknlp.annotator import *\n",
    "\n",
    "\n",
    "\n",
    "documentAssembler = DocumentAssembler() \\\n",
    "                      .setCleanupMode(\"inplace\") \\\n",
    "                      .setInputCol(\"text\") \\\n",
    "                      .setOutputCol(\"document\")\n",
    "\n",
    "documents = documentAssembler.transform(data1)\n",
    "documents.show(12, 100)"
   ]
  },
  {
   "cell_type": "code",
   "execution_count": 0,
   "metadata": {
    "application/vnd.databricks.v1+cell": {
     "cellMetadata": {
      "byteLimit": 2048000,
      "rowLimit": 10000
     },
     "inputWidgets": {},
     "nuid": "d820a1e8-3912-4b41-8fbd-b5ab1e12e11c",
     "showTitle": false,
     "tableResultSettingsMap": {},
     "title": ""
    }
   },
   "outputs": [
    {
     "output_type": "stream",
     "name": "stdout",
     "output_type": "stream",
     "text": [
      "+------------------------------------------------------------------------------------------------------------------------------------------------------------------------------------------------------------------------------------------------------------------------------------------------------------+\n|                                                                                                                                                                                                                                                                                                       token|\n+------------------------------------------------------------------------------------------------------------------------------------------------------------------------------------------------------------------------------------------------------------------------------------------------------------+\n|[{token, 0, 2, Our, {sentence -> 0}, []}, {token, 4, 8, Deeds, {sentence -> 0}, []}, {token, 10, 12, are, {sentence -> 0}, []}, {token, 14, 16, the, {sentence -> 0}, []}, {token, 18, 23, Reason, {sentence -> 0}, []}, {token, 25, 26, of, {sentence -> 0}, []}, {token, 28, 31, this, {sentence -> 0},...|\n+------------------------------------------------------------------------------------------------------------------------------------------------------------------------------------------------------------------------------------------------------------------------------------------------------------+\nonly showing top 1 row\n\n"
     ]
    }
   ],
   "source": [
    "tokenizer = Tokenizer() \\\n",
    "                  .setInputCols([\"document\"]) \\\n",
    "                  .setOutputCol(\"token\")\n",
    "\n",
    "tokensEch = tokenizer.fit(documents).transform(documents)\n",
    "tokensEch.select(\"token\").show(1, 300)"
   ]
  },
  {
   "cell_type": "code",
   "execution_count": 0,
   "metadata": {
    "application/vnd.databricks.v1+cell": {
     "cellMetadata": {
      "byteLimit": 2048000,
      "rowLimit": 10000
     },
     "inputWidgets": {},
     "nuid": "7708344b-d300-4b6d-9957-cd7cd6b2208b",
     "showTitle": false,
     "tableResultSettingsMap": {},
     "title": ""
    }
   },
   "outputs": [
    {
     "output_type": "stream",
     "name": "stdout",
     "output_type": "stream",
     "text": [
      "glove_6B_300 download started this may take some time.\nApproximate size to download 426.2 MB\n\r[ | ]\r[ / ]\r[ — ]\r[ \\ ]\r[ | ]\r[ / ]\r[ — ]\r[ \\ ]\r[ | ]\r[ / ]\r[ — ]\r[ \\ ]\r[ | ]\r[ / ]\r[ — ]\r[ \\ ]\r[ | ]\r[ / ]\r[ — ]\r[ \\ ]\r[ | ]\r[ / ]\r[ — ]\r[ \\ ]\r[ | ]\r[ / ]\r[ — ]\r[ \\ ]\r[ | ]\r[ / ]\r[ — ]\r[ \\ ]\r[OK!]\n+--------------------------------------------------------------------------------------------------------------------------------------------------------------------------------------------------------+\n|                                                                                                                                                                                        glove_embeddings|\n+--------------------------------------------------------------------------------------------------------------------------------------------------------------------------------------------------------+\n|[{word_embeddings, 0, 2, Our, {isOOV -> false, pieceId -> -1, isWordStart -> true, token -> Our, sentence -> 0}, [-0.025179, 0.07837, -0.17637, -0.12285, -0.13156, 0.26591, -0.60064, 0.46653, 0.042...|\n|[{word_embeddings, 0, 5, Forest, {isOOV -> false, pieceId -> -1, isWordStart -> true, token -> Forest, sentence -> 0}, [-0.45533, 0.14615, -0.028433, 0.4449, 0.22859, -0.15682, 0.37571, 0.76405, 0....|\n|[{word_embeddings, 0, 2, All, {isOOV -> false, pieceId -> -1, isWordStart -> true, token -> All, sentence -> 0}, [-0.069921, 0.18417, 0.21716, -0.44034, -0.21262, 0.34661, -0.24908, -0.015273, 0.10...|\n|[{word_embeddings, 0, 5, 13,000, {isOOV -> false, pieceId -> -1, isWordStart -> true, token -> 13,000, sentence -> 0}, [-0.091704, 0.47105, 0.44867, 0.41515, -0.075563, -0.083963, 0.40406, 0.11043,...|\n|[{word_embeddings, 0, 3, Just, {isOOV -> false, pieceId -> -1, isWordStart -> true, token -> Just, sentence -> 0}, [-0.24005, 0.15426, -0.17838, 0.20981, -0.066943, 0.13387, -0.2579, -0.27093, 0.29...|\n+--------------------------------------------------------------------------------------------------------------------------------------------------------------------------------------------------------+\nonly showing top 5 rows\n\n"
     ]
    }
   ],
   "source": [
    "\n",
    "embeddings = WordEmbeddingsModel.pretrained(\"glove_6B_300\", \"xx\") \\\n",
    "                                .setInputCols(\"document\", \"token\") \\\n",
    "                                .setOutputCol(\"glove_embeddings\")\n",
    "\n",
    "\n",
    "embedsEch = embeddings.transform(tokensEch)\n",
    "embedsEch.select(\"glove_embeddings\").show(5, 200)"
   ]
  },
  {
   "cell_type": "code",
   "execution_count": 0,
   "metadata": {
    "application/vnd.databricks.v1+cell": {
     "cellMetadata": {
      "byteLimit": 2048000,
      "rowLimit": 10000
     },
     "inputWidgets": {},
     "nuid": "76f39dfc-c23d-4f7f-8162-c2efc18ff181",
     "showTitle": false,
     "tableResultSettingsMap": {},
     "title": ""
    }
   },
   "outputs": [
    {
     "output_type": "stream",
     "name": "stdout",
     "output_type": "stream",
     "text": [
      "+--------------------------------------------------------------------------------------------------------------------------------------------------------------------------------------------------------+\n|                                                                                                                                                                               finished_embeddings_glove|\n+--------------------------------------------------------------------------------------------------------------------------------------------------------------------------------------------------------+\n|[[-0.06928376853466034,-0.01271053310483694,0.00862519908696413,-0.25277167558670044,-0.12423738092184067,0.07902661710977554,-0.07260183990001678,0.152671679854393,0.07146238535642624,-1.411920666...|\n|[[-0.05899748578667641,0.054601624608039856,-0.1071816235780716,-0.11128462851047516,-0.03310374915599823,-0.08629648387432098,-0.10258549451828003,0.19005662202835083,-0.09497736394405365,-0.70107...|\n|[[-0.13235606253147125,0.06125080958008766,-0.03614479675889015,-0.15638867020606995,-0.1266949474811554,0.07843363285064697,0.07999947667121887,0.17469343543052673,-0.03278797119855881,-1.43478679...|\n|[[-0.16983948647975922,0.034789495170116425,-2.562478184700012E-4,-0.0336466021835804,-0.18170824646949768,0.05963900685310364,0.10411250591278076,0.04244575276970863,-0.08185386657714844,-0.998736...|\n|[[-0.22194337844848633,-0.03530037775635719,0.007327498868107796,-0.07282354682683945,-0.11924143880605698,0.09478850662708282,-0.08547478169202805,-0.07128225266933441,0.199027419090271,-1.1092586...|\n+--------------------------------------------------------------------------------------------------------------------------------------------------------------------------------------------------------+\nonly showing top 5 rows\n\n"
     ]
    }
   ],
   "source": [
    "embeddingsSentence = SentenceEmbeddings() \\\n",
    "                           .setInputCols([\"document\", \"glove_embeddings\"]) \\\n",
    "                           .setOutputCol(\"sentence_embeddings_glove\") \\\n",
    "                           .setPoolingStrategy(\"AVERAGE\")\n",
    "\n",
    "\n",
    "embeddingsFinisher = EmbeddingsFinisher() \\\n",
    "                           .setInputCols(\"sentence_embeddings_glove\") \\\n",
    "                           .setOutputCols(\"finished_embeddings_glove\") \\\n",
    "                           .setOutputAsVector(True) \\\n",
    "                           .setCleanAnnotations(False)\n",
    "\n",
    "sentencesEch = embeddingsSentence.transform(embedsEch)\n",
    "embeddingsFinisher.transform(sentencesEch).select(\"finished_embeddings_glove\").show(5, 200)\n",
    "\n"
   ]
  },
  {
   "cell_type": "code",
   "execution_count": 0,
   "metadata": {
    "application/vnd.databricks.v1+cell": {
     "cellMetadata": {
      "byteLimit": 2048000,
      "rowLimit": 10000
     },
     "inputWidgets": {},
     "nuid": "f2fd42f8-b7c9-444c-9a19-604e36220bfe",
     "showTitle": false,
     "tableResultSettingsMap": {},
     "title": ""
    }
   },
   "outputs": [
    {
     "output_type": "stream",
     "name": "stdout",
     "output_type": "stream",
     "text": [
      "+--------------------------------------------------------------------------------------------------------------------------------------------------------------------------------------------------------+\n|                                                                                                                                                                               finished_embeddings_glove|\n+--------------------------------------------------------------------------------------------------------------------------------------------------------------------------------------------------------+\n|[[-0.06928376853466034,-0.01271053310483694,0.00862519908696413,-0.25277167558670044,-0.12423738092184067,0.07902661710977554,-0.07260183990001678,0.152671679854393,0.07146238535642624,-1.411920666...|\n|[[-0.05899748578667641,0.054601624608039856,-0.1071816235780716,-0.11128462851047516,-0.03310374915599823,-0.08629648387432098,-0.10258549451828003,0.19005662202835083,-0.09497736394405365,-0.70107...|\n|[[-0.13235606253147125,0.06125080958008766,-0.03614479675889015,-0.15638867020606995,-0.1266949474811554,0.07843363285064697,0.07999947667121887,0.17469343543052673,-0.03278797119855881,-1.43478679...|\n|[[-0.16983948647975922,0.034789495170116425,-2.562478184700012E-4,-0.0336466021835804,-0.18170824646949768,0.05963900685310364,0.10411250591278076,0.04244575276970863,-0.08185386657714844,-0.998736...|\n|[[-0.22194337844848633,-0.03530037775635719,0.007327498868107796,-0.07282354682683945,-0.11924143880605698,0.09478850662708282,-0.08547478169202805,-0.07128225266933441,0.199027419090271,-1.1092586...|\n+--------------------------------------------------------------------------------------------------------------------------------------------------------------------------------------------------------+\nonly showing top 5 rows\n\n"
     ]
    }
   ],
   "source": [
    "from pyspark.ml import Pipeline\n",
    "# a resoudre\n",
    "pipelineGlove = Pipeline() \\\n",
    "                      .setStages([ \\\n",
    "                         documentAssembler, \\\n",
    "                         tokenizer, \\\n",
    "                         embeddings, \\\n",
    "                         embeddingsSentence, \\\n",
    "                         embeddingsFinisher \\\n",
    "                      ])\n",
    "\n",
    "\n",
    "resultGlove = pipelineGlove.fit(data1).transform(data1).cache()\n",
    "resultGlove.select(\"finished_embeddings_glove\").show(5, 200)"
   ]
  },
  {
   "cell_type": "code",
   "execution_count": 0,
   "metadata": {
    "application/vnd.databricks.v1+cell": {
     "cellMetadata": {
      "byteLimit": 2048000,
      "rowLimit": 10000
     },
     "inputWidgets": {},
     "nuid": "1ea65fc3-eec5-40f7-b74d-3025c6e83e9d",
     "showTitle": false,
     "tableResultSettingsMap": {},
     "title": ""
    }
   },
   "outputs": [
    {
     "output_type": "stream",
     "name": "stdout",
     "output_type": "stream",
     "text": [
      "+---+-------------------------------------------------------------------------------------------------------------------------------------+-----+--------------------------------------------------------------------------------------------------------------------------------------------------------------------------------+--------------------------------------------------------------------------------------------------------------------------------------------------------------------------------------------------------+--------------------------------------------------------------------------------------------------------------------------------------------------------------------------------------------------------+--------------------------------------------------------------------------------------------------------------------------------------------------------------------------------------------------------+--------------------------------------------------------------------------------------------------------------------------------------------------------------------------------------------------------+\n| id|                                                                                                                                 text|label|                                                                                                                                                                        document|                                                                                                                                                                                                   token|                                                                                                                                                                                        glove_embeddings|                                                                                                                                                                               sentence_embeddings_glove|                                                                                                                                                                               finished_embeddings_glove|\n+---+-------------------------------------------------------------------------------------------------------------------------------------+-----+--------------------------------------------------------------------------------------------------------------------------------------------------------------------------------+--------------------------------------------------------------------------------------------------------------------------------------------------------------------------------------------------------+--------------------------------------------------------------------------------------------------------------------------------------------------------------------------------------------------------+--------------------------------------------------------------------------------------------------------------------------------------------------------------------------------------------------------+--------------------------------------------------------------------------------------------------------------------------------------------------------------------------------------------------------+\n|  1|                                                                Our Deeds are the Reason of this #earthquake May ALLAH Forgive us all|    1|                                                                 [{document, 0, 68, Our Deeds are the Reason of this #earthquake May ALLAH Forgive us all, {sentence -> 0}, []}]|[{token, 0, 2, Our, {sentence -> 0}, []}, {token, 4, 8, Deeds, {sentence -> 0}, []}, {token, 10, 12, are, {sentence -> 0}, []}, {token, 14, 16, the, {sentence -> 0}, []}, {token, 18, 23, Reason, {s...|[{word_embeddings, 0, 2, Our, {isOOV -> false, pieceId -> -1, isWordStart -> true, token -> Our, sentence -> 0}, [-0.025179, 0.07837, -0.17637, -0.12285, -0.13156, 0.26591, -0.60064, 0.46653, 0.042...|[{sentence_embeddings, 0, 68, Our Deeds are the Reason of this #earthquake May ALLAH Forgive us all, {sentence -> 0, token -> Our Deeds are the Reason of this #earthquake May ALLAH Forgive us all, ...|[[-0.06928376853466034,-0.01271053310483694,0.00862519908696413,-0.25277167558670044,-0.12423738092184067,0.07902661710977554,-0.07260183990001678,0.152671679854393,0.07146238535642624,-1.411920666...|\n|  2|                                                                                               Forest fire near La Ronge Sask. Canada|    1|                                                                                                [{document, 0, 37, Forest fire near La Ronge Sask. Canada, {sentence -> 0}, []}]|[{token, 0, 5, Forest, {sentence -> 0}, []}, {token, 7, 10, fire, {sentence -> 0}, []}, {token, 12, 15, near, {sentence -> 0}, []}, {token, 17, 18, La, {sentence -> 0}, []}, {token, 20, 24, Ronge, ...|[{word_embeddings, 0, 5, Forest, {isOOV -> false, pieceId -> -1, isWordStart -> true, token -> Forest, sentence -> 0}, [-0.45533, 0.14615, -0.028433, 0.4449, 0.22859, -0.15682, 0.37571, 0.76405, 0....|[{sentence_embeddings, 0, 37, Forest fire near La Ronge Sask. Canada, {sentence -> 0, token -> Forest fire near La Ronge Sask. Canada, pieceId -> -1, isWordStart -> true}, [-0.058997486, 0.05460162...|[[-0.05899748578667641,0.054601624608039856,-0.1071816235780716,-0.11128462851047516,-0.03310374915599823,-0.08629648387432098,-0.10258549451828003,0.19005662202835083,-0.09497736394405365,-0.70107...|\n|  3|All residents asked to 'shelter in place' are being notified by officers. No other evacuation or shelter in place orders are expected|    1|[{document, 0, 132, All residents asked to 'shelter in place' are being notified by officers. No other evacuation or shelter in place orders are expected, {sentence -> 0}, []}]|[{token, 0, 2, All, {sentence -> 0}, []}, {token, 4, 12, residents, {sentence -> 0}, []}, {token, 14, 18, asked, {sentence -> 0}, []}, {token, 20, 21, to, {sentence -> 0}, []}, {token, 23, 23, ', {...|[{word_embeddings, 0, 2, All, {isOOV -> false, pieceId -> -1, isWordStart -> true, token -> All, sentence -> 0}, [-0.069921, 0.18417, 0.21716, -0.44034, -0.21262, 0.34661, -0.24908, -0.015273, 0.10...|[{sentence_embeddings, 0, 132, All residents asked to 'shelter in place' are being notified by officers. No other evacuation or shelter in place orders are expected, {sentence -> 0, token -> All re...|[[-0.13235606253147125,0.06125080958008766,-0.03614479675889015,-0.15638867020606995,-0.1266949474811554,0.07843363285064697,0.07999947667121887,0.17469343543052673,-0.03278797119855881,-1.43478679...|\n|  4|                                                                    13,000 people receive #wildfires evacuation orders in California |    1|                                                                     [{document, 0, 64, 13,000 people receive #wildfires evacuation orders in California , {sentence -> 0}, []}]|[{token, 0, 5, 13,000, {sentence -> 0}, []}, {token, 7, 12, people, {sentence -> 0}, []}, {token, 14, 20, receive, {sentence -> 0}, []}, {token, 22, 31, #wildfires, {sentence -> 0}, []}, {token, 33...|[{word_embeddings, 0, 5, 13,000, {isOOV -> false, pieceId -> -1, isWordStart -> true, token -> 13,000, sentence -> 0}, [-0.091704, 0.47105, 0.44867, 0.41515, -0.075563, -0.083963, 0.40406, 0.11043,...|[{sentence_embeddings, 0, 64, 13,000 people receive #wildfires evacuation orders in California , {sentence -> 0, token -> 13,000 people receive #wildfires evacuation orders in California , pieceId ...|[[-0.16983948647975922,0.034789495170116425,-2.562478184700012E-4,-0.0336466021835804,-0.18170824646949768,0.05963900685310364,0.10411250591278076,0.04244575276970863,-0.08185386657714844,-0.998736...|\n|  5|                                             Just got sent this photo from Ruby #Alaska as smoke from #wildfires pours into a school |    1|                                              [{document, 0, 87, Just got sent this photo from Ruby #Alaska as smoke from #wildfires pours into a school , {sentence -> 0}, []}]|[{token, 0, 3, Just, {sentence -> 0}, []}, {token, 5, 7, got, {sentence -> 0}, []}, {token, 9, 12, sent, {sentence -> 0}, []}, {token, 14, 17, this, {sentence -> 0}, []}, {token, 19, 23, photo, {se...|[{word_embeddings, 0, 3, Just, {isOOV -> false, pieceId -> -1, isWordStart -> true, token -> Just, sentence -> 0}, [-0.24005, 0.15426, -0.17838, 0.20981, -0.066943, 0.13387, -0.2579, -0.27093, 0.29...|[{sentence_embeddings, 0, 87, Just got sent this photo from Ruby #Alaska as smoke from #wildfires pours into a school , {sentence -> 0, token -> Just got sent this photo from Ruby #Alaska as smoke ...|[[-0.22194337844848633,-0.03530037775635719,0.007327498868107796,-0.07282354682683945,-0.11924143880605698,0.09478850662708282,-0.08547478169202805,-0.07128225266933441,0.199027419090271,-1.1092586...|\n+---+-------------------------------------------------------------------------------------------------------------------------------------+-----+--------------------------------------------------------------------------------------------------------------------------------------------------------------------------------+--------------------------------------------------------------------------------------------------------------------------------------------------------------------------------------------------------+--------------------------------------------------------------------------------------------------------------------------------------------------------------------------------------------------------+--------------------------------------------------------------------------------------------------------------------------------------------------------------------------------------------------------+--------------------------------------------------------------------------------------------------------------------------------------------------------------------------------------------------------+\nonly showing top 5 rows\n\n"
     ]
    }
   ],
   "source": [
    "resultGlove= embeddingsFinisher.transform(sentencesEch)\n",
    "resultGlove.show(5,200)"
   ]
  },
  {
   "cell_type": "code",
   "execution_count": 0,
   "metadata": {
    "application/vnd.databricks.v1+cell": {
     "cellMetadata": {
      "byteLimit": 2048000,
      "rowLimit": 10000
     },
     "inputWidgets": {},
     "nuid": "2c2ce518-328c-4a92-8332-871326960326",
     "showTitle": false,
     "tableResultSettingsMap": {},
     "title": ""
    }
   },
   "outputs": [],
   "source": [
    "allEmbeddings = resultGlove.selectExpr(\"finished_embeddings_glove[0]\", \"label\")\n",
    "\n"
   ]
  },
  {
   "cell_type": "code",
   "execution_count": 0,
   "metadata": {
    "application/vnd.databricks.v1+cell": {
     "cellMetadata": {
      "byteLimit": 2048000,
      "rowLimit": 10000
     },
     "inputWidgets": {},
     "nuid": "1d027eb7-8dd9-4413-95bb-06ab853be7db",
     "showTitle": false,
     "tableResultSettingsMap": {},
     "title": ""
    }
   },
   "outputs": [
    {
     "output_type": "stream",
     "name": "stdout",
     "output_type": "stream",
     "text": [
      "Accuracy: 0.8593487386818074\n"
     ]
    }
   ],
   "source": [
    "from pyspark.ml.classification import LogisticRegression\n",
    "from pyspark.ml.evaluation import BinaryClassificationEvaluator\n",
    "from pyspark.ml.tuning import CrossValidator, ParamGridBuilder\n",
    "\n",
    "# Initialiser un modèle de régression logistique\n",
    "lr = LogisticRegression(featuresCol=\"finished_embeddings_glove[0]\", labelCol=\"label\")\n",
    "\n",
    "# Construire une grille de paramètres pour le tuning\n",
    "paramGrid = ParamGridBuilder().addGrid(lr.regParam, [0.01, 0.04, 0.1, 0.7, 1.0]).build()\n",
    "\n",
    "# Configurer CrossValidator pour le tuning\n",
    "crossval = CrossValidator(estimator=lr,\n",
    "                          estimatorParamMaps=paramGrid,\n",
    "                          evaluator=BinaryClassificationEvaluator(),\n",
    "                          numFolds=5)\n",
    "\n",
    "# Entraîner le modèle\n",
    "cvModel = crossval.fit(allEmbeddings)\n",
    "\n",
    "# Évaluer le modèle\n",
    "predictions = cvModel.transform(allEmbeddings)\n",
    "evaluator = BinaryClassificationEvaluator(labelCol=\"label\")\n",
    "accuracy = evaluator.evaluate(predictions)\n",
    "print(f\"Accuracy: {accuracy}\")"
   ]
  },
  {
   "cell_type": "code",
   "execution_count": 0,
   "metadata": {
    "application/vnd.databricks.v1+cell": {
     "cellMetadata": {
      "byteLimit": 2048000,
      "rowLimit": 10000
     },
     "inputWidgets": {},
     "nuid": "daf01692-d6a5-4558-951d-1f7cf52bd0da",
     "showTitle": false,
     "tableResultSettingsMap": {},
     "title": ""
    }
   },
   "outputs": [
    {
     "output_type": "stream",
     "name": "stdout",
     "output_type": "stream",
     "text": [
      "+----------------------------+-----+--------------------+--------------------+----------+\n|finished_embeddings_glove[0]|label|       rawPrediction|         probability|prediction|\n+----------------------------+-----+--------------------+--------------------+----------+\n|        [-0.0692837685346...|    1|[0.9382492194644,...|[0.71874587228663...|       0.0|\n|        [-0.0589974857866...|    1|[-2.8436065170257...|[0.05501274697257...|       1.0|\n|        [-0.1323560625314...|    1|[-1.2904097054499...|[0.21578347199762...|       1.0|\n|        [-0.1698394864797...|    1|[-3.3341182097690...|[0.03441910121366...|       1.0|\n|        [-0.2219433784484...|    1|[-0.1177100032644...|[0.47060643025436...|       1.0|\n|        [-0.1226526275277...|    1|[-1.6340075086796...|[0.16328211205020...|       1.0|\n|        [-0.1124185249209...|    1|[-3.2788737206827...|[0.03630309889191...|       1.0|\n|        [-0.1336046308279...|    1|[0.05820328758255...|[0.51454671556217...|       0.0|\n|        [-0.0957832410931...|    1|[-2.3629528155564...|[0.08604170540782...|       1.0|\n|        [-0.0876723602414...|    1|[-1.0716606490919...|[0.25508740293323...|       1.0|\n|        [-0.0952222272753...|    1|[-2.6629115406785...|[0.06519765917564...|       1.0|\n|        [-0.0283852405846...|    1|[0.83338439686661...|[0.69707006682264...|       0.0|\n|        [-0.0881053879857...|    1|[0.86622443873107...|[0.70395947539326...|       0.0|\n|        [-0.0329762846231...|    1|[-2.2070441053058...|[0.09911970718008...|       1.0|\n|        [-0.1150481030344...|    1|[-3.0351592195254...|[0.04586253421242...|       1.0|\n|        [-0.1606474965810...|    0|[1.77383014062553...|[0.85493334006923...|       0.0|\n|        [-0.2591300010681...|    0|[6.07885782775240...|[0.99771444409446...|       0.0|\n|        [-0.2870766520500...|    0|[1.75577622760579...|[0.85267987295332...|       0.0|\n|        [-0.0418989993631...|    0|[1.87058177843747...|[0.86652557972815...|       0.0|\n|        [-0.1243225038051...|    0|[0.97812124635695...|[0.72673527153388...|       0.0|\n+----------------------------+-----+--------------------+--------------------+----------+\nonly showing top 20 rows\n\n"
     ]
    }
   ],
   "source": [
    "predictions.show()"
   ]
  },
  {
   "cell_type": "code",
   "execution_count": 0,
   "metadata": {
    "application/vnd.databricks.v1+cell": {
     "cellMetadata": {
      "byteLimit": 2048000,
      "rowLimit": 10000
     },
     "inputWidgets": {},
     "nuid": "04dea1ad-adf6-4b53-8102-f07a590eea3c",
     "showTitle": false,
     "tableResultSettingsMap": {},
     "title": ""
    }
   },
   "outputs": [
    {
     "output_type": "stream",
     "name": "stdout",
     "output_type": "stream",
     "text": [
      "Précision : 0.808\nRappel : 0.678\nF1-Score : 0.737\n"
     ]
    }
   ],
   "source": [
    "\n",
    "# Calculer les vrais positifs, faux positifs, faux négatifs, et vrais négatifs\n",
    "tp = predictions.filter((F.col(\"prediction\") == 1.0) & (F.col(\"label\") == 1)).count()\n",
    "fp = predictions.filter((F.col(\"prediction\") == 1.0) & (F.col(\"label\") == 0)).count()\n",
    "fn = predictions.filter((F.col(\"prediction\") == 0.0) & (F.col(\"label\") == 1)).count()\n",
    "tn = predictions.filter((F.col(\"prediction\") == 0.0) & (F.col(\"label\") == 0)).count()\n",
    "\n",
    "# Fonction pour calculer la F1-Score\n",
    "def calculate_f1_score(tp, fp, fn):\n",
    "    # Calcul de la précision\n",
    "    precision = tp / (tp + fp) if (tp + fp) > 0 else 0\n",
    "    \n",
    "    # Calcul du rappel\n",
    "    recall = tp / (tp + fn) if (tp + fn) > 0 else 0\n",
    "    \n",
    "    # Calcul de la F1-Score\n",
    "    f1_score = 2 * (precision * recall) / (precision + recall) if (precision + recall) > 0 else 0\n",
    "    \n",
    "    return f1_score, precision, recall\n",
    "\n",
    "# Calculer et afficher les résultats\n",
    "f1, precision, recall = calculate_f1_score(tp, fp, fn)\n",
    "print(f\"Précision : {precision:.3f}\")\n",
    "print(f\"Rappel : {recall:.3f}\")\n",
    "print(f\"F1-Score : {f1:.3f}\")\n"
   ]
  },
  {
   "cell_type": "code",
   "execution_count": 0,
   "metadata": {
    "application/vnd.databricks.v1+cell": {
     "cellMetadata": {
      "byteLimit": 2048000,
      "rowLimit": 10000
     },
     "inputWidgets": {},
     "nuid": "6ac7800c-4437-41d2-90e2-2053b2df4bc5",
     "showTitle": false,
     "tableResultSettingsMap": {},
     "title": ""
    }
   },
   "outputs": [],
   "source": [
    "test = spark.read.format(\"csv\").option(\"header\", True) \\\n",
    "                     .load(\"/FileStore/tables/test.csv\")\n",
    "\n",
    "                    "
   ]
  },
  {
   "cell_type": "code",
   "execution_count": 0,
   "metadata": {
    "application/vnd.databricks.v1+cell": {
     "cellMetadata": {
      "byteLimit": 2048000,
      "rowLimit": 10000
     },
     "inputWidgets": {},
     "nuid": "a13bc39a-30af-4295-8b9b-b6d387d4722d",
     "showTitle": false,
     "tableResultSettingsMap": {},
     "title": ""
    }
   },
   "outputs": [
    {
     "output_type": "stream",
     "name": "stdout",
     "output_type": "stream",
     "text": [
      "+---+-------------------+--------------------+--------------------+\n| id|            keyword|            location|                text|\n+---+-------------------+--------------------+--------------------+\n|  0|               null|                null|Just happened a t...|\n|  2|               null|                null|Heard about #eart...|\n|  3|               null|                null|there is a forest...|\n|  9|               null|                null|Apocalypse lighti...|\n| 11|               null|                null|Typhoon Soudelor ...|\n| 12|               null|                null|We're shaking...I...|\n| 21|               null|                null|They'd probably s...|\n| 22|               null|                null|   Hey! How are you?|\n| 27|               null|                null|    What a nice hat?|\n| 29|               null|                null|           Fuck off!|\n| 30|               null|                null|No I don't like c...|\n| 35|               null|                null|NOOOOOOOOO! Don't...|\n| 42|               null|                null|No don't tell me ...|\n| 43|               null|                null|           What if?!|\n| 45|               null|                null|            Awesome!|\n| 46|             ablaze|              London|Birmingham Wholes...|\n| 47|             ablaze|Niall's place | S...|@sunkxssedharry w...|\n| 51|             ablaze|             NIGERIA|#PreviouslyOnDoyi...|\n| 58|             ablaze|      Live On Webcam|Check these out: ...|\n| 60|             ablaze|Los Angeles, Cali...|PSA: IÛªm splitt...|\n| 69|             ablaze|      threeonefive. |beware world abla...|\n| 70|             ablaze|    Washington State|Burning Man Ablaz...|\n| 72|             ablaze|  Whoop Ass, Georgia|Not a diss song. ...|\n| 75|             ablaze|               India|Rape victim dies ...|\n| 84|             ablaze|                null|SETTING MYSELF AB...|\n| 87|             ablaze|scarborough, ontario|@CTVToronto the b...|\n| 88|             ablaze|                null|#nowplaying Alfon...|\n| 90|             ablaze|121 N La Salle St...|'Burning Rahm': L...|\n| 94|             ablaze|           Wandering|@PhilippaEilhart ...|\n| 99|           accident|        Homewood, PA|Accident cleared ...|\n|101|           accident|                null|Just got to love ...|\n|103|           accident|                null|I hate badging sh...|\n|106|           accident|                 USA|#3: Car Recorder ...|\n|108|           accident|       Massachusetts|Coincidence Or #C...|\n|111|           accident|             Bexhill|@Traffic_SouthE @...|\n|115|           accident|         Anime World|@sakuma_en If you...|\n|116|           accident|                null|For Legal and Med...|\n|122|           accident|  Cowtown, Caliii !!|There's a constru...|\n|123|           accident|                null|@RobynJilllian @W...|\n|124|           accident|   All Motorways, UK|On the #M42 north...|\n|125|           accident|  Frankfurt, Germany|@DaveOshry @Soemb...|\n|127|           accident|         Gresham, OR|ACCIDENT - HIT AN...|\n|140|           accident|                null|@Calum5SOS this h...|\n|142|           accident|          Las Vegas |Please donate and...|\n|147|         aftershock|         Midland, Mi|Please like and s...|\n|148|         aftershock|SÌ£o Vicente, SÌ£...|@bxckylynch foi n...|\n|150|         aftershock|  Vault 101, Fallout|Schoolboy ÛÒ Aft...|\n|152|         aftershock|         Switzerland|320 [IR] ICEMOON ...|\n|154|         aftershock|          California|'When the aftersh...|\n|155|         aftershock|              Europe|320 [IR] ICEMOON ...|\n|166|         aftershock|                 304|Stop saying 'I Wi...|\n|167|         aftershock|           Davis, CA|I want to go to A...|\n|169|         aftershock|         Detroit, MI|'We are still liv...|\n|177|         aftershock|         Switzerland|320 [IR] ICEMOON ...|\n|179|         aftershock|                null|Aftershock https:...|\n|181|         aftershock|                 304|'There is no vict...|\n|186|         aftershock|      United Kingdom|Bo2 had by far th...|\n|188|         aftershock|     London, England|Brass and Copper ...|\n|189|         aftershock|In your hearts an...|@JadeForMKX You s...|\n|192|         aftershock|             Runcorn|Aftershock https:...|\n|200|airplane%20accident|    Lake Charles, LA|When carelessness...|\n|202|airplane%20accident|     California, USA|@rewind_music fou...|\n|206|airplane%20accident|                null|A girl who died i...|\n|207|airplane%20accident|                null|@Mintechan Hihow ...|\n|214|airplane%20accident|   Eagle Pass, Texas|Mexican airplane ...|\n|217|airplane%20accident|                null|Horrible Accident...|\n|223|airplane%20accident|    inland empire ca|@god if an accide...|\n|224|airplane%20accident|              Muscat|Horrible Accident...|\n|227|airplane%20accident|                null|#UPDATE: Picture ...|\n|228|airplane%20accident|            New York|See how a judge r...|\n+---+-------------------+--------------------+--------------------+\nonly showing top 70 rows\n\n"
     ]
    }
   ],
   "source": [
    "def drop_null_id(df):\n",
    "    df = df.filter(F.col(\"id\").isNotNull())\n",
    "    return df\n",
    "\n",
    "\n",
    "def tri_test(df):\n",
    "    df = replace_text(df)  # remplace le text null, si il existe dans une des autres colonnes\n",
    "    df = replace_location(df)  #supprime le contenue de location si il y'à au moin un \"?\"\n",
    "    df = drop_null_text(df)   # supprime le text devenue nulle , si le target était à l'intérieur\n",
    "    df = drop_null_id(df)\n",
    "    return df\n",
    "    \n",
    "test = tri_test(test)\n",
    "test.show(70)"
   ]
  },
  {
   "cell_type": "code",
   "execution_count": 0,
   "metadata": {
    "application/vnd.databricks.v1+cell": {
     "cellMetadata": {
      "byteLimit": 2048000,
      "rowLimit": 10000
     },
     "inputWidgets": {},
     "nuid": "dac5962e-3109-4a6a-b2c8-c760a5245d49",
     "showTitle": false,
     "tableResultSettingsMap": {},
     "title": ""
    }
   },
   "outputs": [
    {
     "output_type": "stream",
     "name": "stdout",
     "output_type": "stream",
     "text": [
      "Out[30]: 3261"
     ]
    }
   ],
   "source": [
    "test.count()"
   ]
  },
  {
   "cell_type": "code",
   "execution_count": 0,
   "metadata": {
    "application/vnd.databricks.v1+cell": {
     "cellMetadata": {
      "byteLimit": 2048000,
      "rowLimit": 10000
     },
     "inputWidgets": {},
     "nuid": "e0427854-ee6b-43ae-b5ae-90fa8b9662ed",
     "showTitle": false,
     "tableResultSettingsMap": {},
     "title": ""
    }
   },
   "outputs": [
    {
     "output_type": "stream",
     "name": "stdout",
     "output_type": "stream",
     "text": [
      "+--------------------------------------------------------------------------------------------------------------------------------------------------------------------------------------------------------+\n|                                                                                                                                                                               finished_embeddings_glove|\n+--------------------------------------------------------------------------------------------------------------------------------------------------------------------------------------------------------+\n|[[0.1203618273139,0.037857331335544586,-0.09125516563653946,-0.1840178370475769,-0.12349233031272888,-0.013411663472652435,-0.028739996254444122,0.07825849205255508,0.1439501792192459,-1.3446332216...|\n|[[-0.1545984447002411,-0.001895270892418921,0.05120636150240898,-0.10950100421905518,0.04543263465166092,0.08200632780790329,0.044895343482494354,0.10999364405870438,0.12287580221891403,-1.46676445...|\n|[[-0.11264852434396744,0.07908333092927933,0.0012846468016505241,-0.023395538330078125,-0.04134400561451912,0.07974857091903687,0.05406325310468674,0.23913179337978363,0.0636436715722084,-1.3255819...|\n|[[0.035378001630306244,-0.16100400686264038,0.09895999729633331,-0.05316399782896042,-0.1360623985528946,0.16537240147590637,-0.042862001806497574,0.13798440992832184,0.019068002700805664,-0.398698...|\n|[[-0.2820979952812195,-0.05004262551665306,-0.14653661847114563,-0.19857224822044373,0.016379497945308685,-0.09022749960422516,0.01784750446677208,0.20637013018131256,0.14809152483940125,-1.0287988...|\n+--------------------------------------------------------------------------------------------------------------------------------------------------------------------------------------------------------+\nonly showing top 5 rows\n\n"
     ]
    }
   ],
   "source": [
    "#pblm pipeline\n",
    "resultGloveTest = pipelineGlove.fit(test).transform(test).cache()\n",
    "resultGloveTest.select(\"finished_embeddings_glove\").show(5, 200)"
   ]
  },
  {
   "cell_type": "code",
   "execution_count": 0,
   "metadata": {
    "application/vnd.databricks.v1+cell": {
     "cellMetadata": {
      "byteLimit": 2048000,
      "rowLimit": 10000
     },
     "inputWidgets": {},
     "nuid": "92edfbf4-b71f-4364-826b-6fc923aa334a",
     "showTitle": false,
     "tableResultSettingsMap": {},
     "title": ""
    }
   },
   "outputs": [
    {
     "output_type": "stream",
     "name": "stdout",
     "output_type": "stream",
     "text": [
      "+----------------------------+--------------------+--------------------+----------+\n|finished_embeddings_glove[0]|       rawPrediction|         probability|prediction|\n+----------------------------+--------------------+--------------------+----------+\n|        [0.1203618273139,...|[-3.2802326250087...|[0.03625558731945...|       1.0|\n|        [-0.1545984447002...|[0.55933252140506...|[0.63629808455223...|       0.0|\n|        [-0.1126485243439...|[-0.7992504646863...|[0.31018587456981...|       1.0|\n|        [0.03537800163030...|[1.49828696300559...|[0.81731884379785...|       0.0|\n|        [-0.2820979952812...|[-4.9340999596542...|[0.00714550979058...|       1.0|\n|        [-0.0528950020670...|[-2.1232957231361...|[0.10685313358493...|       1.0|\n|        [-0.1184807270765...|[1.66507061714492...|[0.84091749933997...|       0.0|\n|        [-0.1558066755533...|[3.95616673019964...|[0.98122299436241...|       0.0|\n|        [-0.1850659996271...|[3.69956826890747...|[0.97586281142469...|       0.0|\n|        [0.28944668173789...|[2.63508450081258...|[0.93308570912269...|       0.0|\n|        [-0.0552083365619...|[2.20153253797682...|[0.90038704890249...|       0.0|\n|        [0.04775938391685...|[2.73672606614801...|[0.93915929575339...|       0.0|\n|        [-0.0455352663993...|[2.54609439237454...|[0.92731069388452...|       0.0|\n|        [-0.1537660062313...|[2.56046431237385...|[0.92827337869053...|       0.0|\n|        [0.16746300458908...|[4.13990519768726...|[0.98432524929121...|       0.0|\n|        [-5.0712656229734...|[-0.3222093103377...|[0.42013741655449...|       1.0|\n|        [-0.0384842194616...|[2.45078808683598...|[0.92061906298434...|       0.0|\n|        [0.08240316808223...|[0.90746871100784...|[0.71248190357956...|       0.0|\n|        [-0.0020568892359...|[1.04806021193270...|[0.74040223269220...|       0.0|\n|        [-0.0256491396576...|[2.44919264429538...|[0.92050239040437...|       0.0|\n+----------------------------+--------------------+--------------------+----------+\nonly showing top 20 rows\n\nOut[33]: 3261"
     ]
    }
   ],
   "source": [
    "emTest = resultGloveTest.selectExpr(\"finished_embeddings_glove[0]\")\n",
    "resultats_predictions = cvModel.transform(emTest)\n",
    "resultats_predictions.show()\n",
    "resultats_predictions.count()\n"
   ]
  },
  {
   "cell_type": "code",
   "execution_count": 0,
   "metadata": {
    "application/vnd.databricks.v1+cell": {
     "cellMetadata": {
      "byteLimit": 2048000,
      "rowLimit": 10000
     },
     "inputWidgets": {},
     "nuid": "3efa81b0-ea82-41aa-9105-1d31b9ee528b",
     "showTitle": false,
     "tableResultSettingsMap": {},
     "title": ""
    }
   },
   "outputs": [
    {
     "output_type": "stream",
     "name": "stdout",
     "output_type": "stream",
     "text": [
      "root\n |-- id: string (nullable = true)\n |-- keyword: string (nullable = true)\n |-- location: string (nullable = true)\n |-- text: string (nullable = true)\n\nroot\n |-- finished_embeddings_glove[0]: vector (nullable = true)\n |-- rawPrediction: vector (nullable = true)\n |-- probability: vector (nullable = true)\n |-- prediction: double (nullable = false)\n\n"
     ]
    }
   ],
   "source": [
    "test.printSchema()\n",
    "resultats_predictions.printSchema()"
   ]
  },
  {
   "cell_type": "code",
   "execution_count": 0,
   "metadata": {
    "application/vnd.databricks.v1+cell": {
     "cellMetadata": {
      "byteLimit": 2048000,
      "rowLimit": 10000
     },
     "inputWidgets": {},
     "nuid": "0873ca5d-e3ca-474e-95a5-d8251f2c8af0",
     "showTitle": false,
     "tableResultSettingsMap": {},
     "title": ""
    }
   },
   "outputs": [
    {
     "output_type": "stream",
     "name": "stdout",
     "output_type": "stream",
     "text": [
      "+---+-------+--------------------+--------------------+----------------------------+--------------------+--------------------+----------+\n| id|keyword|            location|                text|finished_embeddings_glove[0]|       rawPrediction|         probability|prediction|\n+---+-------+--------------------+--------------------+----------------------------+--------------------+--------------------+----------+\n|  0|   null|                null|Just happened a t...|        [0.1203618273139,...|[-3.2802326250087...|[0.03625558731945...|       1.0|\n|  2|   null|                null|Heard about #eart...|        [-0.1545984447002...|[0.55933252140506...|[0.63629808455223...|       0.0|\n|  3|   null|                null|there is a forest...|        [-0.1126485243439...|[-0.7992504646863...|[0.31018587456981...|       1.0|\n|  9|   null|                null|Apocalypse lighti...|        [0.03537800163030...|[1.49828696300559...|[0.81731884379785...|       0.0|\n| 11|   null|                null|Typhoon Soudelor ...|        [-0.2820979952812...|[-4.9340999596542...|[0.00714550979058...|       1.0|\n| 12|   null|                null|We're shaking...I...|        [-0.0528950020670...|[-2.1232957231361...|[0.10685313358493...|       1.0|\n| 21|   null|                null|They'd probably s...|        [-0.1184807270765...|[1.66507061714492...|[0.84091749933997...|       0.0|\n| 22|   null|                null|   Hey! How are you?|        [-0.1558066755533...|[3.95616673019964...|[0.98122299436241...|       0.0|\n| 27|   null|                null|    What a nice hat?|        [-0.1850659996271...|[3.69956826890747...|[0.97586281142469...|       0.0|\n| 29|   null|                null|           Fuck off!|        [0.28944668173789...|[2.63508450081258...|[0.93308570912269...|       0.0|\n| 30|   null|                null|No I don't like c...|        [-0.0552083365619...|[2.20153253797682...|[0.90038704890249...|       0.0|\n| 35|   null|                null|NOOOOOOOOO! Don't...|        [0.04775938391685...|[2.73672606614801...|[0.93915929575339...|       0.0|\n| 42|   null|                null|No don't tell me ...|        [-0.0455352663993...|[2.54609439237454...|[0.92731069388452...|       0.0|\n| 43|   null|                null|           What if?!|        [-0.1537660062313...|[2.56046431237385...|[0.92827337869053...|       0.0|\n| 45|   null|                null|            Awesome!|        [0.16746300458908...|[4.13990519768726...|[0.98432524929121...|       0.0|\n| 46| ablaze|              London|Birmingham Wholes...|        [-5.0712656229734...|[-0.3222093103377...|[0.42013741655449...|       1.0|\n| 47| ablaze|Niall's place | S...|@sunkxssedharry w...|        [-0.0384842194616...|[2.45078808683598...|[0.92061906298434...|       0.0|\n| 51| ablaze|             NIGERIA|#PreviouslyOnDoyi...|        [0.08240316808223...|[0.90746871100784...|[0.71248190357956...|       0.0|\n| 58| ablaze|      Live On Webcam|Check these out: ...|        [-0.0020568892359...|[1.04806021193270...|[0.74040223269220...|       0.0|\n| 60| ablaze|Los Angeles, Cali...|PSA: IÛªm splitt...|        [-0.0256491396576...|[2.44919264429538...|[0.92050239040437...|       0.0|\n+---+-------+--------------------+--------------------+----------------------------+--------------------+--------------------+----------+\nonly showing top 20 rows\n\n"
     ]
    }
   ],
   "source": [
    "test = test.withColumn(\"row_index\", F.row_number().over(Window.orderBy(F.monotonically_increasing_id())))\n",
    "resultats_predictions = resultats_predictions.withColumn(\"row_index\", F.row_number().over(Window.orderBy(F.monotonically_increasing_id())))\n",
    "\n",
    "# Joindre les deux DataFrames sur \"row_index\"\n",
    "df_combined = test.join(resultats_predictions, on=\"row_index\", how=\"inner\").drop(\"row_index\")\n",
    "\n",
    "df_combined.show()"
   ]
  },
  {
   "cell_type": "code",
   "execution_count": 0,
   "metadata": {
    "application/vnd.databricks.v1+cell": {
     "cellMetadata": {
      "byteLimit": 2048000,
      "rowLimit": 10000
     },
     "inputWidgets": {},
     "nuid": "909231d3-4d92-41d5-be77-238042d1b603",
     "showTitle": false,
     "tableResultSettingsMap": {},
     "title": ""
    }
   },
   "outputs": [
    {
     "output_type": "stream",
     "name": "stdout",
     "output_type": "stream",
     "text": [
      "+---+----------+\n| id|prediction|\n+---+----------+\n|  0|       1.0|\n|  2|       0.0|\n|  3|       1.0|\n|  9|       0.0|\n| 11|       1.0|\n| 12|       1.0|\n| 21|       0.0|\n| 22|       0.0|\n| 27|       0.0|\n| 29|       0.0|\n| 30|       0.0|\n| 35|       0.0|\n| 42|       0.0|\n| 43|       0.0|\n| 45|       0.0|\n| 46|       1.0|\n| 47|       0.0|\n| 51|       0.0|\n| 58|       0.0|\n| 60|       0.0|\n+---+----------+\nonly showing top 20 rows\n\n"
     ]
    }
   ],
   "source": [
    "\n",
    "final = df_combined.select(\"id\", \"prediction\")\n",
    "final.show()"
   ]
  },
  {
   "cell_type": "code",
   "execution_count": 0,
   "metadata": {
    "application/vnd.databricks.v1+cell": {
     "cellMetadata": {
      "byteLimit": 2048000,
      "rowLimit": 10000
     },
     "inputWidgets": {},
     "nuid": "38b29a93-6241-441e-90e3-7d72ea61f216",
     "showTitle": false,
     "tableResultSettingsMap": {},
     "title": ""
    }
   },
   "outputs": [
    {
     "output_type": "stream",
     "name": "stdout",
     "output_type": "stream",
     "text": [
      "Fichier predictions.xlsx créé avec succès.\n"
     ]
    }
   ],
   "source": [
    "resultats_pandas = final.toPandas()\n",
    "\n",
    "# Convertir la colonne 'prediction' en entier\n",
    "resultats_pandas['prediction'] = resultats_pandas['prediction'].astype(int)\n",
    "\n",
    "# Créer une nouvelle colonne avec id et prediction séparés par une virgule\n",
    "resultats_pandas['id,target'] = resultats_pandas['id'] + ',' + resultats_pandas['prediction'].astype(str)\n",
    "\n",
    "# Conserver uniquement la nouvelle colonne 'id_target' pour le fichier Excel\n",
    "resultats_pandas_final = resultats_pandas[['id,target']]\n",
    "\n",
    "# Sauvegarder le DataFrame modifié en tant que fichier Excel\n",
    "resultats_pandas_final.to_excel(\"/tmp/predictions.xlsx\", index=False)\n",
    "\n",
    "\n",
    "\n",
    "print(\"Fichier predictions.xlsx créé avec succès.\")"
   ]
  },
  {
   "cell_type": "code",
   "execution_count": 0,
   "metadata": {
    "application/vnd.databricks.v1+cell": {
     "cellMetadata": {
      "byteLimit": 2048000,
      "rowLimit": 10000
     },
     "inputWidgets": {},
     "nuid": "2ca57e91-3366-41ce-b298-10947350080d",
     "showTitle": false,
     "tableResultSettingsMap": {},
     "title": ""
    }
   },
   "outputs": [
    {
     "output_type": "display_data",
     "data": {
      "text/html": [
       "<div>\n",
       "<style scoped>\n",
       "    .dataframe tbody tr th:only-of-type {\n",
       "        vertical-align: middle;\n",
       "    }\n",
       "\n",
       "    .dataframe tbody tr th {\n",
       "        vertical-align: top;\n",
       "    }\n",
       "\n",
       "    .dataframe thead th {\n",
       "        text-align: right;\n",
       "    }\n",
       "</style>\n",
       "<table border=\"1\" class=\"dataframe\">\n",
       "  <thead>\n",
       "    <tr style=\"text-align: right;\">\n",
       "      <th></th>\n",
       "      <th>id</th>\n",
       "      <th>prediction</th>\n",
       "      <th>id,target</th>\n",
       "    </tr>\n",
       "  </thead>\n",
       "  <tbody>\n",
       "    <tr>\n",
       "      <th>0</th>\n",
       "      <td>0</td>\n",
       "      <td>1</td>\n",
       "      <td>0,1</td>\n",
       "    </tr>\n",
       "    <tr>\n",
       "      <th>1</th>\n",
       "      <td>2</td>\n",
       "      <td>0</td>\n",
       "      <td>2,0</td>\n",
       "    </tr>\n",
       "    <tr>\n",
       "      <th>2</th>\n",
       "      <td>3</td>\n",
       "      <td>1</td>\n",
       "      <td>3,1</td>\n",
       "    </tr>\n",
       "    <tr>\n",
       "      <th>3</th>\n",
       "      <td>9</td>\n",
       "      <td>0</td>\n",
       "      <td>9,0</td>\n",
       "    </tr>\n",
       "    <tr>\n",
       "      <th>4</th>\n",
       "      <td>11</td>\n",
       "      <td>1</td>\n",
       "      <td>11,1</td>\n",
       "    </tr>\n",
       "    <tr>\n",
       "      <th>...</th>\n",
       "      <td>...</td>\n",
       "      <td>...</td>\n",
       "      <td>...</td>\n",
       "    </tr>\n",
       "    <tr>\n",
       "      <th>3256</th>\n",
       "      <td>10861</td>\n",
       "      <td>1</td>\n",
       "      <td>10861,1</td>\n",
       "    </tr>\n",
       "    <tr>\n",
       "      <th>3257</th>\n",
       "      <td>10865</td>\n",
       "      <td>1</td>\n",
       "      <td>10865,1</td>\n",
       "    </tr>\n",
       "    <tr>\n",
       "      <th>3258</th>\n",
       "      <td>10868</td>\n",
       "      <td>1</td>\n",
       "      <td>10868,1</td>\n",
       "    </tr>\n",
       "    <tr>\n",
       "      <th>3259</th>\n",
       "      <td>10874</td>\n",
       "      <td>1</td>\n",
       "      <td>10874,1</td>\n",
       "    </tr>\n",
       "    <tr>\n",
       "      <th>3260</th>\n",
       "      <td>10875</td>\n",
       "      <td>1</td>\n",
       "      <td>10875,1</td>\n",
       "    </tr>\n",
       "  </tbody>\n",
       "</table>\n",
       "<p>3261 rows × 3 columns</p>\n",
       "</div>"
      ]
     },
     "metadata": {
      "application/vnd.databricks.v1+output": {
       "addedWidgets": {},
       "arguments": {},
       "data": "<div>\n<style scoped>\n    .dataframe tbody tr th:only-of-type {\n        vertical-align: middle;\n    }\n\n    .dataframe tbody tr th {\n        vertical-align: top;\n    }\n\n    .dataframe thead th {\n        text-align: right;\n    }\n</style>\n<table border=\"1\" class=\"dataframe\">\n  <thead>\n    <tr style=\"text-align: right;\">\n      <th></th>\n      <th>id</th>\n      <th>prediction</th>\n      <th>id,target</th>\n    </tr>\n  </thead>\n  <tbody>\n    <tr>\n      <th>0</th>\n      <td>0</td>\n      <td>1</td>\n      <td>0,1</td>\n    </tr>\n    <tr>\n      <th>1</th>\n      <td>2</td>\n      <td>0</td>\n      <td>2,0</td>\n    </tr>\n    <tr>\n      <th>2</th>\n      <td>3</td>\n      <td>1</td>\n      <td>3,1</td>\n    </tr>\n    <tr>\n      <th>3</th>\n      <td>9</td>\n      <td>0</td>\n      <td>9,0</td>\n    </tr>\n    <tr>\n      <th>4</th>\n      <td>11</td>\n      <td>1</td>\n      <td>11,1</td>\n    </tr>\n    <tr>\n      <th>...</th>\n      <td>...</td>\n      <td>...</td>\n      <td>...</td>\n    </tr>\n    <tr>\n      <th>3256</th>\n      <td>10861</td>\n      <td>1</td>\n      <td>10861,1</td>\n    </tr>\n    <tr>\n      <th>3257</th>\n      <td>10865</td>\n      <td>1</td>\n      <td>10865,1</td>\n    </tr>\n    <tr>\n      <th>3258</th>\n      <td>10868</td>\n      <td>1</td>\n      <td>10868,1</td>\n    </tr>\n    <tr>\n      <th>3259</th>\n      <td>10874</td>\n      <td>1</td>\n      <td>10874,1</td>\n    </tr>\n    <tr>\n      <th>3260</th>\n      <td>10875</td>\n      <td>1</td>\n      <td>10875,1</td>\n    </tr>\n  </tbody>\n</table>\n<p>3261 rows × 3 columns</p>\n</div>",
       "datasetInfos": [],
       "metadata": {},
       "removedWidgets": [],
       "textData": null,
       "type": "htmlSandbox"
      }
     },
     "output_type": "display_data"
    }
   ],
   "source": [
    "resultats_pandas"
   ]
  },
  {
   "cell_type": "code",
   "execution_count": 0,
   "metadata": {
    "application/vnd.databricks.v1+cell": {
     "cellMetadata": {
      "byteLimit": 2048000,
      "rowLimit": 10000
     },
     "inputWidgets": {},
     "nuid": "d67b914b-cbdc-4800-ad89-333ca970edcb",
     "showTitle": false,
     "tableResultSettingsMap": {},
     "title": ""
    }
   },
   "outputs": [
    {
     "output_type": "display_data",
     "data": {
      "text/html": [
       "<a download=\"predictions.xlsx\" href=\"data:application/vnd.openxmlformats-officedocument.spreadsheetml.sheet;base64,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\">Cliquez ici pour télécharger predictions.xlsx</a>"
      ]
     },
     "metadata": {
      "application/vnd.databricks.v1+output": {
       "addedWidgets": {},
       "arguments": {},
       "data": "<a download=\"predictions.xlsx\" href=\"data:application/vnd.openxmlformats-officedocument.spreadsheetml.sheet;base64,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\">Cliquez ici pour télécharger predictions.xlsx</a>",
       "datasetInfos": [],
       "metadata": {},
       "removedWidgets": [],
       "textData": null,
       "type": "htmlSandbox"
      }
     },
     "output_type": "display_data"
    }
   ],
   "source": [
    "import base64\n",
    "from IPython.display import HTML\n",
    "\n",
    "file_path = \"/tmp/predictions.xlsx\"\n",
    "\n",
    "# Lire le fichier en mode binaire et encoder en base64\n",
    "with open(file_path, \"rb\") as f:\n",
    "    data = f.read()\n",
    "    b64_data = base64.b64encode(data).decode()\n",
    "\n",
    "# Créer un lien de téléchargement\n",
    "download_link = f'<a download=\"predictions.xlsx\" href=\"data:application/vnd.openxmlformats-officedocument.spreadsheetml.sheet;base64,{b64_data}\">Cliquez ici pour télécharger predictions.xlsx</a>'\n",
    "\n",
    "# Afficher le lien dans le notebook\n",
    "display(HTML(download_link))"
   ]
  },
  {
   "cell_type": "markdown",
   "metadata": {
    "application/vnd.databricks.v1+cell": {
     "cellMetadata": {},
     "inputWidgets": {},
     "nuid": "f6ca9e20-3f58-452a-bc9e-dcd10648a58d",
     "showTitle": false,
     "tableResultSettingsMap": {},
     "title": ""
    }
   },
   "source": [
    "resultat avec glove : 0,78394\n"
   ]
  }
 ],
 "metadata": {
  "application/vnd.databricks.v1+notebook": {
   "dashboards": [],
   "environmentMetadata": null,
   "language": "python",
   "notebookMetadata": {
    "pythonIndentUnit": 4
   },
   "notebookName": "Notebook sans titre 2024-10-29 16:21:32",
   "widgets": {}
  }
 },
 "nbformat": 4,
 "nbformat_minor": 0
}
