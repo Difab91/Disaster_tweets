{
 "cells": [
  {
   "cell_type": "markdown",
   "metadata": {
    "application/vnd.databricks.v1+cell": {
     "cellMetadata": {
      "byteLimit": 2048000,
      "rowLimit": 10000
     },
     "inputWidgets": {},
     "nuid": "b886b288-f439-4926-b705-3e10bd7f0eb3",
     "showTitle": false,
     "tableResultSettingsMap": {},
     "title": ""
    }
   },
   "source": [
    "#TWEETS DISASTER"
   ]
  },
  {
   "cell_type": "markdown",
   "metadata": {
    "application/vnd.databricks.v1+cell": {
     "cellMetadata": {
      "byteLimit": 2048000,
      "rowLimit": 10000
     },
     "inputWidgets": {},
     "nuid": "91a137a2-2321-4816-bbfd-f4f2514ab99d",
     "showTitle": false,
     "tableResultSettingsMap": {},
     "title": ""
    }
   },
   "source": [
    "Spark session"
   ]
  },
  {
   "cell_type": "code",
   "execution_count": 0,
   "metadata": {
    "application/vnd.databricks.v1+cell": {
     "cellMetadata": {
      "byteLimit": 2048000,
      "rowLimit": 10000
     },
     "inputWidgets": {},
     "nuid": "25190c75-53fc-4afc-8593-8e6b5b2f11a0",
     "showTitle": false,
     "tableResultSettingsMap": {},
     "title": ""
    }
   },
   "outputs": [
    {
     "data": {
      "text/html": [
       "\n",
       "            <div>\n",
       "                <p><b>SparkSession - hive</b></p>\n",
       "                \n",
       "        <div>\n",
       "            <p><b>SparkContext</b></p>\n",
       "\n",
       "            <p><a href=\"/?o=3156815320496620#setting/sparkui/1031-130154-np0wl43d/driver-6505984199403711668\">Spark UI</a></p>\n",
       "\n",
       "            <dl>\n",
       "              <dt>Version</dt>\n",
       "                <dd><code>v3.3.2</code></dd>\n",
       "              <dt>Master</dt>\n",
       "                <dd><code>local[8]</code></dd>\n",
       "              <dt>AppName</dt>\n",
       "                <dd><code>Databricks Shell</code></dd>\n",
       "            </dl>\n",
       "        </div>\n",
       "        \n",
       "            </div>\n",
       "        "
      ]
     },
     "metadata": {
      "application/vnd.databricks.v1+output": {
       "addedWidgets": {},
       "arguments": {},
       "data": "\n            <div>\n                <p><b>SparkSession - hive</b></p>\n                \n        <div>\n            <p><b>SparkContext</b></p>\n\n            <p><a href=\"/?o=3156815320496620#setting/sparkui/1031-130154-np0wl43d/driver-6505984199403711668\">Spark UI</a></p>\n\n            <dl>\n              <dt>Version</dt>\n                <dd><code>v3.3.2</code></dd>\n              <dt>Master</dt>\n                <dd><code>local[8]</code></dd>\n              <dt>AppName</dt>\n                <dd><code>Databricks Shell</code></dd>\n            </dl>\n        </div>\n        \n            </div>\n        ",
       "datasetInfos": [],
       "metadata": {},
       "removedWidgets": [],
       "textData": null,
       "type": "htmlSandbox"
      }
     },
     "output_type": "display_data"
    }
   ],
   "source": [
    "spark"
   ]
  },
  {
   "cell_type": "markdown",
   "metadata": {
    "application/vnd.databricks.v1+cell": {
     "cellMetadata": {
      "byteLimit": 2048000,
      "rowLimit": 10000
     },
     "inputWidgets": {},
     "nuid": "50775164-6c61-4398-bc5d-48cdca89f12b",
     "showTitle": false,
     "tableResultSettingsMap": {},
     "title": ""
    }
   },
   "source": [
    "install necessaire sur le cluster"
   ]
  },
  {
   "cell_type": "code",
   "execution_count": 0,
   "metadata": {
    "application/vnd.databricks.v1+cell": {
     "cellMetadata": {
      "byteLimit": 2048000,
      "rowLimit": 10000
     },
     "inputWidgets": {},
     "nuid": "a94e47f2-9dfe-42b3-acc9-cfca8f4555fa",
     "showTitle": false,
     "tableResultSettingsMap": {},
     "title": ""
    }
   },
   "outputs": [
    {
     "name": "stdout",
     "output_type": "stream",
     "text": [
      "Python interpreter will be restarted.\n",
      "Requirement already satisfied: spark-nlp in /local_disk0/.ephemeral_nfs/cluster_libraries/python/lib/python3.9/site-packages (5.5.1)\n",
      "Python interpreter will be restarted.\n"
     ]
    }
   ],
   "source": [
    "%pip install spark-nlp\n"
   ]
  },
  {
   "cell_type": "markdown",
   "metadata": {
    "application/vnd.databricks.v1+cell": {
     "cellMetadata": {
      "byteLimit": 2048000,
      "rowLimit": 10000
     },
     "inputWidgets": {},
     "nuid": "6c4969d9-d15b-49e8-904a-ba4eb61748ac",
     "showTitle": false,
     "tableResultSettingsMap": {},
     "title": ""
    }
   },
   "source": [
    "Import necessaire"
   ]
  },
  {
   "cell_type": "code",
   "execution_count": 0,
   "metadata": {
    "application/vnd.databricks.v1+cell": {
     "cellMetadata": {
      "byteLimit": 2048000,
      "rowLimit": 10000
     },
     "inputWidgets": {},
     "nuid": "3d5a4ff6-9216-443e-b50e-8e9f6f131166",
     "showTitle": false,
     "tableResultSettingsMap": {},
     "title": ""
    }
   },
   "outputs": [],
   "source": [
    "\n"
   ]
  },
  {
   "cell_type": "markdown",
   "metadata": {
    "application/vnd.databricks.v1+cell": {
     "cellMetadata": {
      "byteLimit": 2048000,
      "rowLimit": 10000
     },
     "inputWidgets": {},
     "nuid": "06fd82ec-db36-4fd6-9c1b-fa9f41f415f1",
     "showTitle": false,
     "tableResultSettingsMap": {},
     "title": ""
    }
   },
   "source": [
    "chargement du dataframe"
   ]
  },
  {
   "cell_type": "code",
   "execution_count": 0,
   "metadata": {
    "application/vnd.databricks.v1+cell": {
     "cellMetadata": {
      "byteLimit": 2048000,
      "rowLimit": 10000
     },
     "inputWidgets": {},
     "nuid": "853f2c9c-626f-4b2c-9869-782984d6ef57",
     "showTitle": false,
     "tableResultSettingsMap": {},
     "title": ""
    }
   },
   "outputs": [
    {
     "name": "stdout",
     "output_type": "stream",
     "text": [
      "Out[1]: [FileInfo(path='dbfs:/FileStore/tables/train-1.csv', name='train-1.csv', size=987712, modificationTime=1730380438000),\n",
      " FileInfo(path='dbfs:/FileStore/tables/train.csv', name='train.csv', size=987712, modificationTime=1730365543000)]"
     ]
    }
   ],
   "source": [
    "dbutils.fs.ls(\"/FileStore/tables\")\n"
   ]
  },
  {
   "cell_type": "code",
   "execution_count": 0,
   "metadata": {
    "application/vnd.databricks.v1+cell": {
     "cellMetadata": {
      "byteLimit": 2048000,
      "rowLimit": 10000
     },
     "inputWidgets": {},
     "nuid": "482e3fea-947c-4e9a-a6e8-be0fcb60ec45",
     "showTitle": false,
     "tableResultSettingsMap": {},
     "title": ""
    }
   },
   "outputs": [
    {
     "name": "stdout",
     "output_type": "stream",
     "text": [
      "+---+-------+--------+--------------------+------+\n",
      "| id|keyword|location|                text|target|\n",
      "+---+-------+--------+--------------------+------+\n",
      "|  1|   null|    null|Our Deeds are the...|     1|\n",
      "|  4|   null|    null|Forest fire near ...|     1|\n",
      "|  5|   null|    null|All residents ask...|     1|\n",
      "|  6|   null|    null|13,000 people rec...|     1|\n",
      "|  7|   null|    null|Just got sent thi...|     1|\n",
      "|  8|   null|    null|#RockyFire Update...|     1|\n",
      "| 10|   null|    null|#flood #disaster ...|     1|\n",
      "| 13|   null|    null|I'm on top of the...|     1|\n",
      "| 14|   null|    null|There's an emerge...|     1|\n",
      "| 15|   null|    null|I'm afraid that t...|     1|\n",
      "| 16|   null|    null|Three people died...|     1|\n",
      "| 17|   null|    null|Haha South Tampa ...|     1|\n",
      "| 18|   null|    null|#raining #floodin...|     1|\n",
      "| 19|   null|    null|#Flood in Bago My...|     1|\n",
      "| 20|   null|    null|Damage to school ...|     1|\n",
      "| 23|   null|    null|      What's up man?|     0|\n",
      "| 24|   null|    null|       I love fruits|     0|\n",
      "| 25|   null|    null|    Summer is lovely|     0|\n",
      "| 26|   null|    null|   My car is so fast|     0|\n",
      "| 28|   null|    null|What a goooooooaa...|     0|\n",
      "+---+-------+--------+--------------------+------+\n",
      "only showing top 20 rows\n",
      "\n"
     ]
    }
   ],
   "source": [
    "from pyspark.sql.functions import lit\n",
    "\n",
    "df_train = spark.read.format(\"csv\").option(\"header\", True) \\\n",
    "                     .load(\"/FileStore/tables/train.csv\")\n",
    "\n",
    "df_train.show(20)\n"
   ]
  },
  {
   "cell_type": "code",
   "execution_count": 0,
   "metadata": {
    "application/vnd.databricks.v1+cell": {
     "cellMetadata": {
      "byteLimit": 2048000,
      "rowLimit": 10000
     },
     "inputWidgets": {},
     "nuid": "6ac5b19f-a86b-4b9d-9132-8e5cdb97eb76",
     "showTitle": false,
     "tableResultSettingsMap": {},
     "title": ""
    }
   },
   "outputs": [
    {
     "name": "stdout",
     "output_type": "stream",
     "text": [
      "argon2-cffi==21.3.0\n",
      "argon2-cffi-bindings==21.2.0\n",
      "asttokens==2.0.5\n",
      "attrs==21.4.0\n",
      "backcall==0.2.0\n",
      "backports.entry-points-selectable==1.2.0\n",
      "beautifulsoup4==4.11.1\n",
      "black==22.3.0\n",
      "bleach==4.1.0\n",
      "boto3==1.21.32\n",
      "botocore==1.24.32\n",
      "certifi==2021.10.8\n",
      "cffi==1.15.0\n",
      "chardet==4.0.0\n",
      "charset-normalizer==2.0.4\n",
      "click==8.0.4\n",
      "cryptography==3.4.8\n",
      "cycler==0.11.0\n",
      "Cython==0.29.28\n",
      "dbus-python==1.2.16\n",
      "debugpy==1.5.1\n",
      "decorator==5.1.1\n",
      "defusedxml==0.7.1\n",
      "distlib==0.3.6\n",
      "distro==1.4.0\n",
      "distro-info==0.23+ubuntu1.1\n",
      "docstring-to-markdown==0.11\n",
      "entrypoints==0.4\n",
      "executing==0.8.3\n",
      "facets-overview==1.0.0\n",
      "fastjsonschema==2.16.2\n",
      "filelock==3.9.0\n",
      "fonttools==4.25.0\n",
      "idna==3.3\n",
      "ipykernel==6.15.3\n",
      "ipython==8.5.0\n",
      "ipython-genutils==0.2.0\n",
      "ipywidgets==7.7.2\n",
      "jedi==0.18.1\n",
      "Jinja2==2.11.3\n",
      "jmespath==0.10.0\n",
      "joblib==1.1.1\n",
      "jsonschema==4.4.0\n",
      "jupyter-client==6.1.12\n",
      "jupyter_core==4.11.2\n",
      "jupyterlab-pygments==0.1.2\n",
      "jupyterlab-widgets==1.0.0\n",
      "kiwisolver==1.3.2\n",
      "MarkupSafe==2.0.1\n",
      "matplotlib==3.5.1\n",
      "matplotlib-inline==0.1.2\n",
      "mccabe==0.7.0\n",
      "mistune==0.8.4\n",
      "mypy-extensions==0.4.3\n",
      "nbclient==0.5.13\n",
      "nbconvert==6.4.4\n",
      "nbformat==5.3.0\n",
      "nest-asyncio==1.5.5\n",
      "nodeenv==1.7.0\n",
      "notebook==6.4.8\n",
      "numpy==1.21.5\n",
      "packaging==21.3\n",
      "pandas==1.4.2\n",
      "pandocfilters==1.5.0\n",
      "parso==0.8.3\n",
      "pathspec==0.9.0\n",
      "patsy==0.5.2\n",
      "pexpect==4.8.0\n",
      "pickleshare==0.7.5\n",
      "Pillow==9.0.1\n",
      "platformdirs==2.6.2\n",
      "plotly==5.6.0\n",
      "pluggy==1.0.0\n",
      "prometheus-client==0.13.1\n",
      "prompt-toolkit==3.0.20\n",
      "protobuf==3.19.4\n",
      "psutil==5.8.0\n",
      "psycopg2==2.9.3\n",
      "ptyprocess==0.7.0\n",
      "pure-eval==0.2.2\n",
      "pyarrow==7.0.0\n",
      "pyarrow-hotfix==0.5\n",
      "pycparser==2.21\n",
      "pyflakes==2.5.0\n",
      "Pygments==2.11.2\n",
      "PyGObject==3.36.0\n",
      "pyodbc==4.0.32\n",
      "pyparsing==3.0.4\n",
      "pyright==1.1.283\n",
      "pyrsistent==0.18.0\n",
      "python-apt==2.0.1+ubuntu0.20.4.1\n",
      "python-dateutil==2.8.2\n",
      "python-lsp-jsonrpc==1.0.0\n",
      "python-lsp-server==1.6.0\n",
      "pytz==2021.3\n",
      "pyzmq==22.3.0\n",
      "requests==2.27.1\n",
      "requests-unixsocket==0.2.0\n",
      "rope==0.22.0\n",
      "s3transfer==0.5.0\n",
      "scikit-learn==1.0.2\n",
      "scipy==1.7.3\n",
      "seaborn==0.11.2\n",
      "Send2Trash==1.8.0\n",
      "six==1.16.0\n",
      "soupsieve==2.3.1\n",
      "spark-nlp==5.5.1\n",
      "ssh-import-id==5.10\n",
      "stack-data==0.2.0\n",
      "statsmodels==0.13.2\n",
      "tenacity==8.0.1\n",
      "terminado==0.13.1\n",
      "testpath==0.5.0\n",
      "threadpoolctl==2.2.0\n",
      "tokenize-rt==4.2.1\n",
      "tomli==1.2.2\n",
      "tornado==6.1\n",
      "traitlets==5.1.1\n",
      "typing_extensions==4.1.1\n",
      "ujson==5.1.0\n",
      "unattended-upgrades==0.1\n",
      "urllib3==1.26.9\n",
      "virtualenv==20.8.0\n",
      "wcwidth==0.2.5\n",
      "webencodings==0.5.1\n",
      "whatthepatch==1.0.4\n",
      "widgetsnbextension==3.6.1\n",
      "yapf==0.31.0\n"
     ]
    }
   ],
   "source": [
    "%pip freeze"
   ]
  },
  {
   "cell_type": "markdown",
   "metadata": {
    "application/vnd.databricks.v1+cell": {
     "cellMetadata": {
      "byteLimit": 2048000,
      "rowLimit": 10000
     },
     "inputWidgets": {},
     "nuid": "1bb95df7-6236-4a90-9eec-42622fe86091",
     "showTitle": false,
     "tableResultSettingsMap": {},
     "title": ""
    }
   },
   "source": [
    "Trie, pré-traitement"
   ]
  },
  {
   "cell_type": "code",
   "execution_count": 0,
   "metadata": {
    "application/vnd.databricks.v1+cell": {
     "cellMetadata": {
      "byteLimit": 2048000,
      "rowLimit": 10000
     },
     "inputWidgets": {},
     "nuid": "ca4754d3-4920-4d12-950a-4c789d81ad0f",
     "showTitle": false,
     "tableResultSettingsMap": {},
     "title": ""
    }
   },
   "outputs": [],
   "source": [
    "from pyspark.sql import Window\n",
    "from pyspark.sql import functions as F\n",
    "\n",
    "\n",
    "# fonctions de tri \n",
    "\n",
    "def replace_text(df):\n",
    "    text_columns = [\"id\", \"keyword\", \"location\"]\n",
    "\n",
    " \n",
    "    new_text_value = F.coalesce(*[F.when(F.col(c).cast(\"string\").isNotNull() & (F.col(c) != \"\"), F.col(c)) for c in text_columns])\n",
    "\n",
    "    df = (df\n",
    "          .withColumn(\"text\", F.when(F.col(\"text\").isNull(), new_text_value).otherwise(F.col(\"text\")))\n",
    "          .withColumn(\"id\", F.when((F.col(\"text\") == F.col(\"id\")) & F.col(\"id\").cast(\"string\").isNotNull(), None).otherwise(F.col(\"id\")))\n",
    "          .withColumn(\"keyword\", F.when((F.col(\"text\") == F.col(\"keyword\")), None).otherwise(F.col(\"keyword\")))\n",
    "          .withColumn(\"location\", F.when((F.col(\"text\") == F.col(\"location\")), None).otherwise(F.col(\"location\")))\n",
    "         )\n",
    "    return df\n",
    "\n",
    "\n",
    "\n",
    "def replace_target(df):\n",
    "    \n",
    "    int_columns = [\"keyword\", \"location\", \"text\"]\n",
    "\n",
    "    \n",
    "    new_target_value = F.coalesce(*[F.when((F.col(c) == 0) | (F.col(c) == 1), F.col(c)) for c in int_columns])\n",
    "\n",
    "    df = (df\n",
    "          .withColumn(\"target\", F.when(F.col(\"target\").isNull(), new_target_value).otherwise(F.col(\"target\")))\n",
    "          .withColumn(\"keyword\", F.when((F.col(\"target\") == F.col(\"keyword\")), None).otherwise(F.col(\"keyword\")))\n",
    "          .withColumn(\"location\", F.when((F.col(\"target\") == F.col(\"location\")), None).otherwise(F.col(\"location\")))\n",
    "          .withColumn(\"text\", F.when((F.col(\"target\") == F.col(\"text\")), None).otherwise(F.col(\"text\"))))\n",
    "\n",
    "    return df\n",
    "\n",
    "def replace_location(df):\n",
    "    df = df.withColumn(\"location\", F.when(F.col(\"location\").contains(\"?\"), None).otherwise(F.col(\"location\")))\n",
    "    return df\n",
    "\n",
    "def drop_null_target(df):\n",
    "    df = df.filter(F.col(\"target\").isNotNull())\n",
    "    return df\n",
    "    \n",
    "def drop_null_text(df):\n",
    "    df = df.filter(F.col(\"text\").isNotNull())\n",
    "    return df\n",
    "\n",
    "\n",
    "\n",
    "def reset_ids(df):\n",
    "    \n",
    "    window_spec = Window.orderBy(F.lit(1))\n",
    "    df = df.withColumn(\"id\", F.row_number().over(window_spec))\n",
    "    return df\n"
   ]
  },
  {
   "cell_type": "code",
   "execution_count": 0,
   "metadata": {
    "application/vnd.databricks.v1+cell": {
     "cellMetadata": {
      "byteLimit": 2048000,
      "rowLimit": 10000
     },
     "inputWidgets": {},
     "nuid": "c75724ed-aaaf-4e57-95c7-5ec19c4a0388",
     "showTitle": false,
     "tableResultSettingsMap": {},
     "title": ""
    }
   },
   "outputs": [
    {
     "name": "stdout",
     "output_type": "stream",
     "text": [
      "+----------------------------------+\n",
      "|sum(CAST((target IS NULL) AS INT))|\n",
      "+----------------------------------+\n",
      "|                              1211|\n",
      "+----------------------------------+\n",
      "\n",
      "+----------------------------------+\n",
      "|sum(CAST((target IS NULL) AS INT))|\n",
      "+----------------------------------+\n",
      "|                               775|\n",
      "+----------------------------------+\n",
      "\n",
      "+----+--------+--------------------+--------------------+------+\n",
      "|  id| keyword|            location|                text|target|\n",
      "+----+--------+--------------------+--------------------+------+\n",
      "|   1|    null|                null|Our Deeds are the...|     1|\n",
      "|   4|    null|                null|Forest fire near ...|     1|\n",
      "|   5|    null|                null|All residents ask...|     1|\n",
      "|   6|    null|                null|13,000 people rec...|     1|\n",
      "|   7|    null|                null|Just got sent thi...|     1|\n",
      "|   8|    null|                null|#RockyFire Update...|     1|\n",
      "|  10|    null|                null|#flood #disaster ...|     1|\n",
      "|  13|    null|                null|I'm on top of the...|     1|\n",
      "|  14|    null|                null|There's an emerge...|     1|\n",
      "|  15|    null|                null|I'm afraid that t...|     1|\n",
      "|  16|    null|                null|Three people died...|     1|\n",
      "|  17|    null|                null|Haha South Tampa ...|     1|\n",
      "|  18|    null|                null|#raining #floodin...|     1|\n",
      "|  19|    null|                null|#Flood in Bago My...|     1|\n",
      "|  20|    null|                null|Damage to school ...|     1|\n",
      "|  23|    null|                null|      What's up man?|     0|\n",
      "|  24|    null|                null|       I love fruits|     0|\n",
      "|  25|    null|                null|    Summer is lovely|     0|\n",
      "|  26|    null|                null|   My car is so fast|     0|\n",
      "|  28|    null|                null|What a goooooooaa...|     0|\n",
      "|  31|    null|                null|this is ridiculou...|     0|\n",
      "|  32|    null|                null|   London is cool ;)|     0|\n",
      "|  33|    null|                null|         Love skiing|     0|\n",
      "|  34|    null|                null|What a wonderful ...|     0|\n",
      "|  36|    null|                null|            LOOOOOOL|     0|\n",
      "|  37|    null|                null|No way...I can't ...|     0|\n",
      "|  38|    null|                null|Was in NYC last w...|     0|\n",
      "|  39|    null|                null|  Love my girlfriend|     0|\n",
      "|  40|    null|                null|           Cooool :)|     0|\n",
      "|  41|    null|                null|  Do you like pasta?|     0|\n",
      "|  44|    null|                null|            The end!|     0|\n",
      "|  48|  ablaze|          Birmingham|@bbcmtd Wholesale...|     1|\n",
      "|  49|  ablaze|Est. September 20...|We always try to ...|     0|\n",
      "|  50|  ablaze|              AFRICA|#AFRICANBAZE: Bre...|     1|\n",
      "|  52|  ablaze|    Philadelphia, PA|Crying out for mo...|     0|\n",
      "|  53|  ablaze|          London, UK|On plus side LOOK...|     0|\n",
      "|  54|  ablaze|            Pretoria|@PhDSquares #mufc...|     0|\n",
      "|  55|  ablaze|        World Wide!!|INEC Office in Ab...|     1|\n",
      "|  56|  ablaze|                null|Barbados #Bridget...|     1|\n",
      "|  57|  ablaze|      Paranaque City|Ablaze for you Lo...|     0|\n",
      "|  59|  ablaze|      Live On Webcam|Check these out: ...|     0|\n",
      "|  61|  ablaze|                null|on the outside yo...|  null|\n",
      "|null|    null|                null|but you're dead i...|     0|\n",
      "|  62|  ablaze|           milky way|Had an awesome ti...|     0|\n",
      "|  63|  ablaze|                null|SOOOO PUMPED FOR ...|     0|\n",
      "|  64|  ablaze|                null|I wanted to set C...|     0|\n",
      "|  65|  ablaze|                null|I gained 3 follow...|     0|\n",
      "|  66|  ablaze|GREENSBORO,NORTH ...|How the West was ...|     1|\n",
      "|  67|  ablaze|                null|Building the perf...|     0|\n",
      "|  68|  ablaze|      Live On Webcam|Check these out: ...|     0|\n",
      "|  71|  ablaze|            England.|First night with ...|     0|\n",
      "|  73|  ablaze|Sheffield Townshi...|Deputies: Man sho...|     1|\n",
      "|  74|  ablaze|               India|Man wife get six ...|  null|\n",
      "|null|    null|                null|http://t.co/eV1ah...|     1|\n",
      "|  76|  ablaze|            Barbados|SANTA CRUZ ÛÓ He...|     0|\n",
      "|  77|  ablaze|             Anaheim|Police: Arsonist ...|     1|\n",
      "|  78|  ablaze|               Abuja|Noches El-Bestia ...|     0|\n",
      "|  79|  ablaze|                 USA|#Kurds trampling ...|     1|\n",
      "|  80|  ablaze|        South Africa|TRUCK ABLAZE : R2...|     1|\n",
      "|  81|  ablaze|   Sao Paulo, Brazil|Set our hearts ab...|     0|\n",
      "|  82|  ablaze|      hollywoodland |They sky was abla...|     0|\n",
      "|  83|  ablaze|Edmonton, Alberta...|How the West was ...|     1|\n",
      "|  85|  ablaze|                null|Revel in yours wm...|     0|\n",
      "|  86|  ablaze|    Inang Pamantasan|Progressive greet...|  null|\n",
      "|null|    null|                null|In about a month ...|     0|\n",
      "|  89|  ablaze|Twitter Lockout i...|Rene Ablaze &amp;...|     0|\n",
      "|  91|  ablaze|         Concord, CA|@Navista7 Steve t...|     1|\n",
      "|  92|  ablaze|         Calgary, AB|#NowPlaying: Rene...|     0|\n",
      "|  93|  ablaze|          Birmingham|@nxwestmidlands h...|     1|\n",
      "|  95|  ablaze|       San Francisco|@ablaze what time...|     0|\n",
      "|  96|accident|              CLVLND|'I can't have kid...|     0|\n",
      "|  97|accident|       Nashville, TN|Accident on I-24 ...|     1|\n",
      "|  98|accident|     Santa Clara, CA|Accident center l...|     1|\n",
      "| 100|accident|                  UK|http://t.co/GKYe6...|     0|\n",
      "| 102|accident|       St. Louis, MO|#stlouis #caracci...|     0|\n",
      "| 104|accident|Walker County, Al...|Reported motor ve...|     1|\n",
      "| 105|accident|           Australia|BigRigRadio Live ...|     1|\n",
      "| 107|accident|      North Carolina|I-77 Mile Marker ...|     1|\n",
      "| 109|accident|                null|RT @SleepJunkies:...|     0|\n",
      "| 110|accident|       Norf Carolina|'By accident' the...|     0|\n",
      "| 112|accident|San Mateo County, CA|Traffic accident ...|     1|\n",
      "| 113|accident|      North Carolina|I-77 Mile Marker ...|     1|\n",
      "| 114|accident|        Njoro, Kenya|the pastor was no...|     1|\n",
      "| 117|accident|                null|mom: 'we didn't g...|  null|\n",
      "|null|    null|                null|  me: 'why is that?'|  null|\n",
      "|null|    null|                null|mom: 'there was a...|     0|\n",
      "| 118|accident|Your Sister's Bed...|I was in a horrib...|     1|\n",
      "| 119|accident|                null|Can wait to see h...|     0|\n",
      "| 120|accident|       Arlington, TX|#TruckCrash Overt...|     1|\n",
      "| 121|accident|South Bloomfield, OH|Accident in #Ashv...|     1|\n",
      "| 126|accident|                null|Carolina accident...|     1|\n",
      "| 128|accident|New Hanover Count...|FYI CAD:FYI: ;ACC...|     1|\n",
      "| 129|accident|            Maldives|RT nAAYf: First a...|     1|\n",
      "| 130|accident|      Manchester, NH|Accident left lan...|     1|\n",
      "| 131|accident|      Wilmington, NC|;ACCIDENT PROPERT...|     1|\n",
      "| 132|accident|                null|???? it was an ac...|     0|\n",
      "| 133|accident|New Hanover Count...|FYI CAD:FYI: ;ACC...|     1|\n",
      "| 134|accident|                null|8/6/2015@2:09 PM:...|     1|\n",
      "| 135|accident|              global|Aashiqui Actress ...|     1|\n",
      "| 136|accident|Alberta | Sask. |...|Suffield Alberta ...|     1|\n",
      "+----+--------+--------------------+--------------------+------+\n",
      "only showing top 100 rows\n",
      "\n"
     ]
    }
   ],
   "source": [
    "# on verifie\n",
    "df2=replace_text(df_train)\n",
    "null_count = df2.select(F.sum(F.col(\"target\").isNull().cast(\"int\"))).alias(\"null_count\")\n",
    "null_count.show()\n",
    "df3=replace_target(df2)\n",
    "null_count = df3.select(F.sum(F.col(\"target\").isNull().cast(\"int\"))).alias(\"null_count\")\n",
    "null_count.show()\n",
    "\n",
    "df3.show(100)"
   ]
  },
  {
   "cell_type": "code",
   "execution_count": 0,
   "metadata": {
    "application/vnd.databricks.v1+cell": {
     "cellMetadata": {
      "byteLimit": 2048000,
      "rowLimit": 10000
     },
     "inputWidgets": {},
     "nuid": "2d727072-8bb9-49d2-9333-d7f3c145a8c1",
     "showTitle": false,
     "tableResultSettingsMap": {},
     "title": ""
    }
   },
   "outputs": [],
   "source": [
    "def tri(df):\n",
    "    df = replace_text(df)  # remplace le text null, si il existe dans une des autres colonnes\n",
    "    df = replace_target(df) # remplace le target null si il existe dans une autre colonne\n",
    "    df = replace_location(df)  #supprime le contenue de location si il y'à au moin un \"?\"\n",
    "    df = drop_null_target(df) # supprime les target qui n'ont pas été remplacé car manquant\n",
    "    df = drop_null_text(df)   # supprime le text devenue nulle , si le target était à l'intérieur\n",
    "    df = reset_ids(df)  # Réinitialisation des IDs correctement\n",
    "    return df"
   ]
  },
  {
   "cell_type": "code",
   "execution_count": 0,
   "metadata": {
    "application/vnd.databricks.v1+cell": {
     "cellMetadata": {
      "byteLimit": 2048000,
      "rowLimit": 10000
     },
     "inputWidgets": {},
     "nuid": "ef918fa0-1667-44d3-90f1-235424e8afb0",
     "showTitle": false,
     "tableResultSettingsMap": {},
     "title": ""
    }
   },
   "outputs": [
    {
     "name": "stdout",
     "output_type": "stream",
     "text": [
      "+---+-------------------+--------------------+--------------------+------+\n",
      "| id|            keyword|            location|                text|target|\n",
      "+---+-------------------+--------------------+--------------------+------+\n",
      "|  1|               null|                null|Our Deeds are the...|     1|\n",
      "|  2|               null|                null|Forest fire near ...|     1|\n",
      "|  3|               null|                null|All residents ask...|     1|\n",
      "|  4|               null|                null|13,000 people rec...|     1|\n",
      "|  5|               null|                null|Just got sent thi...|     1|\n",
      "|  6|               null|                null|#RockyFire Update...|     1|\n",
      "|  7|               null|                null|#flood #disaster ...|     1|\n",
      "|  8|               null|                null|I'm on top of the...|     1|\n",
      "|  9|               null|                null|There's an emerge...|     1|\n",
      "| 10|               null|                null|I'm afraid that t...|     1|\n",
      "| 11|               null|                null|Three people died...|     1|\n",
      "| 12|               null|                null|Haha South Tampa ...|     1|\n",
      "| 13|               null|                null|#raining #floodin...|     1|\n",
      "| 14|               null|                null|#Flood in Bago My...|     1|\n",
      "| 15|               null|                null|Damage to school ...|     1|\n",
      "| 16|               null|                null|      What's up man?|     0|\n",
      "| 17|               null|                null|       I love fruits|     0|\n",
      "| 18|               null|                null|    Summer is lovely|     0|\n",
      "| 19|               null|                null|   My car is so fast|     0|\n",
      "| 20|               null|                null|What a goooooooaa...|     0|\n",
      "| 21|               null|                null|this is ridiculou...|     0|\n",
      "| 22|               null|                null|   London is cool ;)|     0|\n",
      "| 23|               null|                null|         Love skiing|     0|\n",
      "| 24|               null|                null|What a wonderful ...|     0|\n",
      "| 25|               null|                null|            LOOOOOOL|     0|\n",
      "| 26|               null|                null|No way...I can't ...|     0|\n",
      "| 27|               null|                null|Was in NYC last w...|     0|\n",
      "| 28|               null|                null|  Love my girlfriend|     0|\n",
      "| 29|               null|                null|           Cooool :)|     0|\n",
      "| 30|               null|                null|  Do you like pasta?|     0|\n",
      "| 31|               null|                null|            The end!|     0|\n",
      "| 32|             ablaze|          Birmingham|@bbcmtd Wholesale...|     1|\n",
      "| 33|             ablaze|Est. September 20...|We always try to ...|     0|\n",
      "| 34|             ablaze|              AFRICA|#AFRICANBAZE: Bre...|     1|\n",
      "| 35|             ablaze|    Philadelphia, PA|Crying out for mo...|     0|\n",
      "| 36|             ablaze|          London, UK|On plus side LOOK...|     0|\n",
      "| 37|             ablaze|            Pretoria|@PhDSquares #mufc...|     0|\n",
      "| 38|             ablaze|        World Wide!!|INEC Office in Ab...|     1|\n",
      "| 39|             ablaze|                null|Barbados #Bridget...|     1|\n",
      "| 40|             ablaze|      Paranaque City|Ablaze for you Lo...|     0|\n",
      "| 41|             ablaze|      Live On Webcam|Check these out: ...|     0|\n",
      "| 42|               null|                null|but you're dead i...|     0|\n",
      "| 43|             ablaze|           milky way|Had an awesome ti...|     0|\n",
      "| 44|             ablaze|                null|SOOOO PUMPED FOR ...|     0|\n",
      "| 45|             ablaze|                null|I wanted to set C...|     0|\n",
      "| 46|             ablaze|                null|I gained 3 follow...|     0|\n",
      "| 47|             ablaze|GREENSBORO,NORTH ...|How the West was ...|     1|\n",
      "| 48|             ablaze|                null|Building the perf...|     0|\n",
      "| 49|             ablaze|      Live On Webcam|Check these out: ...|     0|\n",
      "| 50|             ablaze|            England.|First night with ...|     0|\n",
      "| 51|             ablaze|Sheffield Townshi...|Deputies: Man sho...|     1|\n",
      "| 52|               null|                null|http://t.co/eV1ah...|     1|\n",
      "| 53|             ablaze|            Barbados|SANTA CRUZ ÛÓ He...|     0|\n",
      "| 54|             ablaze|             Anaheim|Police: Arsonist ...|     1|\n",
      "| 55|             ablaze|               Abuja|Noches El-Bestia ...|     0|\n",
      "| 56|             ablaze|                 USA|#Kurds trampling ...|     1|\n",
      "| 57|             ablaze|        South Africa|TRUCK ABLAZE : R2...|     1|\n",
      "| 58|             ablaze|   Sao Paulo, Brazil|Set our hearts ab...|     0|\n",
      "| 59|             ablaze|      hollywoodland |They sky was abla...|     0|\n",
      "| 60|             ablaze|Edmonton, Alberta...|How the West was ...|     1|\n",
      "| 61|             ablaze|                null|Revel in yours wm...|     0|\n",
      "| 62|               null|                null|In about a month ...|     0|\n",
      "| 63|             ablaze|Twitter Lockout i...|Rene Ablaze &amp;...|     0|\n",
      "| 64|             ablaze|         Concord, CA|@Navista7 Steve t...|     1|\n",
      "| 65|             ablaze|         Calgary, AB|#NowPlaying: Rene...|     0|\n",
      "| 66|             ablaze|          Birmingham|@nxwestmidlands h...|     1|\n",
      "| 67|             ablaze|       San Francisco|@ablaze what time...|     0|\n",
      "| 68|           accident|              CLVLND|'I can't have kid...|     0|\n",
      "| 69|           accident|       Nashville, TN|Accident on I-24 ...|     1|\n",
      "| 70|           accident|     Santa Clara, CA|Accident center l...|     1|\n",
      "| 71|           accident|                  UK|http://t.co/GKYe6...|     0|\n",
      "| 72|           accident|       St. Louis, MO|#stlouis #caracci...|     0|\n",
      "| 73|           accident|Walker County, Al...|Reported motor ve...|     1|\n",
      "| 74|           accident|           Australia|BigRigRadio Live ...|     1|\n",
      "| 75|           accident|      North Carolina|I-77 Mile Marker ...|     1|\n",
      "| 76|           accident|                null|RT @SleepJunkies:...|     0|\n",
      "| 77|           accident|       Norf Carolina|'By accident' the...|     0|\n",
      "| 78|           accident|San Mateo County, CA|Traffic accident ...|     1|\n",
      "| 79|           accident|      North Carolina|I-77 Mile Marker ...|     1|\n",
      "| 80|           accident|        Njoro, Kenya|the pastor was no...|     1|\n",
      "| 81|               null|                null|mom: 'there was a...|     0|\n",
      "| 82|           accident|Your Sister's Bed...|I was in a horrib...|     1|\n",
      "| 83|           accident|                null|Can wait to see h...|     0|\n",
      "| 84|           accident|       Arlington, TX|#TruckCrash Overt...|     1|\n",
      "| 85|           accident|South Bloomfield, OH|Accident in #Ashv...|     1|\n",
      "| 86|           accident|                null|Carolina accident...|     1|\n",
      "| 87|           accident|New Hanover Count...|FYI CAD:FYI: ;ACC...|     1|\n",
      "| 88|           accident|            Maldives|RT nAAYf: First a...|     1|\n",
      "| 89|           accident|      Manchester, NH|Accident left lan...|     1|\n",
      "| 90|           accident|      Wilmington, NC|;ACCIDENT PROPERT...|     1|\n",
      "| 91|           accident|                null|???? it was an ac...|     0|\n",
      "| 92|           accident|New Hanover Count...|FYI CAD:FYI: ;ACC...|     1|\n",
      "| 93|           accident|                null|8/6/2015@2:09 PM:...|     1|\n",
      "| 94|           accident|              global|Aashiqui Actress ...|     1|\n",
      "| 95|           accident|Alberta | Sask. |...|Suffield Alberta ...|     1|\n",
      "| 96|           accident|           Charlotte|9 Mile backup on ...|     1|\n",
      "| 97|           accident|     Baton Rouge, LA|Has an accident c...|     0|\n",
      "| 98|           accident|      Hagerstown, MD|#BREAKING: there ...|     1|\n",
      "| 99|           accident|Gloucestershire , UK|@flowri were you ...|     0|\n",
      "|100|           accident|                null|only had a car fo...|     1|\n",
      "|101|           accident|                  UK|.@NorwayMFA #Bahr...|     1|\n",
      "|102|           accident|      Nairobi, Kenya|I still have not ...|     0|\n",
      "|103|         aftershock|Instagram - @heyi...|@afterShock_DeLo ...|     0|\n",
      "|104|               null|                null|    Roger Bannister\"|     0|\n",
      "|105|         aftershock|         Switzerland|320 [IR] ICEMOON ...|     0|\n",
      "|106|         aftershock|                 304|'There is no vict...|     0|\n",
      "|107|         aftershock|                  US|320 [IR] ICEMOON ...|     0|\n",
      "|108|         aftershock|                 304|'Nobody remembers...|     0|\n",
      "|109|         aftershock|Instagram - @heyi...|@afterShock_DeLo ...|     0|\n",
      "|110|         aftershock|                 304|'The harder the c...|     0|\n",
      "|111|         aftershock|                null|#GrowingUpSpoiled...|     0|\n",
      "|112|         aftershock|                null|So i guess no one...|     0|\n",
      "|113|         aftershock|                null|Aftershock was th...|     0|\n",
      "|114|         aftershock|             Belgium|Aftershock https:...|     0|\n",
      "|115|         aftershock|         Switzerland|320 [IR] ICEMOON ...|     0|\n",
      "|116|         aftershock|                  US|320 [IR] ICEMOON ...|     0|\n",
      "|117|         aftershock|                null|320 [IR] ICEMOON ...|     0|\n",
      "|118|         aftershock|           dope show|@KJForDays I'm se...|     0|\n",
      "|119|         aftershock|         Switzerland|320 [IR] ICEMOON ...|     0|\n",
      "|120|         aftershock|         Switzerland|320 [IR] ICEMOON ...|     0|\n",
      "|121|         aftershock|      Oshawa, Canada|#WisdomWed BONUS ...|     0|\n",
      "|122|         aftershock|   Baker City Oregon|Aftershock: Prote...|     0|\n",
      "|123|         aftershock|                null|That moment when ...|     0|\n",
      "|124|         aftershock|                null|Aftershock ã¢ (2...|     0|\n",
      "|125|               null|                null|     @esquireattire\"|     0|\n",
      "|126|         aftershock|                 304|Sometimes you fac...|     0|\n",
      "|127|         aftershock|                 304|'The only thing t...|     0|\n",
      "|128|         aftershock|      marysville ca |Praise God that w...|     0|\n",
      "|129|         aftershock|                 304|'Remembering that...|     0|\n",
      "|130|         aftershock|   Hermosa Beach, CA|Tried orange afte...|     0|\n",
      "|131|         aftershock|                null|@OnFireAnders I l...|     0|\n",
      "|132|         aftershock|                null|Aftershock https:...|     0|\n",
      "|133|         aftershock|                null|Aftershock back t...|     0|\n",
      "|134|         aftershock|                 304|People who say it...|     0|\n",
      "|135|         aftershock|                 304|'The first man ge...|     0|\n",
      "|136|         aftershock|                null|Anyone need a P/U...|     0|\n",
      "|137|airplane%20accident|19.600858, -99.04...|Experts in France...|     1|\n",
      "|138|airplane%20accident|        Pennsylvania|Strict liability ...|     1|\n",
      "|139|airplane%20accident|Salt Lake City, Utah|@crobscarla your ...|     0|\n",
      "|140|airplane%20accident|       Palo Alto, CA|Experts in France...|     1|\n",
      "|141|airplane%20accident|                null|@AlexAllTimeLow a...|     1|\n",
      "|142|airplane%20accident|Spain but Opa-Loc...|family members of...|     1|\n",
      "|143|airplane%20accident|       Jaipur, India|Man Goes into Air...|     1|\n",
      "|144|airplane%20accident|Hyderabad Telanga...|Horrible Accident...|     1|\n",
      "|145|airplane%20accident|   Eagle Pass, Texas|A Cessna airplane...|     1|\n",
      "|146|airplane%20accident|           bangalore|#Horrible #Accide...|     1|\n",
      "|147|airplane%20accident|Financial News an...|Experts in France...|     1|\n",
      "|148|airplane%20accident|                null|Experts in France...|     1|\n",
      "|149|airplane%20accident|           Indonesia|#KCA #VoteJKT48ID...|     1|\n",
      "|150|airplane%20accident|y(our) boyfriends...|I almost sent my ...|     0|\n",
      "|151|airplane%20accident|     New Mexico, USA|@mickinyman @TheA...|     0|\n",
      "|152|airplane%20accident| Somewhere Out There|Experts in France...|     1|\n",
      "|153|               null|                null|#man #airport #ai...|     1|\n",
      "|154|airplane%20accident|        Mumbai india|Horrible Accident...|     1|\n",
      "|155|airplane%20accident|           sri lanka|Horrible Accident...|     1|\n",
      "|156|airplane%20accident|  Not a U.S resident|Usama bin Ladins ...|     1|\n",
      "|157|airplane%20accident|                null|Pilot Dies In Pla...|     1|\n",
      "|158|airplane%20accident|   Lehigh Valley, PA|Strict liability ...|     1|\n",
      "|159|airplane%20accident|              Canada|DTN Brazil: Exper...|     1|\n",
      "|160|airplane%20accident|                null|Experts in France...|     1|\n",
      "|161|airplane%20accident|            Thrissur|Horrible Accident...|     1|\n",
      "|162|               null|                null|                  +\"|     1|\n",
      "|163|airplane%20accident|               India|OMG Horrible Acci...|     1|\n",
      "|164|               null|                null|#AirPlane #Accide...|     1|\n",
      "|165|airplane%20accident|                null|Experts in France...|     1|\n",
      "|166|airplane%20accident|              Israel|I had a airplane ...|     1|\n",
      "|167|airplane%20accident|Fashion Heaven. I...|My phone looks li...|     0|\n",
      "|168|airplane%20accident|   San Francisco, CA|Statistically I'm...|     0|\n",
      "|169|airplane%20accident|               italy|airplane crashes ...|     1|\n",
      "|170|airplane%20accident|                 nyc|The shooting or t...|     1|\n",
      "|171|airplane%20accident|             Toronto|Could a drone cau...|     1|\n",
      "|172|          ambulance|                null|Early wake up cal...|     1|\n",
      "|173|          ambulance|             Jackson|http://t.co/AY6zz...|     1|\n",
      "|174|          ambulance|New York / Worldwide|Two air ambulance...|     1|\n",
      "|175|          ambulance|                null|Twelve feared kil...|     1|\n",
      "|176|          ambulance|     New Orleans, LA|Leading emergency...|     0|\n",
      "|177|          ambulance|          West Wales|Anyone travelling...|     1|\n",
      "|178|          ambulance|                null|Twelve feared kil...|     1|\n",
      "|179|          ambulance|Happily Married w...|AMBULANCE SPRINTE...|     0|\n",
      "|180|          ambulance|       Cambridge, MA|New Nanotech Devi...|     0|\n",
      "|181|          ambulance|            Arizona |@20skyhawkmm20 @t...|     1|\n",
      "|182|          ambulance|              Mumbai|If I get run over...|     0|\n",
      "|183|          ambulance|                null|#news Twelve fear...|     1|\n",
      "|184|          ambulance|           Amsterdam|http://t.co/7xGLa...|     1|\n",
      "|185|          ambulance|    Swindon,England |@TanSlash waiting...|     0|\n",
      "|186|          ambulance|                null|@fouseyTUBE you o...|     0|\n",
      "|187|          ambulance|Happily Married w...|AMBULANCE SPRINTE...|     0|\n",
      "|188|          ambulance|                null|Pakistan air ambu...|     1|\n",
      "|189|          ambulance|    Williamstown, VT|@TheNissonian @Re...|     0|\n",
      "|190|          ambulance| North Carolina, USA|EMS1: NY EMTs pet...|     0|\n",
      "|191|          ambulance|                null|http://t.co/FCqmK...|     1|\n",
      "|192|          ambulance|             Karachi|Twelve feared kil...|     1|\n",
      "|193|          ambulance|Happily Married w...|AMBULANCE SPRINTE...|     0|\n",
      "|194|          ambulance|Happily Married w...|AMBULANCE SPRINTE...|     0|\n",
      "|195|          ambulance|   Loveland Colorado|@Kiwi_Karyn Check...|     0|\n",
      "|196|          ambulance| || c h i c a g o |||when you don't kn...|     1|\n",
      "|197|          ambulance|                null|#reuters Twelve f...|     1|\n",
      "|198|          ambulance|               L. A.|http://t.co/pWwpU...|     1|\n",
      "|199|          ambulance|                null|Why is there an a...|     0|\n",
      "|200|          ambulance|              Canada|ÛÏ@LeoBlakeCarte...|     0|\n",
      "|201|          ambulance|VISIT MY YOUTUBE ...|HAPPENING NOW - H...|     0|\n",
      "|202|          ambulance|           Lexington|http://t.co/FueRk...|     1|\n",
      "|203|          ambulance|                null|http://t.co/X5YEU...|     1|\n",
      "|204|          ambulance|                 USA|Twelve feared kil...|     1|\n",
      "|205|          ambulance|   Hannover, Germany|Twelve feared kil...|     1|\n",
      "|206|          ambulance|                null|What's the police...|     0|\n",
      "|207|          ambulance|                null|@medic914 @AACE_o...|     0|\n",
      "|208|          ambulance|               Playa|http://t.co/J8TYT...|     1|\n",
      "|209|          ambulance|        Davidson, NC|People who try to...|     0|\n",
      "|210|        annihilated|       Higher Places|The episode where...|     0|\n",
      "|211|        annihilated|       Horsemind, MI|THEY SHALL BE ANN...|     0|\n",
      "|212|        annihilated|        New York, NY|Uribe just annihi...|     0|\n",
      "|213|        annihilated|            Boksburg|@marksmaponyane H...|     0|\n",
      "|214|        annihilated|                null|@Volfan326 @TNeaz...|     0|\n",
      "|215|        annihilated|                null|Annihilated Abs ....|     1|\n",
      "|216|        annihilated|                null|Be annihilated fo...|     0|\n",
      "|217|        annihilated|                null|*to Luka* They sh...|     0|\n",
      "|218|        annihilated|Greater Mancheste...|@ACarewornHeart H...|     0|\n",
      "|219|        annihilated|              Boston|Cop pulls drunk d...|     1|\n",
      "|220|        annihilated|                null|You must be annih...|     0|\n",
      "|221|        annihilated|                null|Cop pulls drunk d...|     1|\n",
      "|222|        annihilated|  The Canopy Kingdom|BOOM! Your countr...|     0|\n",
      "|223|        annihilated|                null|@AmirKingKhan you...|     0|\n",
      "|224|        annihilated|                 USA|One thing for sur...|     0|\n",
      "|225|        annihilated|                null|@violentfeminazi ...|     1|\n",
      "|226|        annihilated|                null|70 years since we...|     1|\n",
      "|227|        annihilated| the own zone layer |day 1 of tryouts ...|     0|\n",
      "|228|               null|                null|http://t.co/yangE...|     1|\n",
      "|229|        annihilated|        Trancy Manor|(To Luka) 'They s...|     0|\n",
      "|230|        annihilated|                null|Ready to get anni...|     1|\n",
      "|231|        annihilated|            South 37|@PhilipDuncan @br...|     1|\n",
      "|232|        annihilated|                null|Domain other soph...|     0|\n",
      "|233|        annihilated|West Lancashire, UK.|@stormbeard @stee...|     0|\n",
      "|234|        annihilated|                  PA|Officially skippi...|     0|\n",
      "|235|        annihilated|                null|@TomcatArts thus ...|     1|\n",
      "|236|        annihilated|Û¢ Views From Th...|just completely a...|     0|\n",
      "|237|        annihilated|                null|@TomcatArts 'who ...|     0|\n",
      "|238|        annihilated|University of Tor...|@SirBrandonKnt ex...|     0|\n",
      "|239|        annihilated|                null|Cop pulls drunk d...|     1|\n",
      "|240|               null|                null|http://t.co/7rakh...|     1|\n",
      "|241|        annihilated|                null|@thatdes ok i was...|     0|\n",
      "|242|        annihilated|              London|A fun filled happ...|     0|\n",
      "|243|        annihilated|           Albany/NY|Juanny Beisbol Sr...|     0|\n",
      "|244|       annihilation|     California, USA|@rvfriedmann Hell...|     1|\n",
      "|245|       annihilation|                null|@POTUS Maybe we s...|     0|\n",
      "|246|       annihilation|                null|Evildead - Annihi...|     0|\n",
      "|247|       annihilation|                null|U.S National Park...|     0|\n",
      "|248|       annihilation|       Wild Wild Web|annihilating quar...|     1|\n",
      "|249|       annihilation|     Subconscious LA|World Annihilatio...|     0|\n",
      "|250|       annihilation|               Spain|:StarMade: :Stard...|     1|\n",
      "|251|       annihilation|                null|U.S National Park...|     0|\n",
      "|252|       annihilation|                null|U.S National Park...|     1|\n",
      "|253|       annihilation|Yeezy Taught Me , NV|@KimKardashian ca...|     0|\n",
      "|254|       annihilation|                null|U.S National Park...|     1|\n",
      "|255|       annihilation|                null|@TheEllenShow Ple...|     0|\n",
      "|256|       annihilation|       United States|Are souls punishe...|     0|\n",
      "|257|       annihilation|                null|@CalFreedomMom @s...|     1|\n",
      "|258|       annihilation|                null|@willienelson We ...|     1|\n",
      "|259|       annihilation|       Rock Hill, SC|I reject the laws...|     0|\n",
      "|260|       annihilation|        Coolidge, AZ|U.S National Park...|     0|\n",
      "|261|               null|                null|Please God allow ...|     0|\n",
      "|262|       annihilation|                null|@Barbi_Twins We n...|     0|\n",
      "|263|       annihilation|                null|@Whippenz We need...|     0|\n",
      "|264|       annihilation|         Phoenix, AZ|Hey #AZ: Sign thi...|     0|\n",
      "|265|       annihilation| Ljubljana, Slovenia|Stop the Annihila...|     1|\n",
      "|266|       annihilation|         Connecticut|@SonofBaldwin and...|     0|\n",
      "|267|       annihilation|   Tacoma,Washington|U.S National Park...|     0|\n",
      "|268|       annihilation|                null|Please sign &amp;...|     0|\n",
      "|269|       annihilation|                null|THANKS!!!!! @COUN...|     0|\n",
      "|270|       annihilation|     Subconscious LA|World Annihilatio...|     1|\n",
      "|271|       annihilation|BIG D  HOUSTON/BO...|U.S National Park...|     0|\n",
      "|272|       annihilation|        Chandler, AZ|U.S National Park...|     1|\n",
      "|273|         apocalypse|            ColoRADo|I'm gonna fight T...|     0|\n",
      "|274|         apocalypse|             sindria|ohH NO FUKURODANI...|     1|\n",
      "|275|         apocalypse|                null|will there be ano...|     0|\n",
      "|276|         apocalypse|                null|RT: janenelson097...|     0|\n",
      "|277|         apocalypse|               Texas|   Apocalypse please|     0|\n",
      "|278|         apocalypse|  Elk Grove, CA, USA|Another hour! It'...|     1|\n",
      "|279|         apocalypse|               Texas|@HoneyBunzGem @pr...|     0|\n",
      "|280|         apocalypse|                null|She's kinda hot p...|     0|\n",
      "|281|         apocalypse|           The Shire|But if it's the a...|     0|\n",
      "|282|         apocalypse|          Austin, TX|I know it's a que...|     1|\n",
      "|283|         apocalypse|             Oakland|Julie + R is the ...|     0|\n",
      "|284|         apocalypse|                null|the apocalypse is...|     0|\n",
      "|285|         apocalypse|                null|RT: fittscott: Mi...|     0|\n",
      "|286|         apocalypse|         Albuquerque|And so it begins....|     1|\n",
      "|287|               null|                null|In the spirit the...|     0|\n",
      "|288|         apocalypse|Buenos Aires, Arg...|candylit: Imagine...|     0|\n",
      "|289|         apocalypse|                null|RT: ZONEWolf123: ...|     0|\n",
      "|290|         apocalypse|                null|And that's becaus...|     0|\n",
      "|291|         apocalypse| San Antonio-ish, TX|Dad bought a DVD ...|     1|\n",
      "|292|         apocalypse|       San Francisco|@alexandrapullin ...|     0|\n",
      "|293|         apocalypse|         Oregon, USA|GO LOOK AT GRIZZL...|     0|\n",
      "|294|         apocalypse|       Harlingen, TX|My niece just ask...|     0|\n",
      "|295|         apocalypse|          Buffalo NY|There's a Storm o...|     1|\n",
      "|296|         apocalypse|                null|Minecraft- NIGHT ...|     0|\n",
      "|297|         apocalypse|                null|Shot Through The ...|     0|\n",
      "|298|         apocalypse|                null|RT: Geek_Apocalyp...|     0|\n",
      "|299|         apocalypse|           Las Vegas|I know where to g...|     0|\n",
      "|300|         apocalypse|                null|The latest from @...|     1|\n",
      "|301|         apocalypse|                null|Shadow boxing the...|     1|\n",
      "|302|               null|                null|In the spirit the...|     1|\n",
      "|303|         apocalypse|               Tokyo|Enjoyed live-acti...|     0|\n",
      "|304|         apocalypse|                null|I liked a @YouTub...|     0|\n",
      "|305|         armageddon|California, Unite...|#PBBan (Temporary...|     0|\n",
      "|306|         armageddon|California, Unite...|#PBBan (Temporary...|     0|\n",
      "|307|         armageddon|    #FLIGHTCITY UK  |((OFFICIAL VID)) ...|     0|\n",
      "|308|         armageddon|                null|ouvindo Peace Lov...|     0|\n",
      "|309|         armageddon|                null|Best movie you've...|     0|\n",
      "|310|         armageddon|Alphen aan den Ri...|Bed time. Don't w...|     0|\n",
      "|311|         armageddon|                null|Red Faction: Arma...|     0|\n",
      "|312|         armageddon|       Wrigley Field|@KatieKatCubs you...|     0|\n",
      "|313|         armageddon|                null|RT @Ophiuchus2613...|     0|\n",
      "|314|               null|                null|just got a flawle...|     0|\n",
      "|315|         armageddon|              Canada|@ENews Ben Afflec...|     0|\n",
      "|316|         armageddon|             England|'If I'd have had ...|     0|\n",
      "|317|         armageddon|                 USA|YOUR PHONE IS SPY...|     0|\n",
      "|318|         armageddon|California, Unite...|#PBBan (Temporary...|     1|\n",
      "|319|         armageddon|                null|RT @RTRRTcoach: #...|     0|\n",
      "|320|         armageddon|California, Unite...|#PBBan (Temporary...|     0|\n",
      "|321|         armageddon|       New York City|Photo: Sketch I d...|     0|\n",
      "|322|         armageddon|      Here And There|Armageddon https:...|     1|\n",
      "|323|               null|                null|    @Armageddon????\"|     0|\n",
      "|324|         armageddon|          Derry, 17 |@paddytomlinson1 ...|     0|\n",
      "|325|         armageddon|Nowhere. Everywhere.|@RohnertParkDPS Y...|     0|\n",
      "|326|               null|                null|http://t.co/gBxaf...|     1|\n",
      "|327|         armageddon|           Worldwide|God's Kingdom (He...|     0|\n",
      "|328|         armageddon|                null|L B #Entertainmen...|     0|\n",
      "|329|         armageddon|Nowhere. Everywhere.|LetÛªs talk some...|     0|\n",
      "|330|         armageddon|          East Coast|@Karnythia my nie...|     0|\n",
      "|331|         armageddon|          California|Check out #PREPPE...|     0|\n",
      "|332|         armageddon|         Toronto, ON|@Erker Again?? Ee...|     1|\n",
      "|333|         armageddon|                null|So the Ahamedis t...|     0|\n",
      "|334|         armageddon|The Orwellion pol...|Sadly How Windows...|     0|\n",
      "|335|               null|                null|       #UltimaLucha\"|     0|\n",
      "|336|         armageddon|   Helsinki, Finland|@samihonkonen If ...|     0|\n",
      "|337|         armageddon|       East Kilbride|European Fitba ti...|     0|\n",
      "|338|         armageddon|                null|#Christians Unite...|     0|\n",
      "|339|         armageddon|    #FLIGHTCITY UK  |(OFFICIAL VID) &g...|     0|\n",
      "|340|         armageddon|middle eastern pa...|Tomorrow is the d...|     0|\n",
      "|341|         armageddon|                Kent|Lee does comedy: ...|     0|\n",
      "|342|         armageddon|                null|9 Charts Prove Fi...|     0|\n",
      "|343|         armageddon|                null|Paul Craig Robert...|     1|\n",
      "|344|         armageddon|Nowhere. Everywhere.|@RohnertParkDPS Y...|     0|\n",
      "|345|         armageddon|    #FLIGHTCITY UK  |**OFFICIAL VID** ...|     0|\n",
      "|346|               null|                null|Armageddon eh.......|     0|\n",
      "|347|               army|                null|Beyonce Is my pic...|     0|\n",
      "|348|               army|                null|One Direction Is ...|     0|\n",
      "|349|               army|                null|5 Seconds of Summ...|     0|\n",
      "|350|               army|                null|22.Beyonce Is my ...|     0|\n",
      "|351|               army|                null|17.Beyonce Is my ...|     0|\n",
      "|352|               army|                null|One Direction Is ...|     0|\n",
      "|353|               army|twitch.tv/natural...|Seeing that army ...|     0|\n",
      "|354|               null|                null|Start g this frie...|     0|\n",
      "|355|               army|         Memphis, TN|Salvation Army ho...|     1|\n",
      "|356|               army|                null|Vote for #Directi...|     0|\n",
      "|357|               army|              Studio|But if you build ...|     1|\n",
      "|358|               army|       Hollywood, CA|'Show Me a Hero':...|     0|\n",
      "|359|               army|                null|One Direction Is ...|     1|\n",
      "|360|               army|            New York|INFANTRY Mens Lum...|     0|\n",
      "|361|               army|                null|One Direction Is ...|     0|\n",
      "|362|               army|                null|VICTORINOX SWISS ...|     1|\n",
      "|363|               null|                null|Indian Army kiÛ_...|     0|\n",
      "|364|               army|         Mexico! ^_^|5 Seconds of Summ...|     0|\n",
      "|365|               army|                null|Beyonce Is my pic...|     0|\n",
      "|366|               army|                null|One Direction Is ...|     0|\n",
      "|367|               null|                null|#MTVSummerStar #V...|     0|\n",
      "|368|               army|                null|One Direction Is ...|     0|\n",
      "|369|               army|    Harlem, New York|Stony Jackson is ...|     0|\n",
      "|370|               army|            New York|WWI WWII JAPANESE...|     0|\n",
      "|371|               army|                null|Beyonce Is my pic...|     0|\n",
      "|372|               army|                null|7.Beyonce Is my p...|     0|\n",
      "|373|               army|                null|Beyonce Is my pic...|     0|\n",
      "|374|               army|                null|6.Beyonce Is my p...|     0|\n",
      "|375|               army|      Washington, DC|POTUS appoints Br...|     0|\n",
      "|376|               army|          Burbank,CA|@AP what a violen...|     1|\n",
      "|377|               army|            New York|WWI WWII JAPANESE...|     0|\n",
      "|378|               army|                null|WWI WWII JAPANESE...|     0|\n",
      "|379|               army|                null|One Direction Is ...|     0|\n",
      "|380|               army|                null|One Direction Is ...|     0|\n",
      "|381|              arson|                null|Two Jewish Terror...|     0|\n",
      "|382|              arson| Spokane, Washington|Spokane authoriti...|     1|\n",
      "|383|              arson|                 USA|Thousands attend ...|     1|\n",
      "|384|              arson|       Charlotte, NC|Add Familia to th...|     0|\n",
      "|385|              arson|    Our Empire State|Another fake hate...|     1|\n",
      "|386|              arson|                null|Los Angeles Times...|     1|\n",
      "|387|              arson|                null|Mourning notices ...|     1|\n",
      "|388|              arson|           Jerusalem|Mourning notices ...|     1|\n",
      "|389|              arson|Kingston, Pennsyl...|  The Sound of Arson|     0|\n",
      "|390|              arson|       Milwaukee, WI|Owner of Chicago-...|     0|\n",
      "|391|              arson|         Zero Branco|Wait What??? http...|     0|\n",
      "|392|              arson|   Republic of Texas|Arson suspect lin...|     1|\n",
      "|393|              arson|                null|Trial Date Set fo...|     1|\n",
      "|394|               null|                null|attack Israel cra...|     1|\n",
      "|395|              arson|                 USA|Palestinian Teen ...|     1|\n",
      "|396|              arson|      Eldoret, kenya|#Kisii Police in ...|     1|\n",
      "|397|              arson|           ÛÊÛÊÛÊ|Mariah getting th...|     1|\n",
      "|398|              arson|           Jerusalem|Mourning notices ...|     0|\n",
      "|399|              arson|            Miami,FL|RelaxInPR: miprv:...|     1|\n",
      "|400|              arson|                null|Jewish leaders pr...|     1|\n",
      "+---+-------------------+--------------------+--------------------+------+\n",
      "only showing top 400 rows\n",
      "\n"
     ]
    }
   ],
   "source": [
    "data = tri(df_train)\n",
    "data.show(400)"
   ]
  },
  {
   "cell_type": "markdown",
   "metadata": {
    "application/vnd.databricks.v1+cell": {
     "cellMetadata": {
      "byteLimit": 2048000,
      "rowLimit": 10000
     },
     "inputWidgets": {},
     "nuid": "10a1d59a-fc08-49e4-9230-1b7438158919",
     "showTitle": false,
     "tableResultSettingsMap": {},
     "title": ""
    }
   },
   "source": [
    "ETUDE 1: prise en compte uniquement du text comme variable explicative (location et keyword laisser de coté)"
   ]
  },
  {
   "cell_type": "code",
   "execution_count": 0,
   "metadata": {
    "application/vnd.databricks.v1+cell": {
     "cellMetadata": {
      "byteLimit": 2048000,
      "rowLimit": 10000
     },
     "inputWidgets": {},
     "nuid": "20a4eaee-1555-4465-b10b-488f2e5402b2",
     "showTitle": false,
     "tableResultSettingsMap": {},
     "title": ""
    }
   },
   "outputs": [
    {
     "name": "stdout",
     "output_type": "stream",
     "text": [
      "+---+--------------------+------+\n",
      "| id|                text|target|\n",
      "+---+--------------------+------+\n",
      "|  1|Our Deeds are the...|     1|\n",
      "|  2|Forest fire near ...|     1|\n",
      "|  3|All residents ask...|     1|\n",
      "|  4|13,000 people rec...|     1|\n",
      "|  5|Just got sent thi...|     1|\n",
      "|  6|#RockyFire Update...|     1|\n",
      "|  7|#flood #disaster ...|     1|\n",
      "|  8|I'm on top of the...|     1|\n",
      "|  9|There's an emerge...|     1|\n",
      "| 10|I'm afraid that t...|     1|\n",
      "| 11|Three people died...|     1|\n",
      "| 12|Haha South Tampa ...|     1|\n",
      "| 13|#raining #floodin...|     1|\n",
      "| 14|#Flood in Bago My...|     1|\n",
      "| 15|Damage to school ...|     1|\n",
      "| 16|      What's up man?|     0|\n",
      "| 17|       I love fruits|     0|\n",
      "| 18|    Summer is lovely|     0|\n",
      "| 19|   My car is so fast|     0|\n",
      "| 20|What a goooooooaa...|     0|\n",
      "+---+--------------------+------+\n",
      "only showing top 20 rows\n",
      "\n"
     ]
    }
   ],
   "source": [
    "data.count()\n",
    "data1= data.select(\"id\",\"text\",\"target\")\n",
    "data1.show()"
   ]
  },
  {
   "cell_type": "code",
   "execution_count": 0,
   "metadata": {
    "application/vnd.databricks.v1+cell": {
     "cellMetadata": {
      "byteLimit": 2048000,
      "rowLimit": 10000
     },
     "inputWidgets": {},
     "nuid": "e384026f-1463-465c-9d09-80aa8b02e25a",
     "showTitle": false,
     "tableResultSettingsMap": {},
     "title": ""
    }
   },
   "outputs": [
    {
     "name": "stdout",
     "output_type": "stream",
     "text": [
      "+---+--------------------+-----+\n",
      "| id|                text|label|\n",
      "+---+--------------------+-----+\n",
      "|  1|Our Deeds are the...|    1|\n",
      "|  2|Forest fire near ...|    1|\n",
      "|  3|All residents ask...|    1|\n",
      "|  4|13,000 people rec...|    1|\n",
      "|  5|Just got sent thi...|    1|\n",
      "|  6|#RockyFire Update...|    1|\n",
      "|  7|#flood #disaster ...|    1|\n",
      "|  8|I'm on top of the...|    1|\n",
      "|  9|There's an emerge...|    1|\n",
      "| 10|I'm afraid that t...|    1|\n",
      "| 11|Three people died...|    1|\n",
      "| 12|Haha South Tampa ...|    1|\n",
      "| 13|#raining #floodin...|    1|\n",
      "| 14|#Flood in Bago My...|    1|\n",
      "| 15|Damage to school ...|    1|\n",
      "| 16|      What's up man?|    0|\n",
      "| 17|       I love fruits|    0|\n",
      "| 18|    Summer is lovely|    0|\n",
      "| 19|   My car is so fast|    0|\n",
      "| 20|What a goooooooaa...|    0|\n",
      "+---+--------------------+-----+\n",
      "only showing top 20 rows\n",
      "\n"
     ]
    }
   ],
   "source": [
    "data1 = data1.withColumn(\"target\", F.col(\"target\").cast(\"int\"))\n",
    "data1 = data1.withColumnRenamed(\"target\", \"label\")\n",
    "data1.show()"
   ]
  },
  {
   "cell_type": "code",
   "execution_count": 0,
   "metadata": {
    "application/vnd.databricks.v1+cell": {
     "cellMetadata": {
      "byteLimit": 2048000,
      "rowLimit": 10000
     },
     "inputWidgets": {},
     "nuid": "2f66ed78-57b6-4608-b6ea-45b79ad8dffb",
     "showTitle": false,
     "tableResultSettingsMap": {},
     "title": ""
    }
   },
   "outputs": [
    {
     "name": "stdout",
     "output_type": "stream",
     "text": [
      "+---+----------------------------------------------------------------------------------------------------+------+----------------------------------------------------------------------------------------------------+\n",
      "| id|                                                                                                text|target|                                                                                            document|\n",
      "+---+----------------------------------------------------------------------------------------------------+------+----------------------------------------------------------------------------------------------------+\n",
      "|  1|                               Our Deeds are the Reason of this #earthquake May ALLAH Forgive us all|     1|[{document, 0, 68, Our Deeds are the Reason of this #earthquake May ALLAH Forgive us all, {senten...|\n",
      "|  2|                                                              Forest fire near La Ronge Sask. Canada|     1|                    [{document, 0, 37, Forest fire near La Ronge Sask. Canada, {sentence -> 0}, []}]|\n",
      "|  3|All residents asked to 'shelter in place' are being notified by officers. No other evacuation or ...|     1|[{document, 0, 132, All residents asked to 'shelter in place' are being notified by officers. No ...|\n",
      "|  4|                                   13,000 people receive #wildfires evacuation orders in California |     1|[{document, 0, 64, 13,000 people receive #wildfires evacuation orders in California , {sentence -...|\n",
      "|  5|            Just got sent this photo from Ruby #Alaska as smoke from #wildfires pours into a school |     1|[{document, 0, 87, Just got sent this photo from Ruby #Alaska as smoke from #wildfires pours into...|\n",
      "+---+----------------------------------------------------------------------------------------------------+------+----------------------------------------------------------------------------------------------------+\n",
      "\n"
     ]
    }
   ],
   "source": [
    "import sparknlp\n",
    "from sparknlp.base import *\n",
    "from sparknlp.annotator import *\n",
    "\n",
    "documentAssembler = DocumentAssembler() \\\n",
    "                      .setCleanupMode(\"inplace\") \\\n",
    "                      .setInputCol(\"text\") \\\n",
    "                      .setOutputCol(\"document\")\n",
    "\n",
    "documents = documentAssembler.transform(data1.limit(5))\n",
    "documents.show(5, 100)"
   ]
  },
  {
   "cell_type": "code",
   "execution_count": 0,
   "metadata": {
    "application/vnd.databricks.v1+cell": {
     "cellMetadata": {
      "byteLimit": 2048000,
      "rowLimit": 10000
     },
     "inputWidgets": {},
     "nuid": "d820a1e8-3912-4b41-8fbd-b5ab1e12e11c",
     "showTitle": false,
     "tableResultSettingsMap": {},
     "title": ""
    }
   },
   "outputs": [
    {
     "name": "stdout",
     "output_type": "stream",
     "text": [
      "+------------------------------------------------------------------------------------------------------------------------------------------------------------------------------------------------------------------------------------------------------------------------------------------------------------+\n",
      "|                                                                                                                                                                                                                                                                                                       token|\n",
      "+------------------------------------------------------------------------------------------------------------------------------------------------------------------------------------------------------------------------------------------------------------------------------------------------------------+\n",
      "|[{token, 0, 2, Our, {sentence -> 0}, []}, {token, 4, 8, Deeds, {sentence -> 0}, []}, {token, 10, 12, are, {sentence -> 0}, []}, {token, 14, 16, the, {sentence -> 0}, []}, {token, 18, 23, Reason, {sentence -> 0}, []}, {token, 25, 26, of, {sentence -> 0}, []}, {token, 28, 31, this, {sentence -> 0},...|\n",
      "+------------------------------------------------------------------------------------------------------------------------------------------------------------------------------------------------------------------------------------------------------------------------------------------------------------+\n",
      "only showing top 1 row\n",
      "\n"
     ]
    }
   ],
   "source": [
    "tokenizer = Tokenizer() \\\n",
    "                  .setInputCols([\"document\"]) \\\n",
    "                  .setOutputCol(\"token\")\n",
    "\n",
    "tokensEch = tokenizer.fit(documents).transform(documents)\n",
    "tokensEch.select(\"token\").show(1, 300)"
   ]
  },
  {
   "cell_type": "code",
   "execution_count": 0,
   "metadata": {
    "application/vnd.databricks.v1+cell": {
     "cellMetadata": {
      "byteLimit": 2048000,
      "rowLimit": 10000
     },
     "inputWidgets": {},
     "nuid": "7708344b-d300-4b6d-9957-cd7cd6b2208b",
     "showTitle": false,
     "tableResultSettingsMap": {},
     "title": ""
    }
   },
   "outputs": [
    {
     "name": "stdout",
     "output_type": "stream",
     "text": [
      "glove_6B_300 download started this may take some time.\n",
      "Approximate size to download 426.2 MB\n",
      "\r[ | ]\r[ / ]\r[ — ]\r[ \\ ]\r[ | ]\r[ / ]\r[ — ]\r[ \\ ]\r[ | ]\r[ / ]\r[ — ]\r[ \\ ]\r[ | ]\r[ / ]\r[ — ]\r[ \\ ]\r[ | ]\r[ / ]\r[ — ]\r[ \\ ]\r[ | ]\r[ / ]\r[ — ]\r[ \\ ]\r[ | ]\r[ / ]\r[ — ]\r[ \\ ]\r[ | ]\r[ / ]\r[ — ]\r[ \\ ]\r[ | ]\r[ / ]\r[ — ]\r[ \\ ]\r[ | ]\r[ / ]\r[ — ]\r[ \\ ]\r[ | ]\r[ / ]\r[ — ]\r[ \\ ]\r[ | ]\r[ / ]\r[ — ]\r[ \\ ]\r[ | ]\r[ / ]\r[ — ]\r[ \\ ]\r[ | ]\r[ / ]\r[ — ]\r[ \\ ]\r[ | ]\r[ / ]\r[ — ]\r[ \\ ]\r[ | ]\r[ / ]\r[ — ]\r[ \\ ]\r[ | ]\r[ / ]\r[ — ]\r[ \\ ]\r[ | ]\r[ / ]\r[ — ]\r[ \\ ]\r[OK!]\n",
      "+--------------------------------------------------------------------------------------------------------------------------------------------------------------------------------------------------------+\n",
      "|                                                                                                                                                                                        glove_embeddings|\n",
      "+--------------------------------------------------------------------------------------------------------------------------------------------------------------------------------------------------------+\n",
      "|[{word_embeddings, 0, 2, Our, {isOOV -> false, pieceId -> -1, isWordStart -> true, token -> Our, sentence -> 0}, [-0.025179, 0.07837, -0.17637, -0.12285, -0.13156, 0.26591, -0.60064, 0.46653, 0.042...|\n",
      "|[{word_embeddings, 0, 5, Forest, {isOOV -> false, pieceId -> -1, isWordStart -> true, token -> Forest, sentence -> 0}, [-0.45533, 0.14615, -0.028433, 0.4449, 0.22859, -0.15682, 0.37571, 0.76405, 0....|\n",
      "+--------------------------------------------------------------------------------------------------------------------------------------------------------------------------------------------------------+\n",
      "only showing top 2 rows\n",
      "\n"
     ]
    }
   ],
   "source": [
    "embeddings = WordEmbeddingsModel.pretrained(\"glove_6B_300\", \"xx\") \\\n",
    "                                .setInputCols(\"document\", \"token\") \\\n",
    "                                .setOutputCol(\"glove_embeddings\")\n",
    "\n",
    "embedsEch = embeddings.transform(tokensEch)\n",
    "embedsEch.select(\"glove_embeddings\").show(2, 200)"
   ]
  },
  {
   "cell_type": "code",
   "execution_count": 0,
   "metadata": {
    "application/vnd.databricks.v1+cell": {
     "cellMetadata": {
      "byteLimit": 2048000,
      "rowLimit": 10000
     },
     "inputWidgets": {},
     "nuid": "76f39dfc-c23d-4f7f-8162-c2efc18ff181",
     "showTitle": false,
     "tableResultSettingsMap": {},
     "title": ""
    }
   },
   "outputs": [
    {
     "name": "stdout",
     "output_type": "stream",
     "text": [
      "+--------------------------------------------------------------------------------------------------------------------------------------------------------------------------------------------------------+\n",
      "|                                                                                                                                                                               finished_embeddings_glove|\n",
      "+--------------------------------------------------------------------------------------------------------------------------------------------------------------------------------------------------------+\n",
      "|[[-0.06928376853466034,-0.01271053310483694,0.00862519908696413,-0.25277167558670044,-0.12423738092184067,0.07902661710977554,-0.07260183990001678,0.152671679854393,0.07146238535642624,-1.411920666...|\n",
      "|[[-0.05899748578667641,0.054601624608039856,-0.1071816235780716,-0.11128462851047516,-0.03310374915599823,-0.08629648387432098,-0.10258549451828003,0.19005662202835083,-0.09497736394405365,-0.70107...|\n",
      "|[[-0.13235606253147125,0.06125080958008766,-0.03614479675889015,-0.15638867020606995,-0.1266949474811554,0.07843363285064697,0.07999947667121887,0.17469343543052673,-0.03278797119855881,-1.43478679...|\n",
      "|[[-0.16983948647975922,0.034789495170116425,-2.562478184700012E-4,-0.0336466021835804,-0.18170824646949768,0.05963900685310364,0.10411250591278076,0.04244575276970863,-0.08185386657714844,-0.998736...|\n",
      "|[[-0.22194337844848633,-0.03530037775635719,0.007327498868107796,-0.07282354682683945,-0.11924143880605698,0.09478850662708282,-0.08547478169202805,-0.07128225266933441,0.199027419090271,-1.1092586...|\n",
      "+--------------------------------------------------------------------------------------------------------------------------------------------------------------------------------------------------------+\n",
      "\n"
     ]
    }
   ],
   "source": [
    "embeddingsSentence = SentenceEmbeddings() \\\n",
    "                           .setInputCols([\"document\", \"glove_embeddings\"]) \\\n",
    "                           .setOutputCol(\"sentence_embeddings_glove\") \\\n",
    "                           .setPoolingStrategy(\"AVERAGE\")\n",
    "\n",
    "\n",
    "embeddingsFinisher = EmbeddingsFinisher() \\\n",
    "                           .setInputCols(\"sentence_embeddings_glove\") \\\n",
    "                           .setOutputCols(\"finished_embeddings_glove\") \\\n",
    "                           .setOutputAsVector(True) \\\n",
    "                           .setCleanAnnotations(False)\n",
    "\n",
    "sentencesEch = embeddingsSentence.transform(embedsEch)\n",
    "embeddingsFinisher.transform(sentencesEch).select(\"finished_embeddings_glove\").show(5, 200)\n",
    "\n"
   ]
  },
  {
   "cell_type": "code",
   "execution_count": 0,
   "metadata": {
    "application/vnd.databricks.v1+cell": {
     "cellMetadata": {
      "byteLimit": 2048000,
      "rowLimit": 10000
     },
     "inputWidgets": {},
     "nuid": "f2fd42f8-b7c9-444c-9a19-604e36220bfe",
     "showTitle": false,
     "tableResultSettingsMap": {},
     "title": ""
    }
   },
   "outputs": [
    {
     "name": "stdout",
     "output_type": "stream",
     "text": [
      "+--------------------------------------------------------------------------------------------------------------------------------------------------------------------------------------------------------+\n",
      "|                                                                                                                                                                               finished_embeddings_glove|\n",
      "+--------------------------------------------------------------------------------------------------------------------------------------------------------------------------------------------------------+\n",
      "|[[-0.06928376853466034,-0.01271053310483694,0.00862519908696413,-0.25277167558670044,-0.12423738092184067,0.07902661710977554,-0.07260183990001678,0.152671679854393,0.07146238535642624,-1.411920666...|\n",
      "|[[-0.05899748578667641,0.054601624608039856,-0.1071816235780716,-0.11128462851047516,-0.03310374915599823,-0.08629648387432098,-0.10258549451828003,0.19005662202835083,-0.09497736394405365,-0.70107...|\n",
      "|[[-0.13235606253147125,0.06125080958008766,-0.03614479675889015,-0.15638867020606995,-0.1266949474811554,0.07843363285064697,0.07999947667121887,0.17469343543052673,-0.03278797119855881,-1.43478679...|\n",
      "|[[-0.16983948647975922,0.034789495170116425,-2.562478184700012E-4,-0.0336466021835804,-0.18170824646949768,0.05963900685310364,0.10411250591278076,0.04244575276970863,-0.08185386657714844,-0.998736...|\n",
      "|[[-0.22194337844848633,-0.03530037775635719,0.007327498868107796,-0.07282354682683945,-0.11924143880605698,0.09478850662708282,-0.08547478169202805,-0.07128225266933441,0.199027419090271,-1.1092586...|\n",
      "+--------------------------------------------------------------------------------------------------------------------------------------------------------------------------------------------------------+\n",
      "only showing top 5 rows\n",
      "\n"
     ]
    }
   ],
   "source": [
    "from pyspark.ml import Pipeline\n",
    "\n",
    "pipelineGlove = Pipeline() \\\n",
    "                      .setStages([ \\\n",
    "                         documentAssembler, \\\n",
    "                         tokenizer, \\\n",
    "                         embeddings, \\\n",
    "                         embeddingsSentence, \\\n",
    "                         embeddingsFinisher \\\n",
    "                      ])\n",
    "\n",
    "\n",
    "resultGlove = pipelineGlove.fit(data1).transform(data1).cache()\n",
    "resultGlove.select(\"finished_embeddings_glove\").show(5, 200)"
   ]
  },
  {
   "cell_type": "code",
   "execution_count": 0,
   "metadata": {
    "application/vnd.databricks.v1+cell": {
     "cellMetadata": {
      "byteLimit": 2048000,
      "rowLimit": 10000
     },
     "inputWidgets": {},
     "nuid": "2c2ce518-328c-4a92-8332-871326960326",
     "showTitle": false,
     "tableResultSettingsMap": {},
     "title": ""
    }
   },
   "outputs": [
    {
     "name": "stdout",
     "output_type": "stream",
     "text": [
      "Out[40]: 757"
     ]
    }
   ],
   "source": [
    "allEmbeddings = resultGlove.selectExpr(\"finished_embeddings_glove[0]\", \"label\")\n",
    "partitions = allEmbeddings.randomSplit([0.1, 0.9], seed=1)\n",
    "apprentissage = partitions[1]\n",
    "validation = partitions[0]\n",
    "validation.count()\n",
    "\n",
    "\n"
   ]
  },
  {
   "cell_type": "code",
   "execution_count": 0,
   "metadata": {
    "application/vnd.databricks.v1+cell": {
     "cellMetadata": {
      "byteLimit": 2048000,
      "rowLimit": 10000
     },
     "inputWidgets": {},
     "nuid": "5f099b9b-5ad4-4205-beb4-ee63b45b6378",
     "showTitle": false,
     "tableResultSettingsMap": {},
     "title": ""
    }
   },
   "outputs": [],
   "source": [
    "from pyspark.ml.classification import LinearSVC\n",
    "\n",
    "\n",
    "linSvcGlove = LinearSVC().setMaxIter(10) \\\n",
    "                         .setFeaturesCol(\"finished_embeddings_glove[0]\") \\\n",
    "                         .setLabelCol(\"label\")\n",
    "\n",
    "\n",
    "pipelineSvcGlove = Pipeline().setStages([linSvcGlove])"
   ]
  },
  {
   "cell_type": "code",
   "execution_count": 0,
   "metadata": {
    "application/vnd.databricks.v1+cell": {
     "cellMetadata": {
      "byteLimit": 2048000,
      "rowLimit": 10000
     },
     "inputWidgets": {},
     "nuid": "54c6a80c-eedc-4bb5-bdc5-812a0c1679e7",
     "showTitle": false,
     "tableResultSettingsMap": {},
     "title": ""
    }
   },
   "outputs": [],
   "source": [
    "from pyspark.ml.tuning import CrossValidator, ParamGridBuilder\n",
    "from pyspark.ml.evaluation import BinaryClassificationEvaluator\n",
    "\n",
    "# Construction de la grille de (hyper)paramètres utilisée pour grid search\n",
    "# Une composante est ajoutée avec .addGrid() pour chaque (hyper)paramètre à explorer\n",
    "paramGrid = ParamGridBuilder().addGrid(linSvcGlove.regParam, \\\n",
    "                                 [0.02, 0.1, 0.2, 0.5]) \\\n",
    "                              .build()\n",
    "\n",
    "# Définition de l'instance de CrossValidator : à quel estimateur l'appliquer,\n",
    "#  avec quels (hyper)paramètres, combien de folds, comment évaluer les résultats\n",
    "cvSvcGlove = CrossValidator().setEstimator(pipelineSvcGlove) \\\n",
    "                             .setEstimatorParamMaps(paramGrid) \\\n",
    "                             .setNumFolds(5) \\\n",
    "                             .setEvaluator(BinaryClassificationEvaluator())"
   ]
  },
  {
   "cell_type": "code",
   "execution_count": 0,
   "metadata": {
    "application/vnd.databricks.v1+cell": {
     "cellMetadata": {
      "byteLimit": 2048000,
      "rowLimit": 10000
     },
     "inputWidgets": {},
     "nuid": "1d4bbcb1-1e8c-4942-8589-51f29e3452e4",
     "showTitle": false,
     "tableResultSettingsMap": {},
     "title": ""
    }
   },
   "outputs": [],
   "source": [
    "model = cvSvcGlove.fit(apprentissage)"
   ]
  },
  {
   "cell_type": "code",
   "execution_count": 0,
   "metadata": {
    "application/vnd.databricks.v1+cell": {
     "cellMetadata": {
      "byteLimit": 2048000,
      "rowLimit": 10000
     },
     "inputWidgets": {},
     "nuid": "0f0ff1ac-227c-4925-b90f-8146a487c0de",
     "showTitle": false,
     "tableResultSettingsMap": {},
     "title": ""
    }
   },
   "outputs": [
    {
     "name": "stdout",
     "output_type": "stream",
     "text": [
      "AUC sur train :  0.859730273078728\n",
      "AUC sur test :  0.8352652358777073\n"
     ]
    }
   ],
   "source": [
    "resultatsAppSvcGlove = cvSvcGloveModel.transform(apprentissage)\n",
    "\n",
    "# Calculer les prédictions sur les données de test\n",
    "resultatsSvcGlove = cvSvcGloveModel.transform(validation)\n",
    "\n",
    "print(\"AUC sur train : \", cvSvcGloveModel.getEvaluator().evaluate(resultatsAppSvcGlove))\n",
    "\n",
    "# Calculer AUC sur données de test\n",
    "print(\"AUC sur test : \", cvSvcGloveModel.getEvaluator().evaluate(resultatsSvcGlove))\n"
   ]
  }
 ],
 "metadata": {
  "application/vnd.databricks.v1+notebook": {
   "dashboards": [],
   "environmentMetadata": null,
   "language": "python",
   "notebookMetadata": {
    "pythonIndentUnit": 4
   },
   "notebookName": "Notebook sans titre 2024-10-29 16:21:32",
   "widgets": {}
  },
  "kernelspec": {
   "display_name": "venvTweets",
   "language": "python",
   "name": "python3"
  },
  "language_info": {
   "name": "python",
   "version": "3.12.6"
  }
 },
 "nbformat": 4,
 "nbformat_minor": 0
}
