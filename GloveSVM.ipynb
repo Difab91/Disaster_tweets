{
 "cells": [
  {
   "cell_type": "markdown",
   "metadata": {
    "application/vnd.databricks.v1+cell": {
     "cellMetadata": {
      "byteLimit": 2048000,
      "rowLimit": 10000
     },
     "inputWidgets": {},
     "nuid": "b886b288-f439-4926-b705-3e10bd7f0eb3",
     "showTitle": false,
     "tableResultSettingsMap": {},
     "title": ""
    }
   },
   "source": [
    "#TWEETS DISASTER"
   ]
  },
  {
   "cell_type": "markdown",
   "metadata": {
    "application/vnd.databricks.v1+cell": {
     "cellMetadata": {
      "byteLimit": 2048000,
      "rowLimit": 10000
     },
     "inputWidgets": {},
     "nuid": "91a137a2-2321-4816-bbfd-f4f2514ab99d",
     "showTitle": false,
     "tableResultSettingsMap": {},
     "title": ""
    }
   },
   "source": [
    "Spark session"
   ]
  },
  {
   "cell_type": "code",
   "execution_count": 0,
   "metadata": {
    "application/vnd.databricks.v1+cell": {
     "cellMetadata": {
      "byteLimit": 2048000,
      "rowLimit": 10000
     },
     "inputWidgets": {},
     "nuid": "25190c75-53fc-4afc-8593-8e6b5b2f11a0",
     "showTitle": false,
     "tableResultSettingsMap": {},
     "title": ""
    }
   },
   "outputs": [
    {
     "output_type": "display_data",
     "data": {
      "text/html": [
       "\n",
       "            <div>\n",
       "                <p><b>SparkSession - hive</b></p>\n",
       "                \n",
       "        <div>\n",
       "            <p><b>SparkContext</b></p>\n",
       "\n",
       "            <p><a href=\"/?o=3156815320496620#setting/sparkui/1107-135624-v10lbxc0/driver-1284740694511575648\">Spark UI</a></p>\n",
       "\n",
       "            <dl>\n",
       "              <dt>Version</dt>\n",
       "                <dd><code>v3.3.2</code></dd>\n",
       "              <dt>Master</dt>\n",
       "                <dd><code>local[8]</code></dd>\n",
       "              <dt>AppName</dt>\n",
       "                <dd><code>Databricks Shell</code></dd>\n",
       "            </dl>\n",
       "        </div>\n",
       "        \n",
       "            </div>\n",
       "        "
      ]
     },
     "metadata": {
      "application/vnd.databricks.v1+output": {
       "addedWidgets": {},
       "arguments": {},
       "data": "\n            <div>\n                <p><b>SparkSession - hive</b></p>\n                \n        <div>\n            <p><b>SparkContext</b></p>\n\n            <p><a href=\"/?o=3156815320496620#setting/sparkui/1107-135624-v10lbxc0/driver-1284740694511575648\">Spark UI</a></p>\n\n            <dl>\n              <dt>Version</dt>\n                <dd><code>v3.3.2</code></dd>\n              <dt>Master</dt>\n                <dd><code>local[8]</code></dd>\n              <dt>AppName</dt>\n                <dd><code>Databricks Shell</code></dd>\n            </dl>\n        </div>\n        \n            </div>\n        ",
       "datasetInfos": [],
       "metadata": {},
       "removedWidgets": [],
       "textData": null,
       "type": "htmlSandbox"
      }
     },
     "output_type": "display_data"
    }
   ],
   "source": [
    "spark"
   ]
  },
  {
   "cell_type": "markdown",
   "metadata": {
    "application/vnd.databricks.v1+cell": {
     "cellMetadata": {
      "byteLimit": 2048000,
      "rowLimit": 10000
     },
     "inputWidgets": {},
     "nuid": "50775164-6c61-4398-bc5d-48cdca89f12b",
     "showTitle": false,
     "tableResultSettingsMap": {},
     "title": ""
    }
   },
   "source": [
    "install necessaire sur le cluster: \n",
    "\n",
    "my cluster > config > librairies > new lib > pyPI > sparl-nlp > install\n",
    "my cluster > config > librairies > new lib > maven > coordinaes > com.johnsnowlabs.nlp:spark-nlp_2.12:4.2.3 > install\n",
    "\n"
   ]
  },
  {
   "cell_type": "code",
   "execution_count": 0,
   "metadata": {
    "application/vnd.databricks.v1+cell": {
     "cellMetadata": {
      "byteLimit": 2048000,
      "rowLimit": 10000
     },
     "inputWidgets": {},
     "nuid": "a94e47f2-9dfe-42b3-acc9-cfca8f4555fa",
     "showTitle": false,
     "tableResultSettingsMap": {},
     "title": ""
    }
   },
   "outputs": [
    {
     "output_type": "stream",
     "name": "stdout",
     "output_type": "stream",
     "text": [
      "Python interpreter will be restarted.\nCollecting spark-nlp\n  Downloading spark_nlp-5.5.1-py2.py3-none-any.whl (626 kB)\nInstalling collected packages: spark-nlp\nSuccessfully installed spark-nlp-5.5.1\nPython interpreter will be restarted.\nPython interpreter will be restarted.\nCollecting openpyxl\n  Downloading openpyxl-3.1.5-py2.py3-none-any.whl (250 kB)\nCollecting et-xmlfile\n  Downloading et_xmlfile-2.0.0-py3-none-any.whl (18 kB)\nInstalling collected packages: et-xmlfile, openpyxl\nSuccessfully installed et-xmlfile-2.0.0 openpyxl-3.1.5\nPython interpreter will be restarted.\n"
     ]
    }
   ],
   "source": [
    "%pip install spark-nlp\n",
    "%pip install openpyxl\n",
    "\n"
   ]
  },
  {
   "cell_type": "markdown",
   "metadata": {
    "application/vnd.databricks.v1+cell": {
     "cellMetadata": {
      "byteLimit": 2048000,
      "rowLimit": 10000
     },
     "inputWidgets": {},
     "nuid": "6c4969d9-d15b-49e8-904a-ba4eb61748ac",
     "showTitle": false,
     "tableResultSettingsMap": {},
     "title": ""
    }
   },
   "source": [
    "Import necessaire"
   ]
  },
  {
   "cell_type": "code",
   "execution_count": 0,
   "metadata": {
    "application/vnd.databricks.v1+cell": {
     "cellMetadata": {
      "byteLimit": 2048000,
      "rowLimit": 10000
     },
     "inputWidgets": {},
     "nuid": "3d5a4ff6-9216-443e-b50e-8e9f6f131166",
     "showTitle": false,
     "tableResultSettingsMap": {},
     "title": ""
    }
   },
   "outputs": [],
   "source": [
    "\n"
   ]
  },
  {
   "cell_type": "markdown",
   "metadata": {
    "application/vnd.databricks.v1+cell": {
     "cellMetadata": {
      "byteLimit": 2048000,
      "rowLimit": 10000
     },
     "inputWidgets": {},
     "nuid": "06fd82ec-db36-4fd6-9c1b-fa9f41f415f1",
     "showTitle": false,
     "tableResultSettingsMap": {},
     "title": ""
    }
   },
   "source": [
    "chargement du dataframe"
   ]
  },
  {
   "cell_type": "code",
   "execution_count": 0,
   "metadata": {
    "application/vnd.databricks.v1+cell": {
     "cellMetadata": {
      "byteLimit": 2048000,
      "rowLimit": 10000
     },
     "inputWidgets": {},
     "nuid": "853f2c9c-626f-4b2c-9869-782984d6ef57",
     "showTitle": false,
     "tableResultSettingsMap": {},
     "title": ""
    }
   },
   "outputs": [
    {
     "output_type": "stream",
     "name": "stdout",
     "output_type": "stream",
     "text": [
      "Out[1]: [FileInfo(path='dbfs:/FileStore/tables/test.csv', name='test.csv', size=420783, modificationTime=1730799920000),\n FileInfo(path='dbfs:/FileStore/tables/train-1.csv', name='train-1.csv', size=987712, modificationTime=1730380438000),\n FileInfo(path='dbfs:/FileStore/tables/train-2.csv', name='train-2.csv', size=987712, modificationTime=1730795566000),\n FileInfo(path='dbfs:/FileStore/tables/train-3.csv', name='train-3.csv', size=987712, modificationTime=1730795608000),\n FileInfo(path='dbfs:/FileStore/tables/train.csv', name='train.csv', size=987712, modificationTime=1730365543000)]"
     ]
    }
   ],
   "source": [
    "dbutils.fs.ls(\"/FileStore/tables\")\n"
   ]
  },
  {
   "cell_type": "code",
   "execution_count": 0,
   "metadata": {
    "application/vnd.databricks.v1+cell": {
     "cellMetadata": {
      "byteLimit": 2048000,
      "rowLimit": 10000
     },
     "inputWidgets": {},
     "nuid": "482e3fea-947c-4e9a-a6e8-be0fcb60ec45",
     "showTitle": false,
     "tableResultSettingsMap": {},
     "title": ""
    }
   },
   "outputs": [
    {
     "output_type": "stream",
     "name": "stdout",
     "output_type": "stream",
     "text": [
      "+---+-------+--------+--------------------+------+\n| id|keyword|location|                text|target|\n+---+-------+--------+--------------------+------+\n|  1|   null|    null|Our Deeds are the...|     1|\n|  4|   null|    null|Forest fire near ...|     1|\n|  5|   null|    null|All residents ask...|     1|\n|  6|   null|    null|13,000 people rec...|     1|\n|  7|   null|    null|Just got sent thi...|     1|\n|  8|   null|    null|#RockyFire Update...|     1|\n| 10|   null|    null|#flood #disaster ...|     1|\n| 13|   null|    null|I'm on top of the...|     1|\n| 14|   null|    null|There's an emerge...|     1|\n| 15|   null|    null|I'm afraid that t...|     1|\n| 16|   null|    null|Three people died...|     1|\n| 17|   null|    null|Haha South Tampa ...|     1|\n| 18|   null|    null|#raining #floodin...|     1|\n| 19|   null|    null|#Flood in Bago My...|     1|\n| 20|   null|    null|Damage to school ...|     1|\n| 23|   null|    null|      What's up man?|     0|\n| 24|   null|    null|       I love fruits|     0|\n| 25|   null|    null|    Summer is lovely|     0|\n| 26|   null|    null|   My car is so fast|     0|\n| 28|   null|    null|What a goooooooaa...|     0|\n+---+-------+--------+--------------------+------+\nonly showing top 20 rows\n\n"
     ]
    }
   ],
   "source": [
    "from pyspark.sql.functions import lit\n",
    "\n",
    "df_train = spark.read.format(\"csv\").option(\"header\", True) \\\n",
    "                     .load(\"/FileStore/tables/train.csv\")\n",
    "\n",
    "df_train.show(20)\n"
   ]
  },
  {
   "cell_type": "code",
   "execution_count": 0,
   "metadata": {
    "application/vnd.databricks.v1+cell": {
     "cellMetadata": {
      "byteLimit": 2048000,
      "rowLimit": 10000
     },
     "inputWidgets": {},
     "nuid": "6ac5b19f-a86b-4b9d-9132-8e5cdb97eb76",
     "showTitle": false,
     "tableResultSettingsMap": {},
     "title": ""
    }
   },
   "outputs": [
    {
     "output_type": "stream",
     "name": "stdout",
     "output_type": "stream",
     "text": [
      "argon2-cffi==21.3.0\nargon2-cffi-bindings==21.2.0\nasttokens==2.0.5\nattrs==21.4.0\nbackcall==0.2.0\nbackports.entry-points-selectable==1.2.0\nbeautifulsoup4==4.11.1\nblack==22.3.0\nbleach==4.1.0\nboto3==1.21.32\nbotocore==1.24.32\ncertifi==2021.10.8\ncffi==1.15.0\nchardet==4.0.0\ncharset-normalizer==2.0.4\nclick==8.0.4\ncryptography==3.4.8\ncycler==0.11.0\nCython==0.29.28\ndbus-python==1.2.16\ndebugpy==1.5.1\ndecorator==5.1.1\ndefusedxml==0.7.1\ndistlib==0.3.6\ndistro==1.4.0\ndistro-info==0.23+ubuntu1.1\ndocstring-to-markdown==0.11\nentrypoints==0.4\net_xmlfile==2.0.0\nexecuting==0.8.3\nfacets-overview==1.0.0\nfastjsonschema==2.16.2\nfilelock==3.9.0\nfonttools==4.25.0\nidna==3.3\nipykernel==6.15.3\nipython==8.5.0\nipython-genutils==0.2.0\nipywidgets==7.7.2\njedi==0.18.1\nJinja2==2.11.3\njmespath==0.10.0\njoblib==1.1.1\njsonschema==4.4.0\njupyter-client==6.1.12\njupyter_core==4.11.2\njupyterlab-pygments==0.1.2\njupyterlab-widgets==1.0.0\nkiwisolver==1.3.2\nMarkupSafe==2.0.1\nmatplotlib==3.5.1\nmatplotlib-inline==0.1.2\nmccabe==0.7.0\nmistune==0.8.4\nmypy-extensions==0.4.3\nnbclient==0.5.13\nnbconvert==6.4.4\nnbformat==5.3.0\nnest-asyncio==1.5.5\nnodeenv==1.7.0\nnotebook==6.4.8\nnumpy==1.21.5\nopenpyxl==3.1.5\npackaging==21.3\npandas==1.4.2\npandocfilters==1.5.0\nparso==0.8.3\npathspec==0.9.0\npatsy==0.5.2\npexpect==4.8.0\npickleshare==0.7.5\nPillow==9.0.1\nplatformdirs==2.6.2\nplotly==5.6.0\npluggy==1.0.0\nprometheus-client==0.13.1\nprompt-toolkit==3.0.20\nprotobuf==3.19.4\npsutil==5.8.0\npsycopg2==2.9.3\nptyprocess==0.7.0\npure-eval==0.2.2\npyarrow==7.0.0\npyarrow-hotfix==0.5\npycparser==2.21\npyflakes==2.5.0\nPygments==2.11.2\nPyGObject==3.36.0\npyodbc==4.0.32\npyparsing==3.0.4\npyright==1.1.283\npyrsistent==0.18.0\npython-apt==2.0.1+ubuntu0.20.4.1\npython-dateutil==2.8.2\npython-lsp-jsonrpc==1.0.0\npython-lsp-server==1.6.0\npytz==2021.3\npyzmq==22.3.0\nrequests==2.27.1\nrequests-unixsocket==0.2.0\nrope==0.22.0\ns3transfer==0.5.0\nscikit-learn==1.0.2\nscipy==1.7.3\nseaborn==0.11.2\nSend2Trash==1.8.0\nsix==1.16.0\nsoupsieve==2.3.1\nspark-nlp==5.5.1\nssh-import-id==5.10\nstack-data==0.2.0\nstatsmodels==0.13.2\ntenacity==8.0.1\nterminado==0.13.1\ntestpath==0.5.0\nthreadpoolctl==2.2.0\ntokenize-rt==4.2.1\ntomli==1.2.2\ntornado==6.1\ntraitlets==5.1.1\ntyping_extensions==4.1.1\nujson==5.1.0\nunattended-upgrades==0.1\nurllib3==1.26.9\nvirtualenv==20.8.0\nwcwidth==0.2.5\nwebencodings==0.5.1\nwhatthepatch==1.0.4\nwidgetsnbextension==3.6.1\nyapf==0.31.0\n"
     ]
    }
   ],
   "source": [
    "%pip freeze"
   ]
  },
  {
   "cell_type": "markdown",
   "metadata": {
    "application/vnd.databricks.v1+cell": {
     "cellMetadata": {
      "byteLimit": 2048000,
      "rowLimit": 10000
     },
     "inputWidgets": {},
     "nuid": "1bb95df7-6236-4a90-9eec-42622fe86091",
     "showTitle": false,
     "tableResultSettingsMap": {},
     "title": ""
    }
   },
   "source": [
    "Trie, pré-traitement"
   ]
  },
  {
   "cell_type": "code",
   "execution_count": 0,
   "metadata": {
    "application/vnd.databricks.v1+cell": {
     "cellMetadata": {
      "byteLimit": 2048000,
      "rowLimit": 10000
     },
     "inputWidgets": {},
     "nuid": "ca4754d3-4920-4d12-950a-4c789d81ad0f",
     "showTitle": false,
     "tableResultSettingsMap": {},
     "title": ""
    }
   },
   "outputs": [],
   "source": [
    "from pyspark.sql import Window\n",
    "from pyspark.sql import functions as F\n",
    "\n",
    "\n",
    "# fonctions de tri \n",
    "\n",
    "def replace_text(df):\n",
    "    text_columns = [\"id\", \"keyword\", \"location\"]\n",
    "\n",
    " \n",
    "    new_text_value = F.coalesce(*[F.when(F.col(c).cast(\"string\").isNotNull() & (F.col(c) != \"\"), F.col(c)) for c in text_columns])\n",
    "\n",
    "    df = (df\n",
    "          .withColumn(\"text\", F.when(F.col(\"text\").isNull(), new_text_value).otherwise(F.col(\"text\")))\n",
    "          .withColumn(\"id\", F.when((F.col(\"text\") == F.col(\"id\")) & F.col(\"id\").cast(\"string\").isNotNull(), None).otherwise(F.col(\"id\")))\n",
    "          .withColumn(\"keyword\", F.when((F.col(\"text\") == F.col(\"keyword\")), None).otherwise(F.col(\"keyword\")))\n",
    "          .withColumn(\"location\", F.when((F.col(\"text\") == F.col(\"location\")), None).otherwise(F.col(\"location\")))\n",
    "         )\n",
    "    return df\n",
    "\n",
    "\n",
    "\n",
    "def replace_target(df):\n",
    "    \n",
    "    int_columns = [\"keyword\", \"location\", \"text\"]\n",
    "\n",
    "    \n",
    "    new_target_value = F.coalesce(*[F.when((F.col(c) == 0) | (F.col(c) == 1), F.col(c)) for c in int_columns])\n",
    "\n",
    "    df = (df\n",
    "          .withColumn(\"target\", F.when(F.col(\"target\").isNull(), new_target_value).otherwise(F.col(\"target\")))\n",
    "          .withColumn(\"keyword\", F.when((F.col(\"target\") == F.col(\"keyword\")), None).otherwise(F.col(\"keyword\")))\n",
    "          .withColumn(\"location\", F.when((F.col(\"target\") == F.col(\"location\")), None).otherwise(F.col(\"location\")))\n",
    "          .withColumn(\"text\", F.when((F.col(\"target\") == F.col(\"text\")), None).otherwise(F.col(\"text\"))))\n",
    "\n",
    "    return df\n",
    "\n",
    "def replace_location(df):\n",
    "    df = df.withColumn(\"location\", F.when(F.col(\"location\").contains(\"?\"), None).otherwise(F.col(\"location\")))\n",
    "    return df\n",
    "\n",
    "def drop_null_target(df):\n",
    "    df = df.filter(F.col(\"target\").isNotNull())\n",
    "    return df\n",
    "    \n",
    "def drop_null_text(df):\n",
    "    df = df.filter(F.col(\"text\").isNotNull())\n",
    "    return df\n",
    "\n",
    "\n",
    "\n",
    "def reset_ids(df):\n",
    "    \n",
    "    window_spec = Window.orderBy(F.lit(1))\n",
    "    df = df.withColumn(\"id\", F.row_number().over(window_spec))\n",
    "    return df\n"
   ]
  },
  {
   "cell_type": "code",
   "execution_count": 0,
   "metadata": {
    "application/vnd.databricks.v1+cell": {
     "cellMetadata": {
      "byteLimit": 2048000,
      "rowLimit": 10000
     },
     "inputWidgets": {},
     "nuid": "c75724ed-aaaf-4e57-95c7-5ec19c4a0388",
     "showTitle": false,
     "tableResultSettingsMap": {},
     "title": ""
    }
   },
   "outputs": [
    {
     "output_type": "stream",
     "name": "stdout",
     "output_type": "stream",
     "text": [
      "+----------------------------------+\n|sum(CAST((target IS NULL) AS INT))|\n+----------------------------------+\n|                              1211|\n+----------------------------------+\n\n+----------------------------------+\n|sum(CAST((target IS NULL) AS INT))|\n+----------------------------------+\n|                               775|\n+----------------------------------+\n\n+----+--------+--------------------+--------------------+------+\n|  id| keyword|            location|                text|target|\n+----+--------+--------------------+--------------------+------+\n|   1|    null|                null|Our Deeds are the...|     1|\n|   4|    null|                null|Forest fire near ...|     1|\n|   5|    null|                null|All residents ask...|     1|\n|   6|    null|                null|13,000 people rec...|     1|\n|   7|    null|                null|Just got sent thi...|     1|\n|   8|    null|                null|#RockyFire Update...|     1|\n|  10|    null|                null|#flood #disaster ...|     1|\n|  13|    null|                null|I'm on top of the...|     1|\n|  14|    null|                null|There's an emerge...|     1|\n|  15|    null|                null|I'm afraid that t...|     1|\n|  16|    null|                null|Three people died...|     1|\n|  17|    null|                null|Haha South Tampa ...|     1|\n|  18|    null|                null|#raining #floodin...|     1|\n|  19|    null|                null|#Flood in Bago My...|     1|\n|  20|    null|                null|Damage to school ...|     1|\n|  23|    null|                null|      What's up man?|     0|\n|  24|    null|                null|       I love fruits|     0|\n|  25|    null|                null|    Summer is lovely|     0|\n|  26|    null|                null|   My car is so fast|     0|\n|  28|    null|                null|What a goooooooaa...|     0|\n|  31|    null|                null|this is ridiculou...|     0|\n|  32|    null|                null|   London is cool ;)|     0|\n|  33|    null|                null|         Love skiing|     0|\n|  34|    null|                null|What a wonderful ...|     0|\n|  36|    null|                null|            LOOOOOOL|     0|\n|  37|    null|                null|No way...I can't ...|     0|\n|  38|    null|                null|Was in NYC last w...|     0|\n|  39|    null|                null|  Love my girlfriend|     0|\n|  40|    null|                null|           Cooool :)|     0|\n|  41|    null|                null|  Do you like pasta?|     0|\n|  44|    null|                null|            The end!|     0|\n|  48|  ablaze|          Birmingham|@bbcmtd Wholesale...|     1|\n|  49|  ablaze|Est. September 20...|We always try to ...|     0|\n|  50|  ablaze|              AFRICA|#AFRICANBAZE: Bre...|     1|\n|  52|  ablaze|    Philadelphia, PA|Crying out for mo...|     0|\n|  53|  ablaze|          London, UK|On plus side LOOK...|     0|\n|  54|  ablaze|            Pretoria|@PhDSquares #mufc...|     0|\n|  55|  ablaze|        World Wide!!|INEC Office in Ab...|     1|\n|  56|  ablaze|                null|Barbados #Bridget...|     1|\n|  57|  ablaze|      Paranaque City|Ablaze for you Lo...|     0|\n|  59|  ablaze|      Live On Webcam|Check these out: ...|     0|\n|  61|  ablaze|                null|on the outside yo...|  null|\n|null|    null|                null|but you're dead i...|     0|\n|  62|  ablaze|           milky way|Had an awesome ti...|     0|\n|  63|  ablaze|                null|SOOOO PUMPED FOR ...|     0|\n|  64|  ablaze|                null|I wanted to set C...|     0|\n|  65|  ablaze|                null|I gained 3 follow...|     0|\n|  66|  ablaze|GREENSBORO,NORTH ...|How the West was ...|     1|\n|  67|  ablaze|                null|Building the perf...|     0|\n|  68|  ablaze|      Live On Webcam|Check these out: ...|     0|\n|  71|  ablaze|            England.|First night with ...|     0|\n|  73|  ablaze|Sheffield Townshi...|Deputies: Man sho...|     1|\n|  74|  ablaze|               India|Man wife get six ...|  null|\n|null|    null|                null|http://t.co/eV1ah...|     1|\n|  76|  ablaze|            Barbados|SANTA CRUZ ÛÓ He...|     0|\n|  77|  ablaze|             Anaheim|Police: Arsonist ...|     1|\n|  78|  ablaze|               Abuja|Noches El-Bestia ...|     0|\n|  79|  ablaze|                 USA|#Kurds trampling ...|     1|\n|  80|  ablaze|        South Africa|TRUCK ABLAZE : R2...|     1|\n|  81|  ablaze|   Sao Paulo, Brazil|Set our hearts ab...|     0|\n|  82|  ablaze|      hollywoodland |They sky was abla...|     0|\n|  83|  ablaze|Edmonton, Alberta...|How the West was ...|     1|\n|  85|  ablaze|                null|Revel in yours wm...|     0|\n|  86|  ablaze|    Inang Pamantasan|Progressive greet...|  null|\n|null|    null|                null|In about a month ...|     0|\n|  89|  ablaze|Twitter Lockout i...|Rene Ablaze &amp;...|     0|\n|  91|  ablaze|         Concord, CA|@Navista7 Steve t...|     1|\n|  92|  ablaze|         Calgary, AB|#NowPlaying: Rene...|     0|\n|  93|  ablaze|          Birmingham|@nxwestmidlands h...|     1|\n|  95|  ablaze|       San Francisco|@ablaze what time...|     0|\n|  96|accident|              CLVLND|'I can't have kid...|     0|\n|  97|accident|       Nashville, TN|Accident on I-24 ...|     1|\n|  98|accident|     Santa Clara, CA|Accident center l...|     1|\n| 100|accident|                  UK|http://t.co/GKYe6...|     0|\n| 102|accident|       St. Louis, MO|#stlouis #caracci...|     0|\n| 104|accident|Walker County, Al...|Reported motor ve...|     1|\n| 105|accident|           Australia|BigRigRadio Live ...|     1|\n| 107|accident|      North Carolina|I-77 Mile Marker ...|     1|\n| 109|accident|                null|RT @SleepJunkies:...|     0|\n| 110|accident|       Norf Carolina|'By accident' the...|     0|\n| 112|accident|San Mateo County, CA|Traffic accident ...|     1|\n| 113|accident|      North Carolina|I-77 Mile Marker ...|     1|\n| 114|accident|        Njoro, Kenya|the pastor was no...|     1|\n| 117|accident|                null|mom: 'we didn't g...|  null|\n|null|    null|                null|  me: 'why is that?'|  null|\n|null|    null|                null|mom: 'there was a...|     0|\n| 118|accident|Your Sister's Bed...|I was in a horrib...|     1|\n| 119|accident|                null|Can wait to see h...|     0|\n| 120|accident|       Arlington, TX|#TruckCrash Overt...|     1|\n| 121|accident|South Bloomfield, OH|Accident in #Ashv...|     1|\n| 126|accident|                null|Carolina accident...|     1|\n| 128|accident|New Hanover Count...|FYI CAD:FYI: ;ACC...|     1|\n| 129|accident|            Maldives|RT nAAYf: First a...|     1|\n| 130|accident|      Manchester, NH|Accident left lan...|     1|\n| 131|accident|      Wilmington, NC|;ACCIDENT PROPERT...|     1|\n| 132|accident|                null|???? it was an ac...|     0|\n| 133|accident|New Hanover Count...|FYI CAD:FYI: ;ACC...|     1|\n| 134|accident|                null|8/6/2015@2:09 PM:...|     1|\n| 135|accident|              global|Aashiqui Actress ...|     1|\n| 136|accident|Alberta | Sask. |...|Suffield Alberta ...|     1|\n+----+--------+--------------------+--------------------+------+\nonly showing top 100 rows\n\n"
     ]
    }
   ],
   "source": [
    "# on verifie\n",
    "df2=replace_text(df_train)\n",
    "null_count = df2.select(F.sum(F.col(\"target\").isNull().cast(\"int\"))).alias(\"null_count\")\n",
    "null_count.show()\n",
    "df3=replace_target(df2)\n",
    "null_count = df3.select(F.sum(F.col(\"target\").isNull().cast(\"int\"))).alias(\"null_count\")\n",
    "null_count.show()\n",
    "\n",
    "df3.show(100)"
   ]
  },
  {
   "cell_type": "code",
   "execution_count": 0,
   "metadata": {
    "application/vnd.databricks.v1+cell": {
     "cellMetadata": {
      "byteLimit": 2048000,
      "rowLimit": 10000
     },
     "inputWidgets": {},
     "nuid": "2d727072-8bb9-49d2-9333-d7f3c145a8c1",
     "showTitle": false,
     "tableResultSettingsMap": {},
     "title": ""
    }
   },
   "outputs": [],
   "source": [
    "def tri(df):\n",
    "    df = replace_text(df)  # remplace le text null, si il existe dans une des autres colonnes\n",
    "    df = replace_target(df) # remplace le target null si il existe dans une autre colonne\n",
    "    df = replace_location(df)  #supprime le contenue de location si il y'à au moin un \"?\"\n",
    "    df = drop_null_target(df) # supprime les target qui n'ont pas été remplacé car manquant\n",
    "    df = drop_null_text(df)   # supprime le text devenue nulle , si le target était à l'intérieur\n",
    "    df = reset_ids(df)  # Réinitialisation des IDs correctement\n",
    "    return df"
   ]
  },
  {
   "cell_type": "code",
   "execution_count": 0,
   "metadata": {
    "application/vnd.databricks.v1+cell": {
     "cellMetadata": {
      "byteLimit": 2048000,
      "rowLimit": 10000
     },
     "inputWidgets": {},
     "nuid": "ef918fa0-1667-44d3-90f1-235424e8afb0",
     "showTitle": false,
     "tableResultSettingsMap": {},
     "title": ""
    }
   },
   "outputs": [
    {
     "output_type": "stream",
     "name": "stdout",
     "output_type": "stream",
     "text": [
      "+---+-------------------+--------------------+--------------------+------+\n| id|            keyword|            location|                text|target|\n+---+-------------------+--------------------+--------------------+------+\n|  1|               null|                null|Our Deeds are the...|     1|\n|  2|               null|                null|Forest fire near ...|     1|\n|  3|               null|                null|All residents ask...|     1|\n|  4|               null|                null|13,000 people rec...|     1|\n|  5|               null|                null|Just got sent thi...|     1|\n|  6|               null|                null|#RockyFire Update...|     1|\n|  7|               null|                null|#flood #disaster ...|     1|\n|  8|               null|                null|I'm on top of the...|     1|\n|  9|               null|                null|There's an emerge...|     1|\n| 10|               null|                null|I'm afraid that t...|     1|\n| 11|               null|                null|Three people died...|     1|\n| 12|               null|                null|Haha South Tampa ...|     1|\n| 13|               null|                null|#raining #floodin...|     1|\n| 14|               null|                null|#Flood in Bago My...|     1|\n| 15|               null|                null|Damage to school ...|     1|\n| 16|               null|                null|      What's up man?|     0|\n| 17|               null|                null|       I love fruits|     0|\n| 18|               null|                null|    Summer is lovely|     0|\n| 19|               null|                null|   My car is so fast|     0|\n| 20|               null|                null|What a goooooooaa...|     0|\n| 21|               null|                null|this is ridiculou...|     0|\n| 22|               null|                null|   London is cool ;)|     0|\n| 23|               null|                null|         Love skiing|     0|\n| 24|               null|                null|What a wonderful ...|     0|\n| 25|               null|                null|            LOOOOOOL|     0|\n| 26|               null|                null|No way...I can't ...|     0|\n| 27|               null|                null|Was in NYC last w...|     0|\n| 28|               null|                null|  Love my girlfriend|     0|\n| 29|               null|                null|           Cooool :)|     0|\n| 30|               null|                null|  Do you like pasta?|     0|\n| 31|               null|                null|            The end!|     0|\n| 32|             ablaze|          Birmingham|@bbcmtd Wholesale...|     1|\n| 33|             ablaze|Est. September 20...|We always try to ...|     0|\n| 34|             ablaze|              AFRICA|#AFRICANBAZE: Bre...|     1|\n| 35|             ablaze|    Philadelphia, PA|Crying out for mo...|     0|\n| 36|             ablaze|          London, UK|On plus side LOOK...|     0|\n| 37|             ablaze|            Pretoria|@PhDSquares #mufc...|     0|\n| 38|             ablaze|        World Wide!!|INEC Office in Ab...|     1|\n| 39|             ablaze|                null|Barbados #Bridget...|     1|\n| 40|             ablaze|      Paranaque City|Ablaze for you Lo...|     0|\n| 41|             ablaze|      Live On Webcam|Check these out: ...|     0|\n| 42|               null|                null|but you're dead i...|     0|\n| 43|             ablaze|           milky way|Had an awesome ti...|     0|\n| 44|             ablaze|                null|SOOOO PUMPED FOR ...|     0|\n| 45|             ablaze|                null|I wanted to set C...|     0|\n| 46|             ablaze|                null|I gained 3 follow...|     0|\n| 47|             ablaze|GREENSBORO,NORTH ...|How the West was ...|     1|\n| 48|             ablaze|                null|Building the perf...|     0|\n| 49|             ablaze|      Live On Webcam|Check these out: ...|     0|\n| 50|             ablaze|            England.|First night with ...|     0|\n| 51|             ablaze|Sheffield Townshi...|Deputies: Man sho...|     1|\n| 52|               null|                null|http://t.co/eV1ah...|     1|\n| 53|             ablaze|            Barbados|SANTA CRUZ ÛÓ He...|     0|\n| 54|             ablaze|             Anaheim|Police: Arsonist ...|     1|\n| 55|             ablaze|               Abuja|Noches El-Bestia ...|     0|\n| 56|             ablaze|                 USA|#Kurds trampling ...|     1|\n| 57|             ablaze|        South Africa|TRUCK ABLAZE : R2...|     1|\n| 58|             ablaze|   Sao Paulo, Brazil|Set our hearts ab...|     0|\n| 59|             ablaze|      hollywoodland |They sky was abla...|     0|\n| 60|             ablaze|Edmonton, Alberta...|How the West was ...|     1|\n| 61|             ablaze|                null|Revel in yours wm...|     0|\n| 62|               null|                null|In about a month ...|     0|\n| 63|             ablaze|Twitter Lockout i...|Rene Ablaze &amp;...|     0|\n| 64|             ablaze|         Concord, CA|@Navista7 Steve t...|     1|\n| 65|             ablaze|         Calgary, AB|#NowPlaying: Rene...|     0|\n| 66|             ablaze|          Birmingham|@nxwestmidlands h...|     1|\n| 67|             ablaze|       San Francisco|@ablaze what time...|     0|\n| 68|           accident|              CLVLND|'I can't have kid...|     0|\n| 69|           accident|       Nashville, TN|Accident on I-24 ...|     1|\n| 70|           accident|     Santa Clara, CA|Accident center l...|     1|\n| 71|           accident|                  UK|http://t.co/GKYe6...|     0|\n| 72|           accident|       St. Louis, MO|#stlouis #caracci...|     0|\n| 73|           accident|Walker County, Al...|Reported motor ve...|     1|\n| 74|           accident|           Australia|BigRigRadio Live ...|     1|\n| 75|           accident|      North Carolina|I-77 Mile Marker ...|     1|\n| 76|           accident|                null|RT @SleepJunkies:...|     0|\n| 77|           accident|       Norf Carolina|'By accident' the...|     0|\n| 78|           accident|San Mateo County, CA|Traffic accident ...|     1|\n| 79|           accident|      North Carolina|I-77 Mile Marker ...|     1|\n| 80|           accident|        Njoro, Kenya|the pastor was no...|     1|\n| 81|               null|                null|mom: 'there was a...|     0|\n| 82|           accident|Your Sister's Bed...|I was in a horrib...|     1|\n| 83|           accident|                null|Can wait to see h...|     0|\n| 84|           accident|       Arlington, TX|#TruckCrash Overt...|     1|\n| 85|           accident|South Bloomfield, OH|Accident in #Ashv...|     1|\n| 86|           accident|                null|Carolina accident...|     1|\n| 87|           accident|New Hanover Count...|FYI CAD:FYI: ;ACC...|     1|\n| 88|           accident|            Maldives|RT nAAYf: First a...|     1|\n| 89|           accident|      Manchester, NH|Accident left lan...|     1|\n| 90|           accident|      Wilmington, NC|;ACCIDENT PROPERT...|     1|\n| 91|           accident|                null|???? it was an ac...|     0|\n| 92|           accident|New Hanover Count...|FYI CAD:FYI: ;ACC...|     1|\n| 93|           accident|                null|8/6/2015@2:09 PM:...|     1|\n| 94|           accident|              global|Aashiqui Actress ...|     1|\n| 95|           accident|Alberta | Sask. |...|Suffield Alberta ...|     1|\n| 96|           accident|           Charlotte|9 Mile backup on ...|     1|\n| 97|           accident|     Baton Rouge, LA|Has an accident c...|     0|\n| 98|           accident|      Hagerstown, MD|#BREAKING: there ...|     1|\n| 99|           accident|Gloucestershire , UK|@flowri were you ...|     0|\n|100|           accident|                null|only had a car fo...|     1|\n|101|           accident|                  UK|.@NorwayMFA #Bahr...|     1|\n|102|           accident|      Nairobi, Kenya|I still have not ...|     0|\n|103|         aftershock|Instagram - @heyi...|@afterShock_DeLo ...|     0|\n|104|               null|                null|    Roger Bannister\"|     0|\n|105|         aftershock|         Switzerland|320 [IR] ICEMOON ...|     0|\n|106|         aftershock|                 304|'There is no vict...|     0|\n|107|         aftershock|                  US|320 [IR] ICEMOON ...|     0|\n|108|         aftershock|                 304|'Nobody remembers...|     0|\n|109|         aftershock|Instagram - @heyi...|@afterShock_DeLo ...|     0|\n|110|         aftershock|                 304|'The harder the c...|     0|\n|111|         aftershock|                null|#GrowingUpSpoiled...|     0|\n|112|         aftershock|                null|So i guess no one...|     0|\n|113|         aftershock|                null|Aftershock was th...|     0|\n|114|         aftershock|             Belgium|Aftershock https:...|     0|\n|115|         aftershock|         Switzerland|320 [IR] ICEMOON ...|     0|\n|116|         aftershock|                  US|320 [IR] ICEMOON ...|     0|\n|117|         aftershock|                null|320 [IR] ICEMOON ...|     0|\n|118|         aftershock|           dope show|@KJForDays I'm se...|     0|\n|119|         aftershock|         Switzerland|320 [IR] ICEMOON ...|     0|\n|120|         aftershock|         Switzerland|320 [IR] ICEMOON ...|     0|\n|121|         aftershock|      Oshawa, Canada|#WisdomWed BONUS ...|     0|\n|122|         aftershock|   Baker City Oregon|Aftershock: Prote...|     0|\n|123|         aftershock|                null|That moment when ...|     0|\n|124|         aftershock|                null|Aftershock ã¢ (2...|     0|\n|125|               null|                null|     @esquireattire\"|     0|\n|126|         aftershock|                 304|Sometimes you fac...|     0|\n|127|         aftershock|                 304|'The only thing t...|     0|\n|128|         aftershock|      marysville ca |Praise God that w...|     0|\n|129|         aftershock|                 304|'Remembering that...|     0|\n|130|         aftershock|   Hermosa Beach, CA|Tried orange afte...|     0|\n|131|         aftershock|                null|@OnFireAnders I l...|     0|\n|132|         aftershock|                null|Aftershock https:...|     0|\n|133|         aftershock|                null|Aftershock back t...|     0|\n|134|         aftershock|                 304|People who say it...|     0|\n|135|         aftershock|                 304|'The first man ge...|     0|\n|136|         aftershock|                null|Anyone need a P/U...|     0|\n|137|airplane%20accident|19.600858, -99.04...|Experts in France...|     1|\n|138|airplane%20accident|        Pennsylvania|Strict liability ...|     1|\n|139|airplane%20accident|Salt Lake City, Utah|@crobscarla your ...|     0|\n|140|airplane%20accident|       Palo Alto, CA|Experts in France...|     1|\n|141|airplane%20accident|                null|@AlexAllTimeLow a...|     1|\n|142|airplane%20accident|Spain but Opa-Loc...|family members of...|     1|\n|143|airplane%20accident|       Jaipur, India|Man Goes into Air...|     1|\n|144|airplane%20accident|Hyderabad Telanga...|Horrible Accident...|     1|\n|145|airplane%20accident|   Eagle Pass, Texas|A Cessna airplane...|     1|\n|146|airplane%20accident|           bangalore|#Horrible #Accide...|     1|\n|147|airplane%20accident|Financial News an...|Experts in France...|     1|\n|148|airplane%20accident|                null|Experts in France...|     1|\n|149|airplane%20accident|           Indonesia|#KCA #VoteJKT48ID...|     1|\n|150|airplane%20accident|y(our) boyfriends...|I almost sent my ...|     0|\n|151|airplane%20accident|     New Mexico, USA|@mickinyman @TheA...|     0|\n|152|airplane%20accident| Somewhere Out There|Experts in France...|     1|\n|153|               null|                null|#man #airport #ai...|     1|\n|154|airplane%20accident|        Mumbai india|Horrible Accident...|     1|\n|155|airplane%20accident|           sri lanka|Horrible Accident...|     1|\n|156|airplane%20accident|  Not a U.S resident|Usama bin Ladins ...|     1|\n|157|airplane%20accident|                null|Pilot Dies In Pla...|     1|\n|158|airplane%20accident|   Lehigh Valley, PA|Strict liability ...|     1|\n|159|airplane%20accident|              Canada|DTN Brazil: Exper...|     1|\n|160|airplane%20accident|                null|Experts in France...|     1|\n|161|airplane%20accident|            Thrissur|Horrible Accident...|     1|\n|162|               null|                null|                  +\"|     1|\n|163|airplane%20accident|               India|OMG Horrible Acci...|     1|\n|164|               null|                null|#AirPlane #Accide...|     1|\n|165|airplane%20accident|                null|Experts in France...|     1|\n|166|airplane%20accident|              Israel|I had a airplane ...|     1|\n|167|airplane%20accident|Fashion Heaven. I...|My phone looks li...|     0|\n|168|airplane%20accident|   San Francisco, CA|Statistically I'm...|     0|\n|169|airplane%20accident|               italy|airplane crashes ...|     1|\n|170|airplane%20accident|                 nyc|The shooting or t...|     1|\n|171|airplane%20accident|             Toronto|Could a drone cau...|     1|\n|172|          ambulance|                null|Early wake up cal...|     1|\n|173|          ambulance|             Jackson|http://t.co/AY6zz...|     1|\n|174|          ambulance|New York / Worldwide|Two air ambulance...|     1|\n|175|          ambulance|                null|Twelve feared kil...|     1|\n|176|          ambulance|     New Orleans, LA|Leading emergency...|     0|\n|177|          ambulance|          West Wales|Anyone travelling...|     1|\n|178|          ambulance|                null|Twelve feared kil...|     1|\n|179|          ambulance|Happily Married w...|AMBULANCE SPRINTE...|     0|\n|180|          ambulance|       Cambridge, MA|New Nanotech Devi...|     0|\n|181|          ambulance|            Arizona |@20skyhawkmm20 @t...|     1|\n|182|          ambulance|              Mumbai|If I get run over...|     0|\n|183|          ambulance|                null|#news Twelve fear...|     1|\n|184|          ambulance|           Amsterdam|http://t.co/7xGLa...|     1|\n|185|          ambulance|    Swindon,England |@TanSlash waiting...|     0|\n|186|          ambulance|                null|@fouseyTUBE you o...|     0|\n|187|          ambulance|Happily Married w...|AMBULANCE SPRINTE...|     0|\n|188|          ambulance|                null|Pakistan air ambu...|     1|\n|189|          ambulance|    Williamstown, VT|@TheNissonian @Re...|     0|\n|190|          ambulance| North Carolina, USA|EMS1: NY EMTs pet...|     0|\n|191|          ambulance|                null|http://t.co/FCqmK...|     1|\n|192|          ambulance|             Karachi|Twelve feared kil...|     1|\n|193|          ambulance|Happily Married w...|AMBULANCE SPRINTE...|     0|\n|194|          ambulance|Happily Married w...|AMBULANCE SPRINTE...|     0|\n|195|          ambulance|   Loveland Colorado|@Kiwi_Karyn Check...|     0|\n|196|          ambulance| || c h i c a g o |||when you don't kn...|     1|\n|197|          ambulance|                null|#reuters Twelve f...|     1|\n|198|          ambulance|               L. A.|http://t.co/pWwpU...|     1|\n|199|          ambulance|                null|Why is there an a...|     0|\n|200|          ambulance|              Canada|ÛÏ@LeoBlakeCarte...|     0|\n|201|          ambulance|VISIT MY YOUTUBE ...|HAPPENING NOW - H...|     0|\n|202|          ambulance|           Lexington|http://t.co/FueRk...|     1|\n|203|          ambulance|                null|http://t.co/X5YEU...|     1|\n|204|          ambulance|                 USA|Twelve feared kil...|     1|\n|205|          ambulance|   Hannover, Germany|Twelve feared kil...|     1|\n|206|          ambulance|                null|What's the police...|     0|\n|207|          ambulance|                null|@medic914 @AACE_o...|     0|\n|208|          ambulance|               Playa|http://t.co/J8TYT...|     1|\n|209|          ambulance|        Davidson, NC|People who try to...|     0|\n|210|        annihilated|       Higher Places|The episode where...|     0|\n|211|        annihilated|       Horsemind, MI|THEY SHALL BE ANN...|     0|\n|212|        annihilated|        New York, NY|Uribe just annihi...|     0|\n|213|        annihilated|            Boksburg|@marksmaponyane H...|     0|\n|214|        annihilated|                null|@Volfan326 @TNeaz...|     0|\n|215|        annihilated|                null|Annihilated Abs ....|     1|\n|216|        annihilated|                null|Be annihilated fo...|     0|\n|217|        annihilated|                null|*to Luka* They sh...|     0|\n|218|        annihilated|Greater Mancheste...|@ACarewornHeart H...|     0|\n|219|        annihilated|              Boston|Cop pulls drunk d...|     1|\n|220|        annihilated|                null|You must be annih...|     0|\n|221|        annihilated|                null|Cop pulls drunk d...|     1|\n|222|        annihilated|  The Canopy Kingdom|BOOM! Your countr...|     0|\n|223|        annihilated|                null|@AmirKingKhan you...|     0|\n|224|        annihilated|                 USA|One thing for sur...|     0|\n|225|        annihilated|                null|@violentfeminazi ...|     1|\n|226|        annihilated|                null|70 years since we...|     1|\n|227|        annihilated| the own zone layer |day 1 of tryouts ...|     0|\n|228|               null|                null|http://t.co/yangE...|     1|\n|229|        annihilated|        Trancy Manor|(To Luka) 'They s...|     0|\n|230|        annihilated|                null|Ready to get anni...|     1|\n|231|        annihilated|            South 37|@PhilipDuncan @br...|     1|\n|232|        annihilated|                null|Domain other soph...|     0|\n|233|        annihilated|West Lancashire, UK.|@stormbeard @stee...|     0|\n|234|        annihilated|                  PA|Officially skippi...|     0|\n|235|        annihilated|                null|@TomcatArts thus ...|     1|\n|236|        annihilated|Û¢ Views From Th...|just completely a...|     0|\n|237|        annihilated|                null|@TomcatArts 'who ...|     0|\n|238|        annihilated|University of Tor...|@SirBrandonKnt ex...|     0|\n|239|        annihilated|                null|Cop pulls drunk d...|     1|\n|240|               null|                null|http://t.co/7rakh...|     1|\n|241|        annihilated|                null|@thatdes ok i was...|     0|\n|242|        annihilated|              London|A fun filled happ...|     0|\n|243|        annihilated|           Albany/NY|Juanny Beisbol Sr...|     0|\n|244|       annihilation|     California, USA|@rvfriedmann Hell...|     1|\n|245|       annihilation|                null|@POTUS Maybe we s...|     0|\n|246|       annihilation|                null|Evildead - Annihi...|     0|\n|247|       annihilation|                null|U.S National Park...|     0|\n|248|       annihilation|       Wild Wild Web|annihilating quar...|     1|\n|249|       annihilation|     Subconscious LA|World Annihilatio...|     0|\n|250|       annihilation|               Spain|:StarMade: :Stard...|     1|\n|251|       annihilation|                null|U.S National Park...|     0|\n|252|       annihilation|                null|U.S National Park...|     1|\n|253|       annihilation|Yeezy Taught Me , NV|@KimKardashian ca...|     0|\n|254|       annihilation|                null|U.S National Park...|     1|\n|255|       annihilation|                null|@TheEllenShow Ple...|     0|\n|256|       annihilation|       United States|Are souls punishe...|     0|\n|257|       annihilation|                null|@CalFreedomMom @s...|     1|\n|258|       annihilation|                null|@willienelson We ...|     1|\n|259|       annihilation|       Rock Hill, SC|I reject the laws...|     0|\n|260|       annihilation|        Coolidge, AZ|U.S National Park...|     0|\n|261|               null|                null|Please God allow ...|     0|\n|262|       annihilation|                null|@Barbi_Twins We n...|     0|\n|263|       annihilation|                null|@Whippenz We need...|     0|\n|264|       annihilation|         Phoenix, AZ|Hey #AZ: Sign thi...|     0|\n|265|       annihilation| Ljubljana, Slovenia|Stop the Annihila...|     1|\n|266|       annihilation|         Connecticut|@SonofBaldwin and...|     0|\n|267|       annihilation|   Tacoma,Washington|U.S National Park...|     0|\n|268|       annihilation|                null|Please sign &amp;...|     0|\n|269|       annihilation|                null|THANKS!!!!! @COUN...|     0|\n|270|       annihilation|     Subconscious LA|World Annihilatio...|     1|\n|271|       annihilation|BIG D  HOUSTON/BO...|U.S National Park...|     0|\n|272|       annihilation|        Chandler, AZ|U.S National Park...|     1|\n|273|         apocalypse|            ColoRADo|I'm gonna fight T...|     0|\n|274|         apocalypse|             sindria|ohH NO FUKURODANI...|     1|\n|275|         apocalypse|                null|will there be ano...|     0|\n|276|         apocalypse|                null|RT: janenelson097...|     0|\n|277|         apocalypse|               Texas|   Apocalypse please|     0|\n|278|         apocalypse|  Elk Grove, CA, USA|Another hour! It'...|     1|\n|279|         apocalypse|               Texas|@HoneyBunzGem @pr...|     0|\n|280|         apocalypse|                null|She's kinda hot p...|     0|\n|281|         apocalypse|           The Shire|But if it's the a...|     0|\n|282|         apocalypse|          Austin, TX|I know it's a que...|     1|\n|283|         apocalypse|             Oakland|Julie + R is the ...|     0|\n|284|         apocalypse|                null|the apocalypse is...|     0|\n|285|         apocalypse|                null|RT: fittscott: Mi...|     0|\n|286|         apocalypse|         Albuquerque|And so it begins....|     1|\n|287|               null|                null|In the spirit the...|     0|\n|288|         apocalypse|Buenos Aires, Arg...|candylit: Imagine...|     0|\n|289|         apocalypse|                null|RT: ZONEWolf123: ...|     0|\n|290|         apocalypse|                null|And that's becaus...|     0|\n|291|         apocalypse| San Antonio-ish, TX|Dad bought a DVD ...|     1|\n|292|         apocalypse|       San Francisco|@alexandrapullin ...|     0|\n|293|         apocalypse|         Oregon, USA|GO LOOK AT GRIZZL...|     0|\n|294|         apocalypse|       Harlingen, TX|My niece just ask...|     0|\n|295|         apocalypse|          Buffalo NY|There's a Storm o...|     1|\n|296|         apocalypse|                null|Minecraft- NIGHT ...|     0|\n|297|         apocalypse|                null|Shot Through The ...|     0|\n|298|         apocalypse|                null|RT: Geek_Apocalyp...|     0|\n|299|         apocalypse|           Las Vegas|I know where to g...|     0|\n|300|         apocalypse|                null|The latest from @...|     1|\n|301|         apocalypse|                null|Shadow boxing the...|     1|\n|302|               null|                null|In the spirit the...|     1|\n|303|         apocalypse|               Tokyo|Enjoyed live-acti...|     0|\n|304|         apocalypse|                null|I liked a @YouTub...|     0|\n|305|         armageddon|California, Unite...|#PBBan (Temporary...|     0|\n|306|         armageddon|California, Unite...|#PBBan (Temporary...|     0|\n|307|         armageddon|    #FLIGHTCITY UK  |((OFFICIAL VID)) ...|     0|\n|308|         armageddon|                null|ouvindo Peace Lov...|     0|\n|309|         armageddon|                null|Best movie you've...|     0|\n|310|         armageddon|Alphen aan den Ri...|Bed time. Don't w...|     0|\n|311|         armageddon|                null|Red Faction: Arma...|     0|\n|312|         armageddon|       Wrigley Field|@KatieKatCubs you...|     0|\n|313|         armageddon|                null|RT @Ophiuchus2613...|     0|\n|314|               null|                null|just got a flawle...|     0|\n|315|         armageddon|              Canada|@ENews Ben Afflec...|     0|\n|316|         armageddon|             England|'If I'd have had ...|     0|\n|317|         armageddon|                 USA|YOUR PHONE IS SPY...|     0|\n|318|         armageddon|California, Unite...|#PBBan (Temporary...|     1|\n|319|         armageddon|                null|RT @RTRRTcoach: #...|     0|\n|320|         armageddon|California, Unite...|#PBBan (Temporary...|     0|\n|321|         armageddon|       New York City|Photo: Sketch I d...|     0|\n|322|         armageddon|      Here And There|Armageddon https:...|     1|\n|323|               null|                null|    @Armageddon????\"|     0|\n|324|         armageddon|          Derry, 17 |@paddytomlinson1 ...|     0|\n|325|         armageddon|Nowhere. Everywhere.|@RohnertParkDPS Y...|     0|\n|326|               null|                null|http://t.co/gBxaf...|     1|\n|327|         armageddon|           Worldwide|God's Kingdom (He...|     0|\n|328|         armageddon|                null|L B #Entertainmen...|     0|\n|329|         armageddon|Nowhere. Everywhere.|LetÛªs talk some...|     0|\n|330|         armageddon|          East Coast|@Karnythia my nie...|     0|\n|331|         armageddon|          California|Check out #PREPPE...|     0|\n|332|         armageddon|         Toronto, ON|@Erker Again?? Ee...|     1|\n|333|         armageddon|                null|So the Ahamedis t...|     0|\n|334|         armageddon|The Orwellion pol...|Sadly How Windows...|     0|\n|335|               null|                null|       #UltimaLucha\"|     0|\n|336|         armageddon|   Helsinki, Finland|@samihonkonen If ...|     0|\n|337|         armageddon|       East Kilbride|European Fitba ti...|     0|\n|338|         armageddon|                null|#Christians Unite...|     0|\n|339|         armageddon|    #FLIGHTCITY UK  |(OFFICIAL VID) &g...|     0|\n|340|         armageddon|middle eastern pa...|Tomorrow is the d...|     0|\n|341|         armageddon|                Kent|Lee does comedy: ...|     0|\n|342|         armageddon|                null|9 Charts Prove Fi...|     0|\n|343|         armageddon|                null|Paul Craig Robert...|     1|\n|344|         armageddon|Nowhere. Everywhere.|@RohnertParkDPS Y...|     0|\n|345|         armageddon|    #FLIGHTCITY UK  |**OFFICIAL VID** ...|     0|\n|346|               null|                null|Armageddon eh.......|     0|\n|347|               army|                null|Beyonce Is my pic...|     0|\n|348|               army|                null|One Direction Is ...|     0|\n|349|               army|                null|5 Seconds of Summ...|     0|\n|350|               army|                null|22.Beyonce Is my ...|     0|\n|351|               army|                null|17.Beyonce Is my ...|     0|\n|352|               army|                null|One Direction Is ...|     0|\n|353|               army|twitch.tv/natural...|Seeing that army ...|     0|\n|354|               null|                null|Start g this frie...|     0|\n|355|               army|         Memphis, TN|Salvation Army ho...|     1|\n|356|               army|                null|Vote for #Directi...|     0|\n|357|               army|              Studio|But if you build ...|     1|\n|358|               army|       Hollywood, CA|'Show Me a Hero':...|     0|\n|359|               army|                null|One Direction Is ...|     1|\n|360|               army|            New York|INFANTRY Mens Lum...|     0|\n|361|               army|                null|One Direction Is ...|     0|\n|362|               army|                null|VICTORINOX SWISS ...|     1|\n|363|               null|                null|Indian Army kiÛ_...|     0|\n|364|               army|         Mexico! ^_^|5 Seconds of Summ...|     0|\n|365|               army|                null|Beyonce Is my pic...|     0|\n|366|               army|                null|One Direction Is ...|     0|\n|367|               null|                null|#MTVSummerStar #V...|     0|\n|368|               army|                null|One Direction Is ...|     0|\n|369|               army|    Harlem, New York|Stony Jackson is ...|     0|\n|370|               army|            New York|WWI WWII JAPANESE...|     0|\n|371|               army|                null|Beyonce Is my pic...|     0|\n|372|               army|                null|7.Beyonce Is my p...|     0|\n|373|               army|                null|Beyonce Is my pic...|     0|\n|374|               army|                null|6.Beyonce Is my p...|     0|\n|375|               army|      Washington, DC|POTUS appoints Br...|     0|\n|376|               army|          Burbank,CA|@AP what a violen...|     1|\n|377|               army|            New York|WWI WWII JAPANESE...|     0|\n|378|               army|                null|WWI WWII JAPANESE...|     0|\n|379|               army|                null|One Direction Is ...|     0|\n|380|               army|                null|One Direction Is ...|     0|\n|381|              arson|                null|Two Jewish Terror...|     0|\n|382|              arson| Spokane, Washington|Spokane authoriti...|     1|\n|383|              arson|                 USA|Thousands attend ...|     1|\n|384|              arson|       Charlotte, NC|Add Familia to th...|     0|\n|385|              arson|    Our Empire State|Another fake hate...|     1|\n|386|              arson|                null|Los Angeles Times...|     1|\n|387|              arson|                null|Mourning notices ...|     1|\n|388|              arson|           Jerusalem|Mourning notices ...|     1|\n|389|              arson|Kingston, Pennsyl...|  The Sound of Arson|     0|\n|390|              arson|       Milwaukee, WI|Owner of Chicago-...|     0|\n|391|              arson|         Zero Branco|Wait What??? http...|     0|\n|392|              arson|   Republic of Texas|Arson suspect lin...|     1|\n|393|              arson|                null|Trial Date Set fo...|     1|\n|394|               null|                null|attack Israel cra...|     1|\n|395|              arson|                 USA|Palestinian Teen ...|     1|\n|396|              arson|      Eldoret, kenya|#Kisii Police in ...|     1|\n|397|              arson|           ÛÊÛÊÛÊ|Mariah getting th...|     1|\n|398|              arson|           Jerusalem|Mourning notices ...|     0|\n|399|              arson|            Miami,FL|RelaxInPR: miprv:...|     1|\n|400|              arson|                null|Jewish leaders pr...|     1|\n+---+-------------------+--------------------+--------------------+------+\nonly showing top 400 rows\n\n"
     ]
    }
   ],
   "source": [
    "data = tri(df_train)\n",
    "data.show(400)"
   ]
  },
  {
   "cell_type": "markdown",
   "metadata": {
    "application/vnd.databricks.v1+cell": {
     "cellMetadata": {
      "byteLimit": 2048000,
      "rowLimit": 10000
     },
     "inputWidgets": {},
     "nuid": "10a1d59a-fc08-49e4-9230-1b7438158919",
     "showTitle": false,
     "tableResultSettingsMap": {},
     "title": ""
    }
   },
   "source": [
    "ETUDE 1: prise en compte uniquement du text comme variable explicative (location et keyword laisser de coté)"
   ]
  },
  {
   "cell_type": "code",
   "execution_count": 0,
   "metadata": {
    "application/vnd.databricks.v1+cell": {
     "cellMetadata": {
      "byteLimit": 2048000,
      "rowLimit": 10000
     },
     "inputWidgets": {},
     "nuid": "20a4eaee-1555-4465-b10b-488f2e5402b2",
     "showTitle": false,
     "tableResultSettingsMap": {},
     "title": ""
    }
   },
   "outputs": [
    {
     "output_type": "stream",
     "name": "stdout",
     "output_type": "stream",
     "text": [
      "Out[40]: 7611"
     ]
    }
   ],
   "source": [
    "\n",
    "data1= data.select(\"id\",\"text\",\"target\")\n",
    "data.count()\n"
   ]
  },
  {
   "cell_type": "code",
   "execution_count": 0,
   "metadata": {
    "application/vnd.databricks.v1+cell": {
     "cellMetadata": {
      "byteLimit": 2048000,
      "rowLimit": 10000
     },
     "inputWidgets": {},
     "nuid": "e384026f-1463-465c-9d09-80aa8b02e25a",
     "showTitle": false,
     "tableResultSettingsMap": {},
     "title": ""
    }
   },
   "outputs": [
    {
     "output_type": "stream",
     "name": "stdout",
     "output_type": "stream",
     "text": [
      "+---+--------------------+-----+\n| id|                text|label|\n+---+--------------------+-----+\n|  1|Our Deeds are the...|    1|\n|  2|Forest fire near ...|    1|\n|  3|All residents ask...|    1|\n|  4|13,000 people rec...|    1|\n|  5|Just got sent thi...|    1|\n|  6|#RockyFire Update...|    1|\n|  7|#flood #disaster ...|    1|\n|  8|I'm on top of the...|    1|\n|  9|There's an emerge...|    1|\n| 10|I'm afraid that t...|    1|\n| 11|Three people died...|    1|\n| 12|Haha South Tampa ...|    1|\n| 13|#raining #floodin...|    1|\n| 14|#Flood in Bago My...|    1|\n| 15|Damage to school ...|    1|\n| 16|      What's up man?|    0|\n| 17|       I love fruits|    0|\n| 18|    Summer is lovely|    0|\n| 19|   My car is so fast|    0|\n| 20|What a goooooooaa...|    0|\n+---+--------------------+-----+\nonly showing top 20 rows\n\n"
     ]
    }
   ],
   "source": [
    "data1 = data1.withColumn(\"target\", F.col(\"target\").cast(\"int\"))\n",
    "data1 = data1.withColumnRenamed(\"target\", \"label\")\n",
    "data1.show()"
   ]
  },
  {
   "cell_type": "code",
   "execution_count": 0,
   "metadata": {
    "application/vnd.databricks.v1+cell": {
     "cellMetadata": {
      "byteLimit": 2048000,
      "rowLimit": 10000
     },
     "inputWidgets": {},
     "nuid": "2f66ed78-57b6-4608-b6ea-45b79ad8dffb",
     "showTitle": false,
     "tableResultSettingsMap": {},
     "title": ""
    }
   },
   "outputs": [
    {
     "output_type": "stream",
     "name": "stdout",
     "output_type": "stream",
     "text": [
      "+---+----------------------------------------------------------------------------------------------------+------+----------------------------------------------------------------------------------------------------+\n| id|                                                                                                text|target|                                                                                            document|\n+---+----------------------------------------------------------------------------------------------------+------+----------------------------------------------------------------------------------------------------+\n|  1|                               Our Deeds are the Reason of this #earthquake May ALLAH Forgive us all|     1|[{document, 0, 68, Our Deeds are the Reason of this #earthquake May ALLAH Forgive us all, {senten...|\n|  2|                                                              Forest fire near La Ronge Sask. Canada|     1|                    [{document, 0, 37, Forest fire near La Ronge Sask. Canada, {sentence -> 0}, []}]|\n|  3|All residents asked to 'shelter in place' are being notified by officers. No other evacuation or ...|     1|[{document, 0, 132, All residents asked to 'shelter in place' are being notified by officers. No ...|\n|  4|                                   13,000 people receive #wildfires evacuation orders in California |     1|[{document, 0, 64, 13,000 people receive #wildfires evacuation orders in California , {sentence -...|\n|  5|            Just got sent this photo from Ruby #Alaska as smoke from #wildfires pours into a school |     1|[{document, 0, 87, Just got sent this photo from Ruby #Alaska as smoke from #wildfires pours into...|\n|  6|#RockyFire Update => California Hwy. 20 closed in both directions due to Lake County fire - #CAfi...|     1|[{document, 0, 109, #RockyFire Update => California Hwy. 20 closed in both directions due to Lake...|\n|  7|     #flood #disaster Heavy rain causes flash flooding of streets in Manitou, Colorado Springs areas|     1|[{document, 0, 94, #flood #disaster Heavy rain causes flash flooding of streets in Manitou, Color...|\n|  8|                                         I'm on top of the hill and I can see a fire in the woods...|     1|[{document, 0, 58, I'm on top of the hill and I can see a fire in the woods..., {sentence -> 0}, ...|\n|  9|                     There's an emergency evacuation happening now in the building across the street|     1|[{document, 0, 78, There's an emergency evacuation happening now in the building across the stree...|\n| 10|                                                I'm afraid that the tornado is coming to our area...|     1|      [{document, 0, 51, I'm afraid that the tornado is coming to our area..., {sentence -> 0}, []}]|\n| 11|                                                         Three people died from the heat wave so far|     1|               [{document, 0, 42, Three people died from the heat wave so far, {sentence -> 0}, []}]|\n| 12|Haha South Tampa is getting flooded hah- WAIT A SECOND I LIVE IN SOUTH TAMPA WHAT AM I GONNA DO W...|     1|[{document, 0, 128, Haha South Tampa is getting flooded hah- WAIT A SECOND I LIVE IN SOUTH TAMPA ...|\n+---+----------------------------------------------------------------------------------------------------+------+----------------------------------------------------------------------------------------------------+\nonly showing top 12 rows\n\n"
     ]
    }
   ],
   "source": [
    "import sparknlp\n",
    "from sparknlp.base import *\n",
    "from sparknlp.annotator import *\n",
    "\n",
    "\n",
    "\n",
    "documentAssembler = DocumentAssembler() \\\n",
    "                      .setCleanupMode(\"inplace\") \\\n",
    "                      .setInputCol(\"text\") \\\n",
    "                      .setOutputCol(\"document\")\n",
    "\n",
    "documents = documentAssembler.transform(data1)\n",
    "documents.show(12, 100)"
   ]
  },
  {
   "cell_type": "code",
   "execution_count": 0,
   "metadata": {
    "application/vnd.databricks.v1+cell": {
     "cellMetadata": {
      "byteLimit": 2048000,
      "rowLimit": 10000
     },
     "inputWidgets": {},
     "nuid": "d820a1e8-3912-4b41-8fbd-b5ab1e12e11c",
     "showTitle": false,
     "tableResultSettingsMap": {},
     "title": ""
    }
   },
   "outputs": [
    {
     "output_type": "stream",
     "name": "stdout",
     "output_type": "stream",
     "text": [
      "+------------------------------------------------------------------------------------------------------------------------------------------------------------------------------------------------------------------------------------------------------------------------------------------------------------+\n|                                                                                                                                                                                                                                                                                                       token|\n+------------------------------------------------------------------------------------------------------------------------------------------------------------------------------------------------------------------------------------------------------------------------------------------------------------+\n|[{token, 0, 2, Our, {sentence -> 0}, []}, {token, 4, 8, Deeds, {sentence -> 0}, []}, {token, 10, 12, are, {sentence -> 0}, []}, {token, 14, 16, the, {sentence -> 0}, []}, {token, 18, 23, Reason, {sentence -> 0}, []}, {token, 25, 26, of, {sentence -> 0}, []}, {token, 28, 31, this, {sentence -> 0},...|\n+------------------------------------------------------------------------------------------------------------------------------------------------------------------------------------------------------------------------------------------------------------------------------------------------------------+\nonly showing top 1 row\n\n"
     ]
    }
   ],
   "source": [
    "tokenizer = Tokenizer() \\\n",
    "                  .setInputCols([\"document\"]) \\\n",
    "                  .setOutputCol(\"token\")\n",
    "\n",
    "tokensEch = tokenizer.fit(documents).transform(documents)\n",
    "tokensEch.select(\"token\").show(1, 300)"
   ]
  },
  {
   "cell_type": "code",
   "execution_count": 0,
   "metadata": {
    "application/vnd.databricks.v1+cell": {
     "cellMetadata": {
      "byteLimit": 2048000,
      "rowLimit": 10000
     },
     "inputWidgets": {},
     "nuid": "7708344b-d300-4b6d-9957-cd7cd6b2208b",
     "showTitle": false,
     "tableResultSettingsMap": {},
     "title": ""
    }
   },
   "outputs": [
    {
     "output_type": "stream",
     "name": "stdout",
     "output_type": "stream",
     "text": [
      "glove_6B_300 download started this may take some time.\nApproximate size to download 426.2 MB\n\r[ | ]\r[OK!]\n+--------------------------------------------------------------------------------------------------------------------------------------------------------------------------------------------------------+\n|                                                                                                                                                                                        glove_embeddings|\n+--------------------------------------------------------------------------------------------------------------------------------------------------------------------------------------------------------+\n|[{word_embeddings, 0, 2, Our, {isOOV -> false, pieceId -> -1, isWordStart -> true, token -> Our, sentence -> 0}, [-0.025179, 0.07837, -0.17637, -0.12285, -0.13156, 0.26591, -0.60064, 0.46653, 0.042...|\n|[{word_embeddings, 0, 5, Forest, {isOOV -> false, pieceId -> -1, isWordStart -> true, token -> Forest, sentence -> 0}, [-0.45533, 0.14615, -0.028433, 0.4449, 0.22859, -0.15682, 0.37571, 0.76405, 0....|\n|[{word_embeddings, 0, 2, All, {isOOV -> false, pieceId -> -1, isWordStart -> true, token -> All, sentence -> 0}, [-0.069921, 0.18417, 0.21716, -0.44034, -0.21262, 0.34661, -0.24908, -0.015273, 0.10...|\n|[{word_embeddings, 0, 5, 13,000, {isOOV -> false, pieceId -> -1, isWordStart -> true, token -> 13,000, sentence -> 0}, [-0.091704, 0.47105, 0.44867, 0.41515, -0.075563, -0.083963, 0.40406, 0.11043,...|\n|[{word_embeddings, 0, 3, Just, {isOOV -> false, pieceId -> -1, isWordStart -> true, token -> Just, sentence -> 0}, [-0.24005, 0.15426, -0.17838, 0.20981, -0.066943, 0.13387, -0.2579, -0.27093, 0.29...|\n+--------------------------------------------------------------------------------------------------------------------------------------------------------------------------------------------------------+\nonly showing top 5 rows\n\n"
     ]
    }
   ],
   "source": [
    "\n",
    "embeddings = WordEmbeddingsModel.pretrained(\"glove_6B_300\", \"xx\") \\\n",
    "                                .setInputCols(\"document\", \"token\") \\\n",
    "                                .setOutputCol(\"glove_embeddings\")\n",
    "\n",
    "\n",
    "embedsEch = embeddings.transform(tokensEch)\n",
    "embedsEch.select(\"glove_embeddings\").show(5, 200)"
   ]
  },
  {
   "cell_type": "code",
   "execution_count": 0,
   "metadata": {
    "application/vnd.databricks.v1+cell": {
     "cellMetadata": {
      "byteLimit": 2048000,
      "rowLimit": 10000
     },
     "inputWidgets": {},
     "nuid": "76f39dfc-c23d-4f7f-8162-c2efc18ff181",
     "showTitle": false,
     "tableResultSettingsMap": {},
     "title": ""
    }
   },
   "outputs": [
    {
     "output_type": "stream",
     "name": "stdout",
     "output_type": "stream",
     "text": [
      "+--------------------------------------------------------------------------------------------------------------------------------------------------------------------------------------------------------+\n|                                                                                                                                                                               finished_embeddings_glove|\n+--------------------------------------------------------------------------------------------------------------------------------------------------------------------------------------------------------+\n|[[-0.06928376853466034,-0.01271053310483694,0.00862519908696413,-0.25277167558670044,-0.12423738092184067,0.07902661710977554,-0.07260183990001678,0.152671679854393,0.07146238535642624,-1.411920666...|\n|[[-0.05899748578667641,0.054601624608039856,-0.1071816235780716,-0.11128462851047516,-0.03310374915599823,-0.08629648387432098,-0.10258549451828003,0.19005662202835083,-0.09497736394405365,-0.70107...|\n|[[-0.13235606253147125,0.06125080958008766,-0.03614479675889015,-0.15638867020606995,-0.1266949474811554,0.07843363285064697,0.07999947667121887,0.17469343543052673,-0.03278797119855881,-1.43478679...|\n|[[-0.16983948647975922,0.034789495170116425,-2.562478184700012E-4,-0.0336466021835804,-0.18170824646949768,0.05963900685310364,0.10411250591278076,0.04244575276970863,-0.08185386657714844,-0.998736...|\n|[[-0.22194337844848633,-0.03530037775635719,0.007327498868107796,-0.07282354682683945,-0.11924143880605698,0.09478850662708282,-0.08547478169202805,-0.07128225266933441,0.199027419090271,-1.1092586...|\n+--------------------------------------------------------------------------------------------------------------------------------------------------------------------------------------------------------+\nonly showing top 5 rows\n\n"
     ]
    }
   ],
   "source": [
    "embeddingsSentence = SentenceEmbeddings() \\\n",
    "                           .setInputCols([\"document\", \"glove_embeddings\"]) \\\n",
    "                           .setOutputCol(\"sentence_embeddings_glove\") \\\n",
    "                           .setPoolingStrategy(\"AVERAGE\")\n",
    "\n",
    "\n",
    "embeddingsFinisher = EmbeddingsFinisher() \\\n",
    "                           .setInputCols(\"sentence_embeddings_glove\") \\\n",
    "                           .setOutputCols(\"finished_embeddings_glove\") \\\n",
    "                           .setOutputAsVector(True) \\\n",
    "                           .setCleanAnnotations(False)\n",
    "\n",
    "sentencesEch = embeddingsSentence.transform(embedsEch)\n",
    "embeddingsFinisher.transform(sentencesEch).select(\"finished_embeddings_glove\").show(5, 200)\n",
    "\n"
   ]
  },
  {
   "cell_type": "code",
   "execution_count": 0,
   "metadata": {
    "application/vnd.databricks.v1+cell": {
     "cellMetadata": {
      "byteLimit": 2048000,
      "rowLimit": 10000
     },
     "inputWidgets": {},
     "nuid": "f2fd42f8-b7c9-444c-9a19-604e36220bfe",
     "showTitle": false,
     "tableResultSettingsMap": {},
     "title": ""
    }
   },
   "outputs": [
    {
     "output_type": "display_data",
     "data": {
      "text/plain": [
       "\u001B[0;31m---------------------------------------------------------------------------\u001B[0m\n",
       "\u001B[0;31mTypeError\u001B[0m                                 Traceback (most recent call last)\n",
       "File \u001B[0;32m<command-2923470060826260>:13\u001B[0m\n",
       "\u001B[1;32m      1\u001B[0m \u001B[38;5;28;01mfrom\u001B[39;00m \u001B[38;5;21;01mpyspark\u001B[39;00m\u001B[38;5;21;01m.\u001B[39;00m\u001B[38;5;21;01mml\u001B[39;00m \u001B[38;5;28;01mimport\u001B[39;00m Pipeline\n",
       "\u001B[1;32m      3\u001B[0m pipelineGlove \u001B[38;5;241m=\u001B[39m Pipeline() \\\n",
       "\u001B[1;32m      4\u001B[0m                       \u001B[38;5;241m.\u001B[39msetStages([ \\\n",
       "\u001B[1;32m      5\u001B[0m                          documentAssembler, \\\n",
       "\u001B[0;32m   (...)\u001B[0m\n",
       "\u001B[1;32m      9\u001B[0m                          embeddingsFinisher \\\n",
       "\u001B[1;32m     10\u001B[0m                       ])\n",
       "\u001B[0;32m---> 13\u001B[0m resultGlove \u001B[38;5;241m=\u001B[39m pipelineGlove\u001B[38;5;241m.\u001B[39mfit(data1)\u001B[38;5;241m.\u001B[39mtransform(data1)\u001B[38;5;241m.\u001B[39mcache()\n",
       "\u001B[1;32m     14\u001B[0m resultGlove\u001B[38;5;241m.\u001B[39mselect(\u001B[38;5;124m\"\u001B[39m\u001B[38;5;124mfinished_embeddings_glove\u001B[39m\u001B[38;5;124m\"\u001B[39m)\u001B[38;5;241m.\u001B[39mshow(\u001B[38;5;241m5\u001B[39m, \u001B[38;5;241m200\u001B[39m)\n",
       "\n",
       "File \u001B[0;32m/databricks/python_shell/dbruntime/MLWorkloadsInstrumentation/_pyspark.py:30\u001B[0m, in \u001B[0;36m_create_patch_function.<locals>.patched_method\u001B[0;34m(self, *args, **kwargs)\u001B[0m\n",
       "\u001B[1;32m     28\u001B[0m call_succeeded \u001B[38;5;241m=\u001B[39m \u001B[38;5;28;01mFalse\u001B[39;00m\n",
       "\u001B[1;32m     29\u001B[0m \u001B[38;5;28;01mtry\u001B[39;00m:\n",
       "\u001B[0;32m---> 30\u001B[0m     result \u001B[38;5;241m=\u001B[39m \u001B[43moriginal_method\u001B[49m\u001B[43m(\u001B[49m\u001B[38;5;28;43mself\u001B[39;49m\u001B[43m,\u001B[49m\u001B[43m \u001B[49m\u001B[38;5;241;43m*\u001B[39;49m\u001B[43margs\u001B[49m\u001B[43m,\u001B[49m\u001B[43m \u001B[49m\u001B[38;5;241;43m*\u001B[39;49m\u001B[38;5;241;43m*\u001B[39;49m\u001B[43mkwargs\u001B[49m\u001B[43m)\u001B[49m\n",
       "\u001B[1;32m     31\u001B[0m     call_succeeded \u001B[38;5;241m=\u001B[39m \u001B[38;5;28;01mTrue\u001B[39;00m\n",
       "\u001B[1;32m     32\u001B[0m     \u001B[38;5;28;01mreturn\u001B[39;00m result\n",
       "\n",
       "File \u001B[0;32m/databricks/spark/python/pyspark/ml/base.py:205\u001B[0m, in \u001B[0;36mEstimator.fit\u001B[0;34m(self, dataset, params)\u001B[0m\n",
       "\u001B[1;32m    203\u001B[0m         \u001B[38;5;28;01mreturn\u001B[39;00m \u001B[38;5;28mself\u001B[39m\u001B[38;5;241m.\u001B[39mcopy(params)\u001B[38;5;241m.\u001B[39m_fit(dataset)\n",
       "\u001B[1;32m    204\u001B[0m     \u001B[38;5;28;01melse\u001B[39;00m:\n",
       "\u001B[0;32m--> 205\u001B[0m         \u001B[38;5;28;01mreturn\u001B[39;00m \u001B[38;5;28;43mself\u001B[39;49m\u001B[38;5;241;43m.\u001B[39;49m\u001B[43m_fit\u001B[49m\u001B[43m(\u001B[49m\u001B[43mdataset\u001B[49m\u001B[43m)\u001B[49m\n",
       "\u001B[1;32m    206\u001B[0m \u001B[38;5;28;01melse\u001B[39;00m:\n",
       "\u001B[1;32m    207\u001B[0m     \u001B[38;5;28;01mraise\u001B[39;00m \u001B[38;5;167;01mTypeError\u001B[39;00m(\n",
       "\u001B[1;32m    208\u001B[0m         \u001B[38;5;124m\"\u001B[39m\u001B[38;5;124mParams must be either a param map or a list/tuple of param maps, \u001B[39m\u001B[38;5;124m\"\u001B[39m\n",
       "\u001B[1;32m    209\u001B[0m         \u001B[38;5;124m\"\u001B[39m\u001B[38;5;124mbut got \u001B[39m\u001B[38;5;132;01m%s\u001B[39;00m\u001B[38;5;124m.\u001B[39m\u001B[38;5;124m\"\u001B[39m \u001B[38;5;241m%\u001B[39m \u001B[38;5;28mtype\u001B[39m(params)\n",
       "\u001B[1;32m    210\u001B[0m     )\n",
       "\n",
       "File \u001B[0;32m/databricks/spark/python/pyspark/ml/pipeline.py:122\u001B[0m, in \u001B[0;36mPipeline._fit\u001B[0;34m(self, dataset)\u001B[0m\n",
       "\u001B[1;32m    120\u001B[0m \u001B[38;5;28;01mfor\u001B[39;00m stage \u001B[38;5;129;01min\u001B[39;00m stages:\n",
       "\u001B[1;32m    121\u001B[0m     \u001B[38;5;28;01mif\u001B[39;00m \u001B[38;5;129;01mnot\u001B[39;00m (\u001B[38;5;28misinstance\u001B[39m(stage, Estimator) \u001B[38;5;129;01mor\u001B[39;00m \u001B[38;5;28misinstance\u001B[39m(stage, Transformer)):\n",
       "\u001B[0;32m--> 122\u001B[0m         \u001B[38;5;28;01mraise\u001B[39;00m \u001B[38;5;167;01mTypeError\u001B[39;00m(\u001B[38;5;124m\"\u001B[39m\u001B[38;5;124mCannot recognize a pipeline stage of type \u001B[39m\u001B[38;5;132;01m%s\u001B[39;00m\u001B[38;5;124m.\u001B[39m\u001B[38;5;124m\"\u001B[39m \u001B[38;5;241m%\u001B[39m \u001B[38;5;28mtype\u001B[39m(stage))\n",
       "\u001B[1;32m    123\u001B[0m indexOfLastEstimator \u001B[38;5;241m=\u001B[39m \u001B[38;5;241m-\u001B[39m\u001B[38;5;241m1\u001B[39m\n",
       "\u001B[1;32m    124\u001B[0m \u001B[38;5;28;01mfor\u001B[39;00m i, stage \u001B[38;5;129;01min\u001B[39;00m \u001B[38;5;28menumerate\u001B[39m(stages):\n",
       "\n",
       "\u001B[0;31mTypeError\u001B[0m: Cannot recognize a pipeline stage of type <class 'module'>."
      ]
     },
     "metadata": {
      "application/vnd.databricks.v1+output": {
       "arguments": {},
       "data": "\u001B[0;31m---------------------------------------------------------------------------\u001B[0m\n\u001B[0;31mTypeError\u001B[0m                                 Traceback (most recent call last)\nFile \u001B[0;32m<command-2923470060826260>:13\u001B[0m\n\u001B[1;32m      1\u001B[0m \u001B[38;5;28;01mfrom\u001B[39;00m \u001B[38;5;21;01mpyspark\u001B[39;00m\u001B[38;5;21;01m.\u001B[39;00m\u001B[38;5;21;01mml\u001B[39;00m \u001B[38;5;28;01mimport\u001B[39;00m Pipeline\n\u001B[1;32m      3\u001B[0m pipelineGlove \u001B[38;5;241m=\u001B[39m Pipeline() \\\n\u001B[1;32m      4\u001B[0m                       \u001B[38;5;241m.\u001B[39msetStages([ \\\n\u001B[1;32m      5\u001B[0m                          documentAssembler, \\\n\u001B[0;32m   (...)\u001B[0m\n\u001B[1;32m      9\u001B[0m                          embeddingsFinisher \\\n\u001B[1;32m     10\u001B[0m                       ])\n\u001B[0;32m---> 13\u001B[0m resultGlove \u001B[38;5;241m=\u001B[39m pipelineGlove\u001B[38;5;241m.\u001B[39mfit(data1)\u001B[38;5;241m.\u001B[39mtransform(data1)\u001B[38;5;241m.\u001B[39mcache()\n\u001B[1;32m     14\u001B[0m resultGlove\u001B[38;5;241m.\u001B[39mselect(\u001B[38;5;124m\"\u001B[39m\u001B[38;5;124mfinished_embeddings_glove\u001B[39m\u001B[38;5;124m\"\u001B[39m)\u001B[38;5;241m.\u001B[39mshow(\u001B[38;5;241m5\u001B[39m, \u001B[38;5;241m200\u001B[39m)\n\nFile \u001B[0;32m/databricks/python_shell/dbruntime/MLWorkloadsInstrumentation/_pyspark.py:30\u001B[0m, in \u001B[0;36m_create_patch_function.<locals>.patched_method\u001B[0;34m(self, *args, **kwargs)\u001B[0m\n\u001B[1;32m     28\u001B[0m call_succeeded \u001B[38;5;241m=\u001B[39m \u001B[38;5;28;01mFalse\u001B[39;00m\n\u001B[1;32m     29\u001B[0m \u001B[38;5;28;01mtry\u001B[39;00m:\n\u001B[0;32m---> 30\u001B[0m     result \u001B[38;5;241m=\u001B[39m \u001B[43moriginal_method\u001B[49m\u001B[43m(\u001B[49m\u001B[38;5;28;43mself\u001B[39;49m\u001B[43m,\u001B[49m\u001B[43m \u001B[49m\u001B[38;5;241;43m*\u001B[39;49m\u001B[43margs\u001B[49m\u001B[43m,\u001B[49m\u001B[43m \u001B[49m\u001B[38;5;241;43m*\u001B[39;49m\u001B[38;5;241;43m*\u001B[39;49m\u001B[43mkwargs\u001B[49m\u001B[43m)\u001B[49m\n\u001B[1;32m     31\u001B[0m     call_succeeded \u001B[38;5;241m=\u001B[39m \u001B[38;5;28;01mTrue\u001B[39;00m\n\u001B[1;32m     32\u001B[0m     \u001B[38;5;28;01mreturn\u001B[39;00m result\n\nFile \u001B[0;32m/databricks/spark/python/pyspark/ml/base.py:205\u001B[0m, in \u001B[0;36mEstimator.fit\u001B[0;34m(self, dataset, params)\u001B[0m\n\u001B[1;32m    203\u001B[0m         \u001B[38;5;28;01mreturn\u001B[39;00m \u001B[38;5;28mself\u001B[39m\u001B[38;5;241m.\u001B[39mcopy(params)\u001B[38;5;241m.\u001B[39m_fit(dataset)\n\u001B[1;32m    204\u001B[0m     \u001B[38;5;28;01melse\u001B[39;00m:\n\u001B[0;32m--> 205\u001B[0m         \u001B[38;5;28;01mreturn\u001B[39;00m \u001B[38;5;28;43mself\u001B[39;49m\u001B[38;5;241;43m.\u001B[39;49m\u001B[43m_fit\u001B[49m\u001B[43m(\u001B[49m\u001B[43mdataset\u001B[49m\u001B[43m)\u001B[49m\n\u001B[1;32m    206\u001B[0m \u001B[38;5;28;01melse\u001B[39;00m:\n\u001B[1;32m    207\u001B[0m     \u001B[38;5;28;01mraise\u001B[39;00m \u001B[38;5;167;01mTypeError\u001B[39;00m(\n\u001B[1;32m    208\u001B[0m         \u001B[38;5;124m\"\u001B[39m\u001B[38;5;124mParams must be either a param map or a list/tuple of param maps, \u001B[39m\u001B[38;5;124m\"\u001B[39m\n\u001B[1;32m    209\u001B[0m         \u001B[38;5;124m\"\u001B[39m\u001B[38;5;124mbut got \u001B[39m\u001B[38;5;132;01m%s\u001B[39;00m\u001B[38;5;124m.\u001B[39m\u001B[38;5;124m\"\u001B[39m \u001B[38;5;241m%\u001B[39m \u001B[38;5;28mtype\u001B[39m(params)\n\u001B[1;32m    210\u001B[0m     )\n\nFile \u001B[0;32m/databricks/spark/python/pyspark/ml/pipeline.py:122\u001B[0m, in \u001B[0;36mPipeline._fit\u001B[0;34m(self, dataset)\u001B[0m\n\u001B[1;32m    120\u001B[0m \u001B[38;5;28;01mfor\u001B[39;00m stage \u001B[38;5;129;01min\u001B[39;00m stages:\n\u001B[1;32m    121\u001B[0m     \u001B[38;5;28;01mif\u001B[39;00m \u001B[38;5;129;01mnot\u001B[39;00m (\u001B[38;5;28misinstance\u001B[39m(stage, Estimator) \u001B[38;5;129;01mor\u001B[39;00m \u001B[38;5;28misinstance\u001B[39m(stage, Transformer)):\n\u001B[0;32m--> 122\u001B[0m         \u001B[38;5;28;01mraise\u001B[39;00m \u001B[38;5;167;01mTypeError\u001B[39;00m(\u001B[38;5;124m\"\u001B[39m\u001B[38;5;124mCannot recognize a pipeline stage of type \u001B[39m\u001B[38;5;132;01m%s\u001B[39;00m\u001B[38;5;124m.\u001B[39m\u001B[38;5;124m\"\u001B[39m \u001B[38;5;241m%\u001B[39m \u001B[38;5;28mtype\u001B[39m(stage))\n\u001B[1;32m    123\u001B[0m indexOfLastEstimator \u001B[38;5;241m=\u001B[39m \u001B[38;5;241m-\u001B[39m\u001B[38;5;241m1\u001B[39m\n\u001B[1;32m    124\u001B[0m \u001B[38;5;28;01mfor\u001B[39;00m i, stage \u001B[38;5;129;01min\u001B[39;00m \u001B[38;5;28menumerate\u001B[39m(stages):\n\n\u001B[0;31mTypeError\u001B[0m: Cannot recognize a pipeline stage of type <class 'module'>.",
       "errorSummary": "<span class='ansi-red-fg'>TypeError</span>: Cannot recognize a pipeline stage of type <class 'module'>.",
       "errorTraceType": "ansi",
       "metadata": {},
       "type": "ipynbError"
      }
     },
     "output_type": "display_data"
    }
   ],
   "source": [
    "from pyspark.ml import Pipeline\n",
    "# a resoudre\n",
    "pipelineGlove = Pipeline() \\\n",
    "                      .setStages([ \\\n",
    "                         documentAssembler, \\\n",
    "                         tokenizer, \\\n",
    "                         embeddings, \\\n",
    "                         embeddingsSentence, \\\n",
    "                         embeddingsFinisher \\\n",
    "                      ])\n",
    "\n",
    "\n",
    "resultGlove = pipelineGlove.fit(data1).transform(data1).cache()\n",
    "resultGlove.select(\"finished_embeddings_glove\").show(5, 200)"
   ]
  },
  {
   "cell_type": "code",
   "execution_count": 0,
   "metadata": {
    "application/vnd.databricks.v1+cell": {
     "cellMetadata": {
      "byteLimit": 2048000,
      "rowLimit": 10000
     },
     "inputWidgets": {},
     "nuid": "1ea65fc3-eec5-40f7-b74d-3025c6e83e9d",
     "showTitle": false,
     "tableResultSettingsMap": {},
     "title": ""
    }
   },
   "outputs": [
    {
     "output_type": "stream",
     "name": "stdout",
     "output_type": "stream",
     "text": [
      "+---+-------------------------------------------------------------------------------------------------------------------------------------+-----+--------------------------------------------------------------------------------------------------------------------------------------------------------------------------------+--------------------------------------------------------------------------------------------------------------------------------------------------------------------------------------------------------+--------------------------------------------------------------------------------------------------------------------------------------------------------------------------------------------------------+--------------------------------------------------------------------------------------------------------------------------------------------------------------------------------------------------------+--------------------------------------------------------------------------------------------------------------------------------------------------------------------------------------------------------+\n| id|                                                                                                                                 text|label|                                                                                                                                                                        document|                                                                                                                                                                                                   token|                                                                                                                                                                                        glove_embeddings|                                                                                                                                                                               sentence_embeddings_glove|                                                                                                                                                                               finished_embeddings_glove|\n+---+-------------------------------------------------------------------------------------------------------------------------------------+-----+--------------------------------------------------------------------------------------------------------------------------------------------------------------------------------+--------------------------------------------------------------------------------------------------------------------------------------------------------------------------------------------------------+--------------------------------------------------------------------------------------------------------------------------------------------------------------------------------------------------------+--------------------------------------------------------------------------------------------------------------------------------------------------------------------------------------------------------+--------------------------------------------------------------------------------------------------------------------------------------------------------------------------------------------------------+\n|  1|                                                                Our Deeds are the Reason of this #earthquake May ALLAH Forgive us all|    1|                                                                 [{document, 0, 68, Our Deeds are the Reason of this #earthquake May ALLAH Forgive us all, {sentence -> 0}, []}]|[{token, 0, 2, Our, {sentence -> 0}, []}, {token, 4, 8, Deeds, {sentence -> 0}, []}, {token, 10, 12, are, {sentence -> 0}, []}, {token, 14, 16, the, {sentence -> 0}, []}, {token, 18, 23, Reason, {s...|[{word_embeddings, 0, 2, Our, {isOOV -> false, pieceId -> -1, isWordStart -> true, token -> Our, sentence -> 0}, [-0.025179, 0.07837, -0.17637, -0.12285, -0.13156, 0.26591, -0.60064, 0.46653, 0.042...|[{sentence_embeddings, 0, 68, Our Deeds are the Reason of this #earthquake May ALLAH Forgive us all, {sentence -> 0, token -> Our Deeds are the Reason of this #earthquake May ALLAH Forgive us all, ...|[[-0.06928376853466034,-0.01271053310483694,0.00862519908696413,-0.25277167558670044,-0.12423738092184067,0.07902661710977554,-0.07260183990001678,0.152671679854393,0.07146238535642624,-1.411920666...|\n|  2|                                                                                               Forest fire near La Ronge Sask. Canada|    1|                                                                                                [{document, 0, 37, Forest fire near La Ronge Sask. Canada, {sentence -> 0}, []}]|[{token, 0, 5, Forest, {sentence -> 0}, []}, {token, 7, 10, fire, {sentence -> 0}, []}, {token, 12, 15, near, {sentence -> 0}, []}, {token, 17, 18, La, {sentence -> 0}, []}, {token, 20, 24, Ronge, ...|[{word_embeddings, 0, 5, Forest, {isOOV -> false, pieceId -> -1, isWordStart -> true, token -> Forest, sentence -> 0}, [-0.45533, 0.14615, -0.028433, 0.4449, 0.22859, -0.15682, 0.37571, 0.76405, 0....|[{sentence_embeddings, 0, 37, Forest fire near La Ronge Sask. Canada, {sentence -> 0, token -> Forest fire near La Ronge Sask. Canada, pieceId -> -1, isWordStart -> true}, [-0.058997486, 0.05460162...|[[-0.05899748578667641,0.054601624608039856,-0.1071816235780716,-0.11128462851047516,-0.03310374915599823,-0.08629648387432098,-0.10258549451828003,0.19005662202835083,-0.09497736394405365,-0.70107...|\n|  3|All residents asked to 'shelter in place' are being notified by officers. No other evacuation or shelter in place orders are expected|    1|[{document, 0, 132, All residents asked to 'shelter in place' are being notified by officers. No other evacuation or shelter in place orders are expected, {sentence -> 0}, []}]|[{token, 0, 2, All, {sentence -> 0}, []}, {token, 4, 12, residents, {sentence -> 0}, []}, {token, 14, 18, asked, {sentence -> 0}, []}, {token, 20, 21, to, {sentence -> 0}, []}, {token, 23, 23, ', {...|[{word_embeddings, 0, 2, All, {isOOV -> false, pieceId -> -1, isWordStart -> true, token -> All, sentence -> 0}, [-0.069921, 0.18417, 0.21716, -0.44034, -0.21262, 0.34661, -0.24908, -0.015273, 0.10...|[{sentence_embeddings, 0, 132, All residents asked to 'shelter in place' are being notified by officers. No other evacuation or shelter in place orders are expected, {sentence -> 0, token -> All re...|[[-0.13235606253147125,0.06125080958008766,-0.03614479675889015,-0.15638867020606995,-0.1266949474811554,0.07843363285064697,0.07999947667121887,0.17469343543052673,-0.03278797119855881,-1.43478679...|\n|  4|                                                                    13,000 people receive #wildfires evacuation orders in California |    1|                                                                     [{document, 0, 64, 13,000 people receive #wildfires evacuation orders in California , {sentence -> 0}, []}]|[{token, 0, 5, 13,000, {sentence -> 0}, []}, {token, 7, 12, people, {sentence -> 0}, []}, {token, 14, 20, receive, {sentence -> 0}, []}, {token, 22, 31, #wildfires, {sentence -> 0}, []}, {token, 33...|[{word_embeddings, 0, 5, 13,000, {isOOV -> false, pieceId -> -1, isWordStart -> true, token -> 13,000, sentence -> 0}, [-0.091704, 0.47105, 0.44867, 0.41515, -0.075563, -0.083963, 0.40406, 0.11043,...|[{sentence_embeddings, 0, 64, 13,000 people receive #wildfires evacuation orders in California , {sentence -> 0, token -> 13,000 people receive #wildfires evacuation orders in California , pieceId ...|[[-0.16983948647975922,0.034789495170116425,-2.562478184700012E-4,-0.0336466021835804,-0.18170824646949768,0.05963900685310364,0.10411250591278076,0.04244575276970863,-0.08185386657714844,-0.998736...|\n|  5|                                             Just got sent this photo from Ruby #Alaska as smoke from #wildfires pours into a school |    1|                                              [{document, 0, 87, Just got sent this photo from Ruby #Alaska as smoke from #wildfires pours into a school , {sentence -> 0}, []}]|[{token, 0, 3, Just, {sentence -> 0}, []}, {token, 5, 7, got, {sentence -> 0}, []}, {token, 9, 12, sent, {sentence -> 0}, []}, {token, 14, 17, this, {sentence -> 0}, []}, {token, 19, 23, photo, {se...|[{word_embeddings, 0, 3, Just, {isOOV -> false, pieceId -> -1, isWordStart -> true, token -> Just, sentence -> 0}, [-0.24005, 0.15426, -0.17838, 0.20981, -0.066943, 0.13387, -0.2579, -0.27093, 0.29...|[{sentence_embeddings, 0, 87, Just got sent this photo from Ruby #Alaska as smoke from #wildfires pours into a school , {sentence -> 0, token -> Just got sent this photo from Ruby #Alaska as smoke ...|[[-0.22194337844848633,-0.03530037775635719,0.007327498868107796,-0.07282354682683945,-0.11924143880605698,0.09478850662708282,-0.08547478169202805,-0.07128225266933441,0.199027419090271,-1.1092586...|\n+---+-------------------------------------------------------------------------------------------------------------------------------------+-----+--------------------------------------------------------------------------------------------------------------------------------------------------------------------------------+--------------------------------------------------------------------------------------------------------------------------------------------------------------------------------------------------------+--------------------------------------------------------------------------------------------------------------------------------------------------------------------------------------------------------+--------------------------------------------------------------------------------------------------------------------------------------------------------------------------------------------------------+--------------------------------------------------------------------------------------------------------------------------------------------------------------------------------------------------------+\nonly showing top 5 rows\n\n"
     ]
    }
   ],
   "source": [
    "resultGlove= embeddingsFinisher.transform(sentencesEch)\n",
    "resultGlove.show(5,200)"
   ]
  },
  {
   "cell_type": "code",
   "execution_count": 0,
   "metadata": {
    "application/vnd.databricks.v1+cell": {
     "cellMetadata": {
      "byteLimit": 2048000,
      "rowLimit": 10000
     },
     "inputWidgets": {},
     "nuid": "2c2ce518-328c-4a92-8332-871326960326",
     "showTitle": false,
     "tableResultSettingsMap": {},
     "title": ""
    }
   },
   "outputs": [
    {
     "output_type": "stream",
     "name": "stdout",
     "output_type": "stream",
     "text": [
      "Out[41]: 1357"
     ]
    }
   ],
   "source": [
    "allEmbeddings = resultGlove.selectExpr(\"finished_embeddings_glove[0]\", \"label\")\n",
    "partitions = allEmbeddings.randomSplit([0.18, 0.82], seed=2)\n",
    "apprentissage = partitions[1]\n",
    "validation = partitions[0]\n",
    "validation.count()\n",
    "\n",
    "\n",
    "\n"
   ]
  },
  {
   "cell_type": "code",
   "execution_count": 0,
   "metadata": {
    "application/vnd.databricks.v1+cell": {
     "cellMetadata": {
      "byteLimit": 2048000,
      "rowLimit": 10000
     },
     "inputWidgets": {},
     "nuid": "5f099b9b-5ad4-4205-beb4-ee63b45b6378",
     "showTitle": false,
     "tableResultSettingsMap": {},
     "title": ""
    }
   },
   "outputs": [],
   "source": [
    "from pyspark.ml.classification import LinearSVC\n",
    "\n",
    "\n",
    "linSvcGlove = LinearSVC().setMaxIter(16) \\\n",
    "                         .setFeaturesCol(\"finished_embeddings_glove[0]\") \\\n",
    "                         .setLabelCol(\"label\")\n",
    "\n",
    "\n",
    "pipelineSvcGlove = Pipeline().setStages([linSvcGlove])"
   ]
  },
  {
   "cell_type": "code",
   "execution_count": 0,
   "metadata": {
    "application/vnd.databricks.v1+cell": {
     "cellMetadata": {
      "byteLimit": 2048000,
      "rowLimit": 10000
     },
     "inputWidgets": {},
     "nuid": "54c6a80c-eedc-4bb5-bdc5-812a0c1679e7",
     "showTitle": false,
     "tableResultSettingsMap": {},
     "title": ""
    }
   },
   "outputs": [],
   "source": [
    "from pyspark.ml.tuning import CrossValidator, ParamGridBuilder\n",
    "from pyspark.ml.evaluation import BinaryClassificationEvaluator\n",
    "\n",
    "# Construction de la grille de (hyper)paramètres utilisée pour grid search\n",
    "# Une composante est ajoutée avec .addGrid() pour chaque (hyper)paramètre à explorer\n",
    "paramGrid = ParamGridBuilder().addGrid(linSvcGlove.regParam, \\\n",
    "                                 [0.02, 0.1, 0.2, 0.5]) \\\n",
    "                              .build()\n",
    "\n",
    "# Définition de l'instance de CrossValidator : à quel estimateur l'appliquer,\n",
    "#  avec quels (hyper)paramètres, combien de folds, comment évaluer les résultats\n",
    "cvSvcGlove = CrossValidator().setEstimator(pipelineSvcGlove) \\\n",
    "                             .setEstimatorParamMaps(paramGrid) \\\n",
    "                             .setNumFolds(5) \\\n",
    "                             .setEvaluator(BinaryClassificationEvaluator())"
   ]
  },
  {
   "cell_type": "code",
   "execution_count": 0,
   "metadata": {
    "application/vnd.databricks.v1+cell": {
     "cellMetadata": {
      "byteLimit": 2048000,
      "rowLimit": 10000
     },
     "inputWidgets": {},
     "nuid": "1d4bbcb1-1e8c-4942-8589-51f29e3452e4",
     "showTitle": false,
     "tableResultSettingsMap": {},
     "title": ""
    }
   },
   "outputs": [],
   "source": [
    "model = cvSvcGlove.fit(apprentissage)"
   ]
  },
  {
   "cell_type": "code",
   "execution_count": 0,
   "metadata": {
    "application/vnd.databricks.v1+cell": {
     "cellMetadata": {
      "byteLimit": 2048000,
      "rowLimit": 10000
     },
     "inputWidgets": {},
     "nuid": "0f0ff1ac-227c-4925-b90f-8146a487c0de",
     "showTitle": false,
     "tableResultSettingsMap": {},
     "title": ""
    }
   },
   "outputs": [
    {
     "output_type": "stream",
     "name": "stdout",
     "output_type": "stream",
     "text": [
      "AUC sur train :  0.8630520513972976\nAUC sur test :  0.8442229240689562\n"
     ]
    }
   ],
   "source": [
    "resultatsAppSvcGlove = model.transform(apprentissage)\n",
    "\n",
    "# Calculer les prédictions sur les données de test\n",
    "resultatsSvcGlove = model.transform(validation)\n",
    "\n",
    "print(\"AUC sur train : \", model.getEvaluator().evaluate(resultatsAppSvcGlove))\n",
    "\n",
    "# Calculer AUC sur données de test\n",
    "print(\"AUC sur test : \", model.getEvaluator().evaluate(resultatsSvcGlove))\n"
   ]
  },
  {
   "cell_type": "code",
   "execution_count": 0,
   "metadata": {
    "application/vnd.databricks.v1+cell": {
     "cellMetadata": {
      "byteLimit": 2048000,
      "rowLimit": 10000
     },
     "inputWidgets": {},
     "nuid": "d7a34b4d-73cf-4b28-8ae0-e076753fc183",
     "showTitle": false,
     "tableResultSettingsMap": {},
     "title": ""
    }
   },
   "outputs": [
    {
     "output_type": "stream",
     "name": "stdout",
     "output_type": "stream",
     "text": [
      "+----------------------------+-----+--------------------+----------+\n|finished_embeddings_glove[0]|label|       rawPrediction|prediction|\n+----------------------------+-----+--------------------+----------+\n|        [-0.3331745266914...|    0|[-0.8877235609714...|       1.0|\n|        [-0.3149965703487...|    0|[2.30742990800831...|       0.0|\n|        [-0.3086630105972...|    0|[0.00427882212972...|       0.0|\n|        [-0.3021473884582...|    1|[-0.7166524941273...|       1.0|\n|        [-0.2922784388065...|    1|[0.07905465110677...|       0.0|\n|        [-0.2841050028800...|    0|[0.05425427758152...|       0.0|\n|        [-0.2762698531150...|    0|[-0.0349292310316...|       1.0|\n|        [-0.2677660882472...|    1|[-0.2407974285552...|       1.0|\n|        [-0.2614449858665...|    0|[0.05953938210601...|       0.0|\n|        [-0.2526280879974...|    1|[-2.8094345281121...|       1.0|\n|        [-0.2490787357091...|    1|[0.56848275929580...|       0.0|\n|        [-0.2441351711750...|    0|[0.86484751375860...|       0.0|\n|        [-0.2434645146131...|    1|[-0.8714507657989...|       1.0|\n|        [-0.2432280033826...|    0|[0.25996132066052...|       0.0|\n|        [-0.2410578429698...|    0|[-0.2920689266550...|       1.0|\n|        [-0.2385333925485...|    1|[0.91602666456464...|       0.0|\n|        [-0.2371916323900...|    1|[-1.4750953960832...|       1.0|\n|        [-0.2368942648172...|    1|[-2.9545885178562...|       1.0|\n|        [-0.2356073856353...|    0|[1.56989436702118...|       0.0|\n|        [-0.2355714142322...|    0|[0.85889700845478...|       0.0|\n+----------------------------+-----+--------------------+----------+\nonly showing top 20 rows\n\n"
     ]
    }
   ],
   "source": [
    "resultatsSvcGlove.show()"
   ]
  },
  {
   "cell_type": "code",
   "execution_count": 0,
   "metadata": {
    "application/vnd.databricks.v1+cell": {
     "cellMetadata": {
      "byteLimit": 2048000,
      "rowLimit": 10000
     },
     "inputWidgets": {},
     "nuid": "04dea1ad-adf6-4b53-8102-f07a590eea3c",
     "showTitle": false,
     "tableResultSettingsMap": {},
     "title": ""
    }
   },
   "outputs": [
    {
     "output_type": "stream",
     "name": "stdout",
     "output_type": "stream",
     "text": [
      "Précision : 0.816\nRappel : 0.654\nF1-Score : 0.726\n"
     ]
    }
   ],
   "source": [
    "\n",
    "# Calculer les vrais positifs, faux positifs, faux négatifs, et vrais négatifs\n",
    "tp = resultatsSvcGlove.filter((F.col(\"prediction\") == 1.0) & (F.col(\"label\") == 1)).count()\n",
    "fp = resultatsSvcGlove.filter((F.col(\"prediction\") == 1.0) & (F.col(\"label\") == 0)).count()\n",
    "fn = resultatsSvcGlove.filter((F.col(\"prediction\") == 0.0) & (F.col(\"label\") == 1)).count()\n",
    "tn = resultatsSvcGlove.filter((F.col(\"prediction\") == 0.0) & (F.col(\"label\") == 0)).count()\n",
    "\n",
    "# Fonction pour calculer la F1-Score\n",
    "def calculate_f1_score(tp, fp, fn):\n",
    "    # Calcul de la précision\n",
    "    precision = tp / (tp + fp) if (tp + fp) > 0 else 0\n",
    "    \n",
    "    # Calcul du rappel\n",
    "    recall = tp / (tp + fn) if (tp + fn) > 0 else 0\n",
    "    \n",
    "    # Calcul de la F1-Score\n",
    "    f1_score = 2 * (precision * recall) / (precision + recall) if (precision + recall) > 0 else 0\n",
    "    \n",
    "    return f1_score, precision, recall\n",
    "\n",
    "# Calculer et afficher les résultats\n",
    "f1, precision, recall = calculate_f1_score(tp, fp, fn)\n",
    "print(f\"Précision : {precision:.3f}\")\n",
    "print(f\"Rappel : {recall:.3f}\")\n",
    "print(f\"F1-Score : {f1:.3f}\")\n"
   ]
  },
  {
   "cell_type": "code",
   "execution_count": 0,
   "metadata": {
    "application/vnd.databricks.v1+cell": {
     "cellMetadata": {
      "byteLimit": 2048000,
      "rowLimit": 10000
     },
     "inputWidgets": {},
     "nuid": "6ac7800c-4437-41d2-90e2-2053b2df4bc5",
     "showTitle": false,
     "tableResultSettingsMap": {},
     "title": ""
    }
   },
   "outputs": [],
   "source": [
    "test = spark.read.format(\"csv\").option(\"header\", True) \\\n",
    "                     .load(\"/FileStore/tables/test.csv\")\n",
    "\n",
    "                    "
   ]
  },
  {
   "cell_type": "code",
   "execution_count": 0,
   "metadata": {
    "application/vnd.databricks.v1+cell": {
     "cellMetadata": {
      "byteLimit": 2048000,
      "rowLimit": 10000
     },
     "inputWidgets": {},
     "nuid": "a13bc39a-30af-4295-8b9b-b6d387d4722d",
     "showTitle": false,
     "tableResultSettingsMap": {},
     "title": ""
    }
   },
   "outputs": [
    {
     "output_type": "stream",
     "name": "stdout",
     "output_type": "stream",
     "text": [
      "+---+-------------------+--------------------+--------------------+\n| id|            keyword|            location|                text|\n+---+-------------------+--------------------+--------------------+\n|  0|               null|                null|Just happened a t...|\n|  2|               null|                null|Heard about #eart...|\n|  3|               null|                null|there is a forest...|\n|  9|               null|                null|Apocalypse lighti...|\n| 11|               null|                null|Typhoon Soudelor ...|\n| 12|               null|                null|We're shaking...I...|\n| 21|               null|                null|They'd probably s...|\n| 22|               null|                null|   Hey! How are you?|\n| 27|               null|                null|    What a nice hat?|\n| 29|               null|                null|           Fuck off!|\n| 30|               null|                null|No I don't like c...|\n| 35|               null|                null|NOOOOOOOOO! Don't...|\n| 42|               null|                null|No don't tell me ...|\n| 43|               null|                null|           What if?!|\n| 45|               null|                null|            Awesome!|\n| 46|             ablaze|              London|Birmingham Wholes...|\n| 47|             ablaze|Niall's place | S...|@sunkxssedharry w...|\n| 51|             ablaze|             NIGERIA|#PreviouslyOnDoyi...|\n| 58|             ablaze|      Live On Webcam|Check these out: ...|\n| 60|             ablaze|Los Angeles, Cali...|PSA: IÛªm splitt...|\n| 69|             ablaze|      threeonefive. |beware world abla...|\n| 70|             ablaze|    Washington State|Burning Man Ablaz...|\n| 72|             ablaze|  Whoop Ass, Georgia|Not a diss song. ...|\n| 75|             ablaze|               India|Rape victim dies ...|\n| 84|             ablaze|                null|SETTING MYSELF AB...|\n| 87|             ablaze|scarborough, ontario|@CTVToronto the b...|\n| 88|             ablaze|                null|#nowplaying Alfon...|\n| 90|             ablaze|121 N La Salle St...|'Burning Rahm': L...|\n| 94|             ablaze|           Wandering|@PhilippaEilhart ...|\n| 99|           accident|        Homewood, PA|Accident cleared ...|\n|101|           accident|                null|Just got to love ...|\n|103|           accident|                null|I hate badging sh...|\n|106|           accident|                 USA|#3: Car Recorder ...|\n|108|           accident|       Massachusetts|Coincidence Or #C...|\n|111|           accident|             Bexhill|@Traffic_SouthE @...|\n|115|           accident|         Anime World|@sakuma_en If you...|\n|116|           accident|                null|For Legal and Med...|\n|122|           accident|  Cowtown, Caliii !!|There's a constru...|\n|123|           accident|                null|@RobynJilllian @W...|\n|124|           accident|   All Motorways, UK|On the #M42 north...|\n|125|           accident|  Frankfurt, Germany|@DaveOshry @Soemb...|\n|127|           accident|         Gresham, OR|ACCIDENT - HIT AN...|\n|140|           accident|                null|@Calum5SOS this h...|\n|142|           accident|          Las Vegas |Please donate and...|\n|147|         aftershock|         Midland, Mi|Please like and s...|\n|148|         aftershock|SÌ£o Vicente, SÌ£...|@bxckylynch foi n...|\n|150|         aftershock|  Vault 101, Fallout|Schoolboy ÛÒ Aft...|\n|152|         aftershock|         Switzerland|320 [IR] ICEMOON ...|\n|154|         aftershock|          California|'When the aftersh...|\n|155|         aftershock|              Europe|320 [IR] ICEMOON ...|\n|166|         aftershock|                 304|Stop saying 'I Wi...|\n|167|         aftershock|           Davis, CA|I want to go to A...|\n|169|         aftershock|         Detroit, MI|'We are still liv...|\n|177|         aftershock|         Switzerland|320 [IR] ICEMOON ...|\n|179|         aftershock|                null|Aftershock https:...|\n|181|         aftershock|                 304|'There is no vict...|\n|186|         aftershock|      United Kingdom|Bo2 had by far th...|\n|188|         aftershock|     London, England|Brass and Copper ...|\n|189|         aftershock|In your hearts an...|@JadeForMKX You s...|\n|192|         aftershock|             Runcorn|Aftershock https:...|\n|200|airplane%20accident|    Lake Charles, LA|When carelessness...|\n|202|airplane%20accident|     California, USA|@rewind_music fou...|\n|206|airplane%20accident|                null|A girl who died i...|\n|207|airplane%20accident|                null|@Mintechan Hihow ...|\n|214|airplane%20accident|   Eagle Pass, Texas|Mexican airplane ...|\n|217|airplane%20accident|                null|Horrible Accident...|\n|223|airplane%20accident|    inland empire ca|@god if an accide...|\n|224|airplane%20accident|              Muscat|Horrible Accident...|\n|227|airplane%20accident|                null|#UPDATE: Picture ...|\n|228|airplane%20accident|            New York|See how a judge r...|\n+---+-------------------+--------------------+--------------------+\nonly showing top 70 rows\n\n"
     ]
    }
   ],
   "source": [
    "def drop_null_id(df):\n",
    "    df = df.filter(F.col(\"id\").isNotNull())\n",
    "    return df\n",
    "\n",
    "\n",
    "def tri_test(df):\n",
    "    df = replace_text(df)  # remplace le text null, si il existe dans une des autres colonnes\n",
    "    df = replace_location(df)  #supprime le contenue de location si il y'à au moin un \"?\"\n",
    "    df = drop_null_text(df)   # supprime le text devenue nulle , si le target était à l'intérieur\n",
    "    df = drop_null_id(df)\n",
    "    return df\n",
    "    \n",
    "test = tri_test(test)\n",
    "test.show(70)"
   ]
  },
  {
   "cell_type": "code",
   "execution_count": 0,
   "metadata": {
    "application/vnd.databricks.v1+cell": {
     "cellMetadata": {
      "byteLimit": 2048000,
      "rowLimit": 10000
     },
     "inputWidgets": {},
     "nuid": "dac5962e-3109-4a6a-b2c8-c760a5245d49",
     "showTitle": false,
     "tableResultSettingsMap": {},
     "title": ""
    }
   },
   "outputs": [
    {
     "output_type": "stream",
     "name": "stdout",
     "output_type": "stream",
     "text": [
      "Out[53]: 3261"
     ]
    }
   ],
   "source": [
    "test.count()"
   ]
  },
  {
   "cell_type": "code",
   "execution_count": 0,
   "metadata": {
    "application/vnd.databricks.v1+cell": {
     "cellMetadata": {
      "byteLimit": 2048000,
      "rowLimit": 10000
     },
     "inputWidgets": {},
     "nuid": "e0427854-ee6b-43ae-b5ae-90fa8b9662ed",
     "showTitle": false,
     "tableResultSettingsMap": {},
     "title": ""
    }
   },
   "outputs": [
    {
     "output_type": "display_data",
     "data": {
      "text/plain": [
       "\u001B[0;31m---------------------------------------------------------------------------\u001B[0m\n",
       "\u001B[0;31mTypeError\u001B[0m                                 Traceback (most recent call last)\n",
       "File \u001B[0;32m<command-2886060993527536>:1\u001B[0m\n",
       "\u001B[0;32m----> 1\u001B[0m resultGloveTest \u001B[38;5;241m=\u001B[39m pipelineGlove\u001B[38;5;241m.\u001B[39mfit(test)\u001B[38;5;241m.\u001B[39mtransform(test)\u001B[38;5;241m.\u001B[39mcache()\n",
       "\u001B[1;32m      2\u001B[0m resultGloveTest\u001B[38;5;241m.\u001B[39mselect(\u001B[38;5;124m\"\u001B[39m\u001B[38;5;124mfinished_embeddings_bert\u001B[39m\u001B[38;5;124m\"\u001B[39m)\u001B[38;5;241m.\u001B[39mshow(\u001B[38;5;241m5\u001B[39m, \u001B[38;5;241m200\u001B[39m)\n",
       "\n",
       "File \u001B[0;32m/databricks/python_shell/dbruntime/MLWorkloadsInstrumentation/_pyspark.py:30\u001B[0m, in \u001B[0;36m_create_patch_function.<locals>.patched_method\u001B[0;34m(self, *args, **kwargs)\u001B[0m\n",
       "\u001B[1;32m     28\u001B[0m call_succeeded \u001B[38;5;241m=\u001B[39m \u001B[38;5;28;01mFalse\u001B[39;00m\n",
       "\u001B[1;32m     29\u001B[0m \u001B[38;5;28;01mtry\u001B[39;00m:\n",
       "\u001B[0;32m---> 30\u001B[0m     result \u001B[38;5;241m=\u001B[39m \u001B[43moriginal_method\u001B[49m\u001B[43m(\u001B[49m\u001B[38;5;28;43mself\u001B[39;49m\u001B[43m,\u001B[49m\u001B[43m \u001B[49m\u001B[38;5;241;43m*\u001B[39;49m\u001B[43margs\u001B[49m\u001B[43m,\u001B[49m\u001B[43m \u001B[49m\u001B[38;5;241;43m*\u001B[39;49m\u001B[38;5;241;43m*\u001B[39;49m\u001B[43mkwargs\u001B[49m\u001B[43m)\u001B[49m\n",
       "\u001B[1;32m     31\u001B[0m     call_succeeded \u001B[38;5;241m=\u001B[39m \u001B[38;5;28;01mTrue\u001B[39;00m\n",
       "\u001B[1;32m     32\u001B[0m     \u001B[38;5;28;01mreturn\u001B[39;00m result\n",
       "\n",
       "File \u001B[0;32m/databricks/spark/python/pyspark/ml/base.py:205\u001B[0m, in \u001B[0;36mEstimator.fit\u001B[0;34m(self, dataset, params)\u001B[0m\n",
       "\u001B[1;32m    203\u001B[0m         \u001B[38;5;28;01mreturn\u001B[39;00m \u001B[38;5;28mself\u001B[39m\u001B[38;5;241m.\u001B[39mcopy(params)\u001B[38;5;241m.\u001B[39m_fit(dataset)\n",
       "\u001B[1;32m    204\u001B[0m     \u001B[38;5;28;01melse\u001B[39;00m:\n",
       "\u001B[0;32m--> 205\u001B[0m         \u001B[38;5;28;01mreturn\u001B[39;00m \u001B[38;5;28;43mself\u001B[39;49m\u001B[38;5;241;43m.\u001B[39;49m\u001B[43m_fit\u001B[49m\u001B[43m(\u001B[49m\u001B[43mdataset\u001B[49m\u001B[43m)\u001B[49m\n",
       "\u001B[1;32m    206\u001B[0m \u001B[38;5;28;01melse\u001B[39;00m:\n",
       "\u001B[1;32m    207\u001B[0m     \u001B[38;5;28;01mraise\u001B[39;00m \u001B[38;5;167;01mTypeError\u001B[39;00m(\n",
       "\u001B[1;32m    208\u001B[0m         \u001B[38;5;124m\"\u001B[39m\u001B[38;5;124mParams must be either a param map or a list/tuple of param maps, \u001B[39m\u001B[38;5;124m\"\u001B[39m\n",
       "\u001B[1;32m    209\u001B[0m         \u001B[38;5;124m\"\u001B[39m\u001B[38;5;124mbut got \u001B[39m\u001B[38;5;132;01m%s\u001B[39;00m\u001B[38;5;124m.\u001B[39m\u001B[38;5;124m\"\u001B[39m \u001B[38;5;241m%\u001B[39m \u001B[38;5;28mtype\u001B[39m(params)\n",
       "\u001B[1;32m    210\u001B[0m     )\n",
       "\n",
       "File \u001B[0;32m/databricks/spark/python/pyspark/ml/pipeline.py:122\u001B[0m, in \u001B[0;36mPipeline._fit\u001B[0;34m(self, dataset)\u001B[0m\n",
       "\u001B[1;32m    120\u001B[0m \u001B[38;5;28;01mfor\u001B[39;00m stage \u001B[38;5;129;01min\u001B[39;00m stages:\n",
       "\u001B[1;32m    121\u001B[0m     \u001B[38;5;28;01mif\u001B[39;00m \u001B[38;5;129;01mnot\u001B[39;00m (\u001B[38;5;28misinstance\u001B[39m(stage, Estimator) \u001B[38;5;129;01mor\u001B[39;00m \u001B[38;5;28misinstance\u001B[39m(stage, Transformer)):\n",
       "\u001B[0;32m--> 122\u001B[0m         \u001B[38;5;28;01mraise\u001B[39;00m \u001B[38;5;167;01mTypeError\u001B[39;00m(\u001B[38;5;124m\"\u001B[39m\u001B[38;5;124mCannot recognize a pipeline stage of type \u001B[39m\u001B[38;5;132;01m%s\u001B[39;00m\u001B[38;5;124m.\u001B[39m\u001B[38;5;124m\"\u001B[39m \u001B[38;5;241m%\u001B[39m \u001B[38;5;28mtype\u001B[39m(stage))\n",
       "\u001B[1;32m    123\u001B[0m indexOfLastEstimator \u001B[38;5;241m=\u001B[39m \u001B[38;5;241m-\u001B[39m\u001B[38;5;241m1\u001B[39m\n",
       "\u001B[1;32m    124\u001B[0m \u001B[38;5;28;01mfor\u001B[39;00m i, stage \u001B[38;5;129;01min\u001B[39;00m \u001B[38;5;28menumerate\u001B[39m(stages):\n",
       "\n",
       "\u001B[0;31mTypeError\u001B[0m: Cannot recognize a pipeline stage of type <class 'module'>."
      ]
     },
     "metadata": {
      "application/vnd.databricks.v1+output": {
       "arguments": {},
       "data": "\u001B[0;31m---------------------------------------------------------------------------\u001B[0m\n\u001B[0;31mTypeError\u001B[0m                                 Traceback (most recent call last)\nFile \u001B[0;32m<command-2886060993527536>:1\u001B[0m\n\u001B[0;32m----> 1\u001B[0m resultGloveTest \u001B[38;5;241m=\u001B[39m pipelineGlove\u001B[38;5;241m.\u001B[39mfit(test)\u001B[38;5;241m.\u001B[39mtransform(test)\u001B[38;5;241m.\u001B[39mcache()\n\u001B[1;32m      2\u001B[0m resultGloveTest\u001B[38;5;241m.\u001B[39mselect(\u001B[38;5;124m\"\u001B[39m\u001B[38;5;124mfinished_embeddings_bert\u001B[39m\u001B[38;5;124m\"\u001B[39m)\u001B[38;5;241m.\u001B[39mshow(\u001B[38;5;241m5\u001B[39m, \u001B[38;5;241m200\u001B[39m)\n\nFile \u001B[0;32m/databricks/python_shell/dbruntime/MLWorkloadsInstrumentation/_pyspark.py:30\u001B[0m, in \u001B[0;36m_create_patch_function.<locals>.patched_method\u001B[0;34m(self, *args, **kwargs)\u001B[0m\n\u001B[1;32m     28\u001B[0m call_succeeded \u001B[38;5;241m=\u001B[39m \u001B[38;5;28;01mFalse\u001B[39;00m\n\u001B[1;32m     29\u001B[0m \u001B[38;5;28;01mtry\u001B[39;00m:\n\u001B[0;32m---> 30\u001B[0m     result \u001B[38;5;241m=\u001B[39m \u001B[43moriginal_method\u001B[49m\u001B[43m(\u001B[49m\u001B[38;5;28;43mself\u001B[39;49m\u001B[43m,\u001B[49m\u001B[43m \u001B[49m\u001B[38;5;241;43m*\u001B[39;49m\u001B[43margs\u001B[49m\u001B[43m,\u001B[49m\u001B[43m \u001B[49m\u001B[38;5;241;43m*\u001B[39;49m\u001B[38;5;241;43m*\u001B[39;49m\u001B[43mkwargs\u001B[49m\u001B[43m)\u001B[49m\n\u001B[1;32m     31\u001B[0m     call_succeeded \u001B[38;5;241m=\u001B[39m \u001B[38;5;28;01mTrue\u001B[39;00m\n\u001B[1;32m     32\u001B[0m     \u001B[38;5;28;01mreturn\u001B[39;00m result\n\nFile \u001B[0;32m/databricks/spark/python/pyspark/ml/base.py:205\u001B[0m, in \u001B[0;36mEstimator.fit\u001B[0;34m(self, dataset, params)\u001B[0m\n\u001B[1;32m    203\u001B[0m         \u001B[38;5;28;01mreturn\u001B[39;00m \u001B[38;5;28mself\u001B[39m\u001B[38;5;241m.\u001B[39mcopy(params)\u001B[38;5;241m.\u001B[39m_fit(dataset)\n\u001B[1;32m    204\u001B[0m     \u001B[38;5;28;01melse\u001B[39;00m:\n\u001B[0;32m--> 205\u001B[0m         \u001B[38;5;28;01mreturn\u001B[39;00m \u001B[38;5;28;43mself\u001B[39;49m\u001B[38;5;241;43m.\u001B[39;49m\u001B[43m_fit\u001B[49m\u001B[43m(\u001B[49m\u001B[43mdataset\u001B[49m\u001B[43m)\u001B[49m\n\u001B[1;32m    206\u001B[0m \u001B[38;5;28;01melse\u001B[39;00m:\n\u001B[1;32m    207\u001B[0m     \u001B[38;5;28;01mraise\u001B[39;00m \u001B[38;5;167;01mTypeError\u001B[39;00m(\n\u001B[1;32m    208\u001B[0m         \u001B[38;5;124m\"\u001B[39m\u001B[38;5;124mParams must be either a param map or a list/tuple of param maps, \u001B[39m\u001B[38;5;124m\"\u001B[39m\n\u001B[1;32m    209\u001B[0m         \u001B[38;5;124m\"\u001B[39m\u001B[38;5;124mbut got \u001B[39m\u001B[38;5;132;01m%s\u001B[39;00m\u001B[38;5;124m.\u001B[39m\u001B[38;5;124m\"\u001B[39m \u001B[38;5;241m%\u001B[39m \u001B[38;5;28mtype\u001B[39m(params)\n\u001B[1;32m    210\u001B[0m     )\n\nFile \u001B[0;32m/databricks/spark/python/pyspark/ml/pipeline.py:122\u001B[0m, in \u001B[0;36mPipeline._fit\u001B[0;34m(self, dataset)\u001B[0m\n\u001B[1;32m    120\u001B[0m \u001B[38;5;28;01mfor\u001B[39;00m stage \u001B[38;5;129;01min\u001B[39;00m stages:\n\u001B[1;32m    121\u001B[0m     \u001B[38;5;28;01mif\u001B[39;00m \u001B[38;5;129;01mnot\u001B[39;00m (\u001B[38;5;28misinstance\u001B[39m(stage, Estimator) \u001B[38;5;129;01mor\u001B[39;00m \u001B[38;5;28misinstance\u001B[39m(stage, Transformer)):\n\u001B[0;32m--> 122\u001B[0m         \u001B[38;5;28;01mraise\u001B[39;00m \u001B[38;5;167;01mTypeError\u001B[39;00m(\u001B[38;5;124m\"\u001B[39m\u001B[38;5;124mCannot recognize a pipeline stage of type \u001B[39m\u001B[38;5;132;01m%s\u001B[39;00m\u001B[38;5;124m.\u001B[39m\u001B[38;5;124m\"\u001B[39m \u001B[38;5;241m%\u001B[39m \u001B[38;5;28mtype\u001B[39m(stage))\n\u001B[1;32m    123\u001B[0m indexOfLastEstimator \u001B[38;5;241m=\u001B[39m \u001B[38;5;241m-\u001B[39m\u001B[38;5;241m1\u001B[39m\n\u001B[1;32m    124\u001B[0m \u001B[38;5;28;01mfor\u001B[39;00m i, stage \u001B[38;5;129;01min\u001B[39;00m \u001B[38;5;28menumerate\u001B[39m(stages):\n\n\u001B[0;31mTypeError\u001B[0m: Cannot recognize a pipeline stage of type <class 'module'>.",
       "errorSummary": "<span class='ansi-red-fg'>TypeError</span>: Cannot recognize a pipeline stage of type <class 'module'>.",
       "errorTraceType": "ansi",
       "metadata": {},
       "type": "ipynbError"
      }
     },
     "output_type": "display_data"
    }
   ],
   "source": [
    "#pblm pipeline\n",
    "resultGloveTest = pipelineGlove.fit(test).transform(test).cache()\n",
    "resultGloveTest.select(\"finished_embeddings_bert\").show(5, 200)"
   ]
  },
  {
   "cell_type": "code",
   "execution_count": 0,
   "metadata": {
    "application/vnd.databricks.v1+cell": {
     "cellMetadata": {
      "byteLimit": 2048000,
      "rowLimit": 10000
     },
     "inputWidgets": {},
     "nuid": "385bd2b3-10d0-4be7-a66e-e7bec7944d6e",
     "showTitle": false,
     "tableResultSettingsMap": {},
     "title": ""
    }
   },
   "outputs": [
    {
     "output_type": "stream",
     "name": "stdout",
     "output_type": "stream",
     "text": [
      "+---+-------+--------+------------------------------------------------------------------------------------------------+------------------------------------------------------------------------------------------------------------------------------------------+--------------------------------------------------------------------------------------------------------------------------------------------------------------------------------------------------------+--------------------------------------------------------------------------------------------------------------------------------------------------------------------------------------------------------+--------------------------------------------------------------------------------------------------------------------------------------------------------------------------------------------------------+--------------------------------------------------------------------------------------------------------------------------------------------------------------------------------------------------------+\n| id|keyword|location|                                                                                            text|                                                                                                                                  document|                                                                                                                                                                                                   token|                                                                                                                                                                                        glove_embeddings|                                                                                                                                                                               sentence_embeddings_glove|                                                                                                                                                                               finished_embeddings_glove|\n+---+-------+--------+------------------------------------------------------------------------------------------------+------------------------------------------------------------------------------------------------------------------------------------------+--------------------------------------------------------------------------------------------------------------------------------------------------------------------------------------------------------+--------------------------------------------------------------------------------------------------------------------------------------------------------------------------------------------------------+--------------------------------------------------------------------------------------------------------------------------------------------------------------------------------------------------------+--------------------------------------------------------------------------------------------------------------------------------------------------------------------------------------------------------+\n|  0|   null|    null|                                                              Just happened a terrible car crash|                                                              [{document, 0, 33, Just happened a terrible car crash, {sentence -> 0}, []}]|[{token, 0, 3, Just, {sentence -> 0}, []}, {token, 5, 12, happened, {sentence -> 0}, []}, {token, 14, 14, a, {sentence -> 0}, []}, {token, 16, 23, terrible, {sentence -> 0}, []}, {token, 25, 27, ca...|[{word_embeddings, 0, 3, Just, {isOOV -> false, pieceId -> -1, isWordStart -> true, token -> Just, sentence -> 0}, [-0.24005, 0.15426, -0.17838, 0.20981, -0.066943, 0.13387, -0.2579, -0.27093, 0.29...|[{sentence_embeddings, 0, 33, Just happened a terrible car crash, {sentence -> 0, token -> Just happened a terrible car crash, pieceId -> -1, isWordStart -> true}, [0.12036183, 0.03785733, -0.09125...|[[0.1203618273139,0.037857331335544586,-0.09125516563653946,-0.1840178370475769,-0.12349233031272888,-0.013411663472652435,-0.028739996254444122,0.07825849205255508,0.1439501792192459,-1.3446332216...|\n|  2|   null|    null|                                Heard about #earthquake is different cities, stay safe everyone.|                                [{document, 0, 63, Heard about #earthquake is different cities, stay safe everyone., {sentence -> 0}, []}]|[{token, 0, 4, Heard, {sentence -> 0}, []}, {token, 6, 10, about, {sentence -> 0}, []}, {token, 12, 22, #earthquake, {sentence -> 0}, []}, {token, 24, 25, is, {sentence -> 0}, []}, {token, 27, 35, ...|[{word_embeddings, 0, 4, Heard, {isOOV -> false, pieceId -> -1, isWordStart -> true, token -> Heard, sentence -> 0}, [-0.15705, 0.13373, -0.66166, -0.014984, -0.39615, -0.30146, 0.47952, 0.16239, -...|[{sentence_embeddings, 0, 63, Heard about #earthquake is different cities, stay safe everyone., {sentence -> 0, token -> Heard about #earthquake is different cities, stay safe everyone., pieceId ->...|[[-0.1545984447002411,-0.001895270892418921,0.05120636150240898,-0.10950100421905518,0.04543263465166092,0.08200632780790329,0.044895343482494354,0.10999364405870438,0.12287580221891403,-1.46676445...|\n|  3|   null|    null|there is a forest fire at spot pond, geese are fleeing across the street, I cannot save them all|[{document, 0, 95, there is a forest fire at spot pond, geese are fleeing across the street, I cannot save them all, {sentence -> 0}, []}]|[{token, 0, 4, there, {sentence -> 0}, []}, {token, 6, 7, is, {sentence -> 0}, []}, {token, 9, 9, a, {sentence -> 0}, []}, {token, 11, 16, forest, {sentence -> 0}, []}, {token, 18, 21, fire, {sente...|[{word_embeddings, 0, 4, there, {isOOV -> false, pieceId -> -1, isWordStart -> true, token -> there, sentence -> 0}, [-0.47618, 0.069478, -0.013086, 0.1742, -0.31518, 0.048258, -0.11683, -0.10624, ...|[{sentence_embeddings, 0, 95, there is a forest fire at spot pond, geese are fleeing across the street, I cannot save them all, {sentence -> 0, token -> there is a forest fire at spot pond, geese a...|[[-0.11264852434396744,0.07908333092927933,0.0012846468016505241,-0.023395538330078125,-0.04134400561451912,0.07974857091903687,0.05406325310468674,0.23913179337978363,0.0636436715722084,-1.3255819...|\n|  9|   null|    null|                                                        Apocalypse lighting. #Spokane #wildfires|                                                        [{document, 0, 39, Apocalypse lighting. #Spokane #wildfires, {sentence -> 0}, []}]|[{token, 0, 9, Apocalypse, {sentence -> 0}, []}, {token, 11, 18, lighting, {sentence -> 0}, []}, {token, 19, 19, ., {sentence -> 0}, []}, {token, 21, 28, #Spokane, {sentence -> 0}, []}, {token, 30,...|[{word_embeddings, 0, 9, Apocalypse, {isOOV -> false, pieceId -> -1, isWordStart -> true, token -> Apocalypse, sentence -> 0}, [-0.34802, -0.25425, 0.12142, 0.17234, -0.20711, 0.64658, -0.21027, -0...|[{sentence_embeddings, 0, 39, Apocalypse lighting. #Spokane #wildfires, {sentence -> 0, token -> Apocalypse lighting. #Spokane #wildfires, pieceId -> -1, isWordStart -> true}, [0.035378, -0.161004,...|[[0.035378001630306244,-0.16100400686264038,0.09895999729633331,-0.05316399782896042,-0.1360623985528946,0.16537240147590637,-0.042862001806497574,0.13798440992832184,0.019068002700805664,-0.398698...|\n| 11|   null|    null|                                                   Typhoon Soudelor kills 28 in China and Taiwan|                                                   [{document, 0, 44, Typhoon Soudelor kills 28 in China and Taiwan, {sentence -> 0}, []}]|[{token, 0, 6, Typhoon, {sentence -> 0}, []}, {token, 8, 15, Soudelor, {sentence -> 0}, []}, {token, 17, 21, kills, {sentence -> 0}, []}, {token, 23, 24, 28, {sentence -> 0}, []}, {token, 26, 27, i...|[{word_embeddings, 0, 6, Typhoon, {isOOV -> false, pieceId -> -1, isWordStart -> true, token -> Typhoon, sentence -> 0}, [-1.0155, -0.40174, -0.41924, -0.26513, 0.13077, -0.39249, 0.12787, 0.35312,...|[{sentence_embeddings, 0, 44, Typhoon Soudelor kills 28 in China and Taiwan, {sentence -> 0, token -> Typhoon Soudelor kills 28 in China and Taiwan, pieceId -> -1, isWordStart -> true}, [-0.282098,...|[[-0.2820979952812195,-0.05004262551665306,-0.14653661847114563,-0.19857224822044373,0.016379497945308685,-0.09022749960422516,0.01784750446677208,0.20637013018131256,0.14809152483940125,-1.0287988...|\n+---+-------+--------+------------------------------------------------------------------------------------------------+------------------------------------------------------------------------------------------------------------------------------------------+--------------------------------------------------------------------------------------------------------------------------------------------------------------------------------------------------------+--------------------------------------------------------------------------------------------------------------------------------------------------------------------------------------------------------+--------------------------------------------------------------------------------------------------------------------------------------------------------------------------------------------------------+--------------------------------------------------------------------------------------------------------------------------------------------------------------------------------------------------------+\nonly showing top 5 rows\n\n"
     ]
    }
   ],
   "source": [
    "documents = documentAssembler.transform(test)\n",
    "\n",
    "tokensEch = tokenizer.fit(documents).transform(documents)\n",
    "\n",
    "embedsEch = embeddings.transform(tokensEch)\n",
    "\n",
    "sentencesEch = embeddingsSentence.transform(embedsEch)\n",
    "\n",
    "resultGloveTest= embeddingsFinisher.transform(sentencesEch)\n",
    "resultGloveTest.show(5,200)\n"
   ]
  },
  {
   "cell_type": "code",
   "execution_count": 0,
   "metadata": {
    "application/vnd.databricks.v1+cell": {
     "cellMetadata": {
      "byteLimit": 2048000,
      "rowLimit": 10000
     },
     "inputWidgets": {},
     "nuid": "92edfbf4-b71f-4364-826b-6fc923aa334a",
     "showTitle": false,
     "tableResultSettingsMap": {},
     "title": ""
    }
   },
   "outputs": [
    {
     "output_type": "stream",
     "name": "stdout",
     "output_type": "stream",
     "text": [
      "+----------------------------+--------------------+----------+\n|finished_embeddings_glove[0]|       rawPrediction|prediction|\n+----------------------------+--------------------+----------+\n|        [0.1203618273139,...|[-2.8482491708328...|       1.0|\n|        [-0.1545984447002...|[0.65637886078200...|       0.0|\n|        [-0.1126485243439...|[-0.7085682208945...|       1.0|\n|        [0.03537800163030...|[1.32826587013576...|       0.0|\n|        [-0.2820979952812...|[-3.5929193293854...|       1.0|\n|        [-0.0528950020670...|[-1.2839426641031...|       1.0|\n|        [-0.1184807270765...|[1.48967971747082...|       0.0|\n|        [-0.1558066755533...|[2.80710778318092...|       0.0|\n|        [-0.1850659996271...|[3.09878485369937...|       0.0|\n|        [0.28944668173789...|[2.02136824324797...|       0.0|\n|        [-0.0552083365619...|[1.58857811092067...|       0.0|\n|        [0.04775938391685...|[2.32591771238418...|       0.0|\n|        [-0.0455352663993...|[2.11517266674227...|       0.0|\n|        [-0.1537660062313...|[1.72977264780163...|       0.0|\n|        [0.16746300458908...|[3.38087894376291...|       0.0|\n|        [-5.0712656229734...|[-0.1827511938296...|       1.0|\n|        [-0.0384842194616...|[1.93548181232840...|       0.0|\n|        [0.08240316808223...|[0.72566947602303...|       0.0|\n|        [-0.0020568892359...|[0.87180513062234...|       0.0|\n|        [-0.0256491396576...|[2.33289385086314...|       0.0|\n+----------------------------+--------------------+----------+\nonly showing top 20 rows\n\nOut[61]: 3261"
     ]
    }
   ],
   "source": [
    "emTest = resultGloveTest.selectExpr(\"finished_embeddings_glove[0]\")\n",
    "resultats_predictions = model.transform(emTest)\n",
    "resultats_predictions.show()\n",
    "resultats_predictions.count()\n"
   ]
  },
  {
   "cell_type": "code",
   "execution_count": 0,
   "metadata": {
    "application/vnd.databricks.v1+cell": {
     "cellMetadata": {
      "byteLimit": 2048000,
      "rowLimit": 10000
     },
     "inputWidgets": {},
     "nuid": "3efa81b0-ea82-41aa-9105-1d31b9ee528b",
     "showTitle": false,
     "tableResultSettingsMap": {},
     "title": ""
    }
   },
   "outputs": [
    {
     "output_type": "stream",
     "name": "stdout",
     "output_type": "stream",
     "text": [
      "root\n |-- id: string (nullable = true)\n |-- keyword: string (nullable = true)\n |-- location: string (nullable = true)\n |-- text: string (nullable = true)\n\nroot\n |-- finished_embeddings_glove[0]: vector (nullable = true)\n |-- rawPrediction: vector (nullable = true)\n |-- prediction: double (nullable = false)\n\n"
     ]
    }
   ],
   "source": [
    "test.printSchema()\n",
    "resultats_predictions.printSchema()"
   ]
  },
  {
   "cell_type": "code",
   "execution_count": 0,
   "metadata": {
    "application/vnd.databricks.v1+cell": {
     "cellMetadata": {
      "byteLimit": 2048000,
      "rowLimit": 10000
     },
     "inputWidgets": {},
     "nuid": "0873ca5d-e3ca-474e-95a5-d8251f2c8af0",
     "showTitle": false,
     "tableResultSettingsMap": {},
     "title": ""
    }
   },
   "outputs": [
    {
     "output_type": "stream",
     "name": "stdout",
     "output_type": "stream",
     "text": [
      "+---+-------+--------------------+--------------------+----------------------------+--------------------+----------+\n| id|keyword|            location|                text|finished_embeddings_glove[0]|       rawPrediction|prediction|\n+---+-------+--------------------+--------------------+----------------------------+--------------------+----------+\n|  0|   null|                null|Just happened a t...|        [0.1203618273139,...|[-2.8482491708328...|       1.0|\n|  2|   null|                null|Heard about #eart...|        [-0.1545984447002...|[0.65637886078200...|       0.0|\n|  3|   null|                null|there is a forest...|        [-0.1126485243439...|[-0.7085682208945...|       1.0|\n|  9|   null|                null|Apocalypse lighti...|        [0.03537800163030...|[1.32826587013576...|       0.0|\n| 11|   null|                null|Typhoon Soudelor ...|        [-0.2820979952812...|[-3.5929193293854...|       1.0|\n| 12|   null|                null|We're shaking...I...|        [-0.0528950020670...|[-1.2839426641031...|       1.0|\n| 21|   null|                null|They'd probably s...|        [-0.1184807270765...|[1.48967971747082...|       0.0|\n| 22|   null|                null|   Hey! How are you?|        [-0.1558066755533...|[2.80710778318092...|       0.0|\n| 27|   null|                null|    What a nice hat?|        [-0.1850659996271...|[3.09878485369937...|       0.0|\n| 29|   null|                null|           Fuck off!|        [0.28944668173789...|[2.02136824324797...|       0.0|\n| 30|   null|                null|No I don't like c...|        [-0.0552083365619...|[1.58857811092067...|       0.0|\n| 35|   null|                null|NOOOOOOOOO! Don't...|        [0.04775938391685...|[2.32591771238418...|       0.0|\n| 42|   null|                null|No don't tell me ...|        [-0.0455352663993...|[2.11517266674227...|       0.0|\n| 43|   null|                null|           What if?!|        [-0.1537660062313...|[1.72977264780163...|       0.0|\n| 45|   null|                null|            Awesome!|        [0.16746300458908...|[3.38087894376291...|       0.0|\n| 46| ablaze|              London|Birmingham Wholes...|        [-5.0712656229734...|[-0.1827511938296...|       1.0|\n| 47| ablaze|Niall's place | S...|@sunkxssedharry w...|        [-0.0384842194616...|[1.93548181232840...|       0.0|\n| 51| ablaze|             NIGERIA|#PreviouslyOnDoyi...|        [0.08240316808223...|[0.72566947602303...|       0.0|\n| 58| ablaze|      Live On Webcam|Check these out: ...|        [-0.0020568892359...|[0.87180513062234...|       0.0|\n| 60| ablaze|Los Angeles, Cali...|PSA: IÛªm splitt...|        [-0.0256491396576...|[2.33289385086314...|       0.0|\n+---+-------+--------------------+--------------------+----------------------------+--------------------+----------+\nonly showing top 20 rows\n\n"
     ]
    }
   ],
   "source": [
    "test = test.withColumn(\"row_index\", F.row_number().over(Window.orderBy(F.monotonically_increasing_id())))\n",
    "resultats_predictions = resultats_predictions.withColumn(\"row_index\", F.row_number().over(Window.orderBy(F.monotonically_increasing_id())))\n",
    "\n",
    "# Joindre les deux DataFrames sur \"row_index\"\n",
    "df_combined = test.join(resultats_predictions, on=\"row_index\", how=\"inner\").drop(\"row_index\")\n",
    "\n",
    "df_combined.show()"
   ]
  },
  {
   "cell_type": "code",
   "execution_count": 0,
   "metadata": {
    "application/vnd.databricks.v1+cell": {
     "cellMetadata": {
      "byteLimit": 2048000,
      "rowLimit": 10000
     },
     "inputWidgets": {},
     "nuid": "909231d3-4d92-41d5-be77-238042d1b603",
     "showTitle": false,
     "tableResultSettingsMap": {},
     "title": ""
    }
   },
   "outputs": [
    {
     "output_type": "stream",
     "name": "stdout",
     "output_type": "stream",
     "text": [
      "+---+----------+\n| id|prediction|\n+---+----------+\n|  0|       1.0|\n|  2|       0.0|\n|  3|       1.0|\n|  9|       0.0|\n| 11|       1.0|\n| 12|       1.0|\n| 21|       0.0|\n| 22|       0.0|\n| 27|       0.0|\n| 29|       0.0|\n| 30|       0.0|\n| 35|       0.0|\n| 42|       0.0|\n| 43|       0.0|\n| 45|       0.0|\n| 46|       1.0|\n| 47|       0.0|\n| 51|       0.0|\n| 58|       0.0|\n| 60|       0.0|\n+---+----------+\nonly showing top 20 rows\n\n"
     ]
    }
   ],
   "source": [
    "\n",
    "final = df_combined.select(\"id\", \"prediction\")\n",
    "final.show()"
   ]
  },
  {
   "cell_type": "code",
   "execution_count": 0,
   "metadata": {
    "application/vnd.databricks.v1+cell": {
     "cellMetadata": {
      "byteLimit": 2048000,
      "rowLimit": 10000
     },
     "inputWidgets": {},
     "nuid": "38b29a93-6241-441e-90e3-7d72ea61f216",
     "showTitle": false,
     "tableResultSettingsMap": {},
     "title": ""
    }
   },
   "outputs": [
    {
     "output_type": "stream",
     "name": "stdout",
     "output_type": "stream",
     "text": [
      "Fichier predictions.xlsx créé avec succès.\n"
     ]
    }
   ],
   "source": [
    "resultats_pandas = final.toPandas()\n",
    "\n",
    "# Convertir la colonne 'prediction' en entier\n",
    "resultats_pandas['prediction'] = resultats_pandas['prediction'].astype(int)\n",
    "\n",
    "# Créer une nouvelle colonne avec id et prediction séparés par une virgule\n",
    "resultats_pandas['id,target'] = resultats_pandas['id'] + ',' + resultats_pandas['prediction'].astype(str)\n",
    "\n",
    "# Conserver uniquement la nouvelle colonne 'id_target' pour le fichier Excel\n",
    "resultats_pandas_final = resultats_pandas[['id,target']]\n",
    "\n",
    "# Sauvegarder le DataFrame modifié en tant que fichier Excel\n",
    "resultats_pandas_final.to_excel(\"/tmp/predictions.xlsx\", index=False)\n",
    "\n",
    "\n",
    "\n",
    "print(\"Fichier predictions.xlsx créé avec succès.\")"
   ]
  },
  {
   "cell_type": "code",
   "execution_count": 0,
   "metadata": {
    "application/vnd.databricks.v1+cell": {
     "cellMetadata": {
      "byteLimit": 2048000,
      "rowLimit": 10000
     },
     "inputWidgets": {},
     "nuid": "2ca57e91-3366-41ce-b298-10947350080d",
     "showTitle": false,
     "tableResultSettingsMap": {},
     "title": ""
    }
   },
   "outputs": [
    {
     "output_type": "display_data",
     "data": {
      "text/html": [
       "<div>\n",
       "<style scoped>\n",
       "    .dataframe tbody tr th:only-of-type {\n",
       "        vertical-align: middle;\n",
       "    }\n",
       "\n",
       "    .dataframe tbody tr th {\n",
       "        vertical-align: top;\n",
       "    }\n",
       "\n",
       "    .dataframe thead th {\n",
       "        text-align: right;\n",
       "    }\n",
       "</style>\n",
       "<table border=\"1\" class=\"dataframe\">\n",
       "  <thead>\n",
       "    <tr style=\"text-align: right;\">\n",
       "      <th></th>\n",
       "      <th>id</th>\n",
       "      <th>prediction</th>\n",
       "      <th>id,target</th>\n",
       "    </tr>\n",
       "  </thead>\n",
       "  <tbody>\n",
       "    <tr>\n",
       "      <th>0</th>\n",
       "      <td>0</td>\n",
       "      <td>1</td>\n",
       "      <td>0,1</td>\n",
       "    </tr>\n",
       "    <tr>\n",
       "      <th>1</th>\n",
       "      <td>2</td>\n",
       "      <td>0</td>\n",
       "      <td>2,0</td>\n",
       "    </tr>\n",
       "    <tr>\n",
       "      <th>2</th>\n",
       "      <td>3</td>\n",
       "      <td>1</td>\n",
       "      <td>3,1</td>\n",
       "    </tr>\n",
       "    <tr>\n",
       "      <th>3</th>\n",
       "      <td>9</td>\n",
       "      <td>0</td>\n",
       "      <td>9,0</td>\n",
       "    </tr>\n",
       "    <tr>\n",
       "      <th>4</th>\n",
       "      <td>11</td>\n",
       "      <td>1</td>\n",
       "      <td>11,1</td>\n",
       "    </tr>\n",
       "    <tr>\n",
       "      <th>...</th>\n",
       "      <td>...</td>\n",
       "      <td>...</td>\n",
       "      <td>...</td>\n",
       "    </tr>\n",
       "    <tr>\n",
       "      <th>3256</th>\n",
       "      <td>10861</td>\n",
       "      <td>1</td>\n",
       "      <td>10861,1</td>\n",
       "    </tr>\n",
       "    <tr>\n",
       "      <th>3257</th>\n",
       "      <td>10865</td>\n",
       "      <td>1</td>\n",
       "      <td>10865,1</td>\n",
       "    </tr>\n",
       "    <tr>\n",
       "      <th>3258</th>\n",
       "      <td>10868</td>\n",
       "      <td>1</td>\n",
       "      <td>10868,1</td>\n",
       "    </tr>\n",
       "    <tr>\n",
       "      <th>3259</th>\n",
       "      <td>10874</td>\n",
       "      <td>1</td>\n",
       "      <td>10874,1</td>\n",
       "    </tr>\n",
       "    <tr>\n",
       "      <th>3260</th>\n",
       "      <td>10875</td>\n",
       "      <td>0</td>\n",
       "      <td>10875,0</td>\n",
       "    </tr>\n",
       "  </tbody>\n",
       "</table>\n",
       "<p>3261 rows × 3 columns</p>\n",
       "</div>"
      ]
     },
     "metadata": {
      "application/vnd.databricks.v1+output": {
       "addedWidgets": {},
       "arguments": {},
       "data": "<div>\n<style scoped>\n    .dataframe tbody tr th:only-of-type {\n        vertical-align: middle;\n    }\n\n    .dataframe tbody tr th {\n        vertical-align: top;\n    }\n\n    .dataframe thead th {\n        text-align: right;\n    }\n</style>\n<table border=\"1\" class=\"dataframe\">\n  <thead>\n    <tr style=\"text-align: right;\">\n      <th></th>\n      <th>id</th>\n      <th>prediction</th>\n      <th>id,target</th>\n    </tr>\n  </thead>\n  <tbody>\n    <tr>\n      <th>0</th>\n      <td>0</td>\n      <td>1</td>\n      <td>0,1</td>\n    </tr>\n    <tr>\n      <th>1</th>\n      <td>2</td>\n      <td>0</td>\n      <td>2,0</td>\n    </tr>\n    <tr>\n      <th>2</th>\n      <td>3</td>\n      <td>1</td>\n      <td>3,1</td>\n    </tr>\n    <tr>\n      <th>3</th>\n      <td>9</td>\n      <td>0</td>\n      <td>9,0</td>\n    </tr>\n    <tr>\n      <th>4</th>\n      <td>11</td>\n      <td>1</td>\n      <td>11,1</td>\n    </tr>\n    <tr>\n      <th>...</th>\n      <td>...</td>\n      <td>...</td>\n      <td>...</td>\n    </tr>\n    <tr>\n      <th>3256</th>\n      <td>10861</td>\n      <td>1</td>\n      <td>10861,1</td>\n    </tr>\n    <tr>\n      <th>3257</th>\n      <td>10865</td>\n      <td>1</td>\n      <td>10865,1</td>\n    </tr>\n    <tr>\n      <th>3258</th>\n      <td>10868</td>\n      <td>1</td>\n      <td>10868,1</td>\n    </tr>\n    <tr>\n      <th>3259</th>\n      <td>10874</td>\n      <td>1</td>\n      <td>10874,1</td>\n    </tr>\n    <tr>\n      <th>3260</th>\n      <td>10875</td>\n      <td>0</td>\n      <td>10875,0</td>\n    </tr>\n  </tbody>\n</table>\n<p>3261 rows × 3 columns</p>\n</div>",
       "datasetInfos": [],
       "metadata": {},
       "removedWidgets": [],
       "textData": null,
       "type": "htmlSandbox"
      }
     },
     "output_type": "display_data"
    }
   ],
   "source": [
    "resultats_pandas"
   ]
  },
  {
   "cell_type": "code",
   "execution_count": 0,
   "metadata": {
    "application/vnd.databricks.v1+cell": {
     "cellMetadata": {
      "byteLimit": 2048000,
      "rowLimit": 10000
     },
     "inputWidgets": {},
     "nuid": "d67b914b-cbdc-4800-ad89-333ca970edcb",
     "showTitle": false,
     "tableResultSettingsMap": {},
     "title": ""
    }
   },
   "outputs": [
    {
     "output_type": "display_data",
     "data": {
      "text/html": [
       "<a download=\"predictions.xlsx\" href=\"data:application/vnd.openxmlformats-officedocument.spreadsheetml.sheet;base64,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\">Cliquez ici pour télécharger predictions.xlsx</a>"
      ]
     },
     "metadata": {
      "application/vnd.databricks.v1+output": {
       "addedWidgets": {},
       "arguments": {},
       "data": "<a download=\"predictions.xlsx\" href=\"data:application/vnd.openxmlformats-officedocument.spreadsheetml.sheet;base64,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\">Cliquez ici pour télécharger predictions.xlsx</a>",
       "datasetInfos": [],
       "metadata": {},
       "removedWidgets": [],
       "textData": null,
       "type": "htmlSandbox"
      }
     },
     "output_type": "display_data"
    }
   ],
   "source": [
    "import base64\n",
    "from IPython.display import HTML\n",
    "\n",
    "file_path = \"/tmp/predictions.xlsx\"\n",
    "\n",
    "# Lire le fichier en mode binaire et encoder en base64\n",
    "with open(file_path, \"rb\") as f:\n",
    "    data = f.read()\n",
    "    b64_data = base64.b64encode(data).decode()\n",
    "\n",
    "# Créer un lien de téléchargement\n",
    "download_link = f'<a download=\"predictions.xlsx\" href=\"data:application/vnd.openxmlformats-officedocument.spreadsheetml.sheet;base64,{b64_data}\">Cliquez ici pour télécharger predictions.xlsx</a>'\n",
    "\n",
    "# Afficher le lien dans le notebook\n",
    "display(HTML(download_link))"
   ]
  },
  {
   "cell_type": "markdown",
   "metadata": {
    "application/vnd.databricks.v1+cell": {
     "cellMetadata": {},
     "inputWidgets": {},
     "nuid": "f6ca9e20-3f58-452a-bc9e-dcd10648a58d",
     "showTitle": false,
     "tableResultSettingsMap": {},
     "title": ""
    }
   },
   "source": [
    "resultat avec glove : 0,78394\n"
   ]
  }
 ],
 "metadata": {
  "application/vnd.databricks.v1+notebook": {
   "dashboards": [],
   "environmentMetadata": null,
   "language": "python",
   "notebookMetadata": {
    "pythonIndentUnit": 4
   },
   "notebookName": "Notebook sans titre 2024-10-29 16:21:32",
   "widgets": {}
  }
 },
 "nbformat": 4,
 "nbformat_minor": 0
}
